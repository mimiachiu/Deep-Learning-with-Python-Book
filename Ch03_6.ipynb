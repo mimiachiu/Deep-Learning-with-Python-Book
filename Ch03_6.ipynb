{
  "nbformat": 4,
  "nbformat_minor": 0,
  "metadata": {
    "colab": {
      "name": "Ch03-6.ipynb",
      "provenance": [],
      "collapsed_sections": [],
      "authorship_tag": "ABX9TyN59q98MRPezcnB3q0tbIct",
      "include_colab_link": true
    },
    "kernelspec": {
      "name": "python3",
      "display_name": "Python 3"
    },
    "accelerator": "GPU"
  },
  "cells": [
    {
      "cell_type": "markdown",
      "metadata": {
        "id": "view-in-github",
        "colab_type": "text"
      },
      "source": [
        "<a href=\"https://colab.research.google.com/github/mimiachiu/Deep-Learning-with-Python-Book/blob/master/Ch03_6.ipynb\" target=\"_parent\"><img src=\"https://colab.research.google.com/assets/colab-badge.svg\" alt=\"Open In Colab\"/></a>"
      ]
    },
    {
      "cell_type": "code",
      "metadata": {
        "id": "09e80_rdOCI5",
        "colab_type": "code",
        "colab": {
          "base_uri": "https://localhost:8080/",
          "height": 34
        },
        "outputId": "d2802e88-a572-47fa-d9d6-827ffb8d8864"
      },
      "source": [
        "%tensorflow_version 1.x"
      ],
      "execution_count": 1,
      "outputs": [
        {
          "output_type": "stream",
          "text": [
            "TensorFlow 1.x selected.\n"
          ],
          "name": "stdout"
        }
      ]
    },
    {
      "cell_type": "code",
      "metadata": {
        "id": "gzV9NCLuOFEU",
        "colab_type": "code",
        "colab": {
          "base_uri": "https://localhost:8080/",
          "height": 153
        },
        "outputId": "5cb6c989-7843-4d90-fec9-40d5f20a064c"
      },
      "source": [
        "pip install keras"
      ],
      "execution_count": 2,
      "outputs": [
        {
          "output_type": "stream",
          "text": [
            "Requirement already satisfied: keras in /usr/local/lib/python3.6/dist-packages (2.3.1)\n",
            "Requirement already satisfied: keras-preprocessing>=1.0.5 in /usr/local/lib/python3.6/dist-packages (from keras) (1.1.2)\n",
            "Requirement already satisfied: h5py in /usr/local/lib/python3.6/dist-packages (from keras) (2.10.0)\n",
            "Requirement already satisfied: pyyaml in /usr/local/lib/python3.6/dist-packages (from keras) (3.13)\n",
            "Requirement already satisfied: six>=1.9.0 in /usr/local/lib/python3.6/dist-packages (from keras) (1.12.0)\n",
            "Requirement already satisfied: keras-applications>=1.0.6 in /usr/local/lib/python3.6/dist-packages (from keras) (1.0.8)\n",
            "Requirement already satisfied: scipy>=0.14 in /usr/local/lib/python3.6/dist-packages (from keras) (1.4.1)\n",
            "Requirement already satisfied: numpy>=1.9.1 in /usr/local/lib/python3.6/dist-packages (from keras) (1.18.5)\n"
          ],
          "name": "stdout"
        }
      ]
    },
    {
      "cell_type": "code",
      "metadata": {
        "id": "fuhC54TVOGep",
        "colab_type": "code",
        "colab": {
          "base_uri": "https://localhost:8080/",
          "height": 68
        },
        "outputId": "b06023a7-b5b3-4c68-9a81-d2deb6bc31b1"
      },
      "source": [
        "from keras.datasets import boston_housing #從keras匯入波士頓房價資料集\n",
        "(train_data, train_targets), (test_data, test_targets) = boston_housing.load_data() #載入資料並分成訓練和測試"
      ],
      "execution_count": 3,
      "outputs": [
        {
          "output_type": "stream",
          "text": [
            "Using TensorFlow backend.\n"
          ],
          "name": "stderr"
        },
        {
          "output_type": "stream",
          "text": [
            "Downloading data from https://s3.amazonaws.com/keras-datasets/boston_housing.npz\n",
            "57344/57026 [==============================] - 0s 1us/step\n"
          ],
          "name": "stdout"
        }
      ]
    },
    {
      "cell_type": "code",
      "metadata": {
        "id": "DUtZWG6O4Udi",
        "colab_type": "code",
        "colab": {
          "base_uri": "https://localhost:8080/",
          "height": 34
        },
        "outputId": "c2e51815-4bb5-46a9-f28c-82fc5e4e2d9a"
      },
      "source": [
        "print(train_data.shape) #共有404筆訓練資料，每筆資料有13個數值特徵"
      ],
      "execution_count": 4,
      "outputs": [
        {
          "output_type": "stream",
          "text": [
            "(404, 13)\n"
          ],
          "name": "stdout"
        }
      ]
    },
    {
      "cell_type": "code",
      "metadata": {
        "id": "HK0y7SYGObri",
        "colab_type": "code",
        "colab": {}
      },
      "source": [
        "#正規化資料，請注意，要對測試資料進行正規化，必須使用訓練資料集來計算mean和std。\n",
        "mean = train_data.mean(axis=0)\n",
        "train_data -= mean\n",
        "std = train_data.std(axis=0)\n",
        "train_data /= std\n",
        "\n",
        "test_data -= mean\n",
        "test_data /=std"
      ],
      "execution_count": 5,
      "outputs": []
    },
    {
      "cell_type": "code",
      "metadata": {
        "id": "BZ4D5N0KO3UD",
        "colab_type": "code",
        "colab": {}
      },
      "source": [
        "from keras import models\n",
        "from keras import layers\n",
        "#建立模型\n",
        "def build_model():\n",
        "    model = models.Sequential()\n",
        "    model.add(layers.Dense(64, activation='relu', input_shape=(train_data.shape[1], )))\n",
        "    model.add(layers.Dense(64, activation='relu'))\n",
        "    model.add(layers.Dense(1))\n",
        "    model.compile(optimizer='rmsprop', \n",
        "                  loss='mse', \n",
        "                  metrics=['mae'])\n",
        "    return model"
      ],
      "execution_count": 6,
      "outputs": []
    },
    {
      "cell_type": "code",
      "metadata": {
        "id": "F2F07vmsQ_cE",
        "colab_type": "code",
        "colab": {}
      },
      "source": [
        "import numpy as np\n",
        "\n",
        "k = 4\n",
        "num_val_samples = len(train_data) // k\n",
        "num_epochs = 500\n",
        "all_mae_histories = []"
      ],
      "execution_count": 7,
      "outputs": []
    },
    {
      "cell_type": "code",
      "metadata": {
        "id": "65_0QyH1SIta",
        "colab_type": "code",
        "colab": {
          "base_uri": "https://localhost:8080/",
          "height": 190
        },
        "outputId": "449dd81e-86be-41a1-e0e7-d3eff2baf893"
      },
      "source": [
        "#使用K折交叉驗證(K-fold cross validation)\n",
        "for i in range(k):\n",
        "    print('processing fold #', i)\n",
        "    val_data = train_data[i * num_val_samples: (i + 1) * num_val_samples]\n",
        "    val_targets = train_targets[i * num_val_samples: (i + 1) * num_val_samples]\n",
        "    partial_train_data = np.concatenate([train_data[:i * num_val_samples],\n",
        "                                         train_data[(i + 1) * num_val_samples:]],\n",
        "                                         axis=0)\n",
        "    partial_target_data = np.concatenate([train_targets[:i * num_val_samples],\n",
        "                                          train_targets[(i + 1) * num_val_samples:]],\n",
        "                                          axis=0)\n",
        "    \n",
        "    model = build_model()\n",
        "    history = model.fit(partial_train_data, partial_target_data,\n",
        "                        validation_data=(val_data, val_targets),\n",
        "                        epochs=num_epochs, batch_size=1, verbose=0)\n",
        "    \n",
        "    mae_history = history.history['val_mae']\n",
        "    all_mae_histories.append(mae_history) #儲存每折的驗證記錄"
      ],
      "execution_count": 8,
      "outputs": [
        {
          "output_type": "stream",
          "text": [
            "processing fold # 0\n",
            "WARNING:tensorflow:From /tensorflow-1.15.2/python3.6/tensorflow_core/python/ops/resource_variable_ops.py:1630: calling BaseResourceVariable.__init__ (from tensorflow.python.ops.resource_variable_ops) with constraint is deprecated and will be removed in a future version.\n",
            "Instructions for updating:\n",
            "If using Keras pass *_constraint arguments to layers.\n",
            "WARNING:tensorflow:From /usr/local/lib/python3.6/dist-packages/keras/backend/tensorflow_backend.py:422: The name tf.global_variables is deprecated. Please use tf.compat.v1.global_variables instead.\n",
            "\n",
            "processing fold # 1\n",
            "processing fold # 2\n",
            "processing fold # 3\n"
          ],
          "name": "stdout"
        }
      ]
    },
    {
      "cell_type": "code",
      "metadata": {
        "id": "PodTqtYMUiHc",
        "colab_type": "code",
        "colab": {
          "base_uri": "https://localhost:8080/",
          "height": 1000
        },
        "outputId": "d1e87e48-9c26-4439-d94f-c241f0893fce"
      },
      "source": [
        "#建立每一次epoch的平均K折\n",
        "average_mae_history = [np.mean([x[i] for x in all_mae_histories]) for i in range(num_epochs)]\n",
        "average_mae_history"
      ],
      "execution_count": 9,
      "outputs": [
        {
          "output_type": "execute_result",
          "data": {
            "text/plain": [
              "[4.297245800495148,\n",
              " 3.457279324531555,\n",
              " 3.0948559045791626,\n",
              " 2.8838711977005005,\n",
              " 2.8875167965888977,\n",
              " 2.8390104174613953,\n",
              " 2.716680645942688,\n",
              " 2.6419106125831604,\n",
              " 2.6140487790107727,\n",
              " 2.718631625175476,\n",
              " 2.675869941711426,\n",
              " 2.566514015197754,\n",
              " 2.6357967853546143,\n",
              " 2.6194096207618713,\n",
              " 2.647101938724518,\n",
              " 2.5088308453559875,\n",
              " 2.545796662569046,\n",
              " 2.413841277360916,\n",
              " 2.406209170818329,\n",
              " 2.5389843583106995,\n",
              " 2.385070562362671,\n",
              " 2.647051513195038,\n",
              " 2.5304230451583862,\n",
              " 2.461408257484436,\n",
              " 2.4388184547424316,\n",
              " 2.4702850580215454,\n",
              " 2.44390669465065,\n",
              " 2.536294639110565,\n",
              " 2.4003564715385437,\n",
              " 2.538542926311493,\n",
              " 2.320877194404602,\n",
              " 2.450422465801239,\n",
              " 2.5313647389411926,\n",
              " 2.6405853629112244,\n",
              " 2.5876899361610413,\n",
              " 2.3638328909873962,\n",
              " 2.557907819747925,\n",
              " 2.449407398700714,\n",
              " 2.334193229675293,\n",
              " 2.3754953145980835,\n",
              " 2.4349175095558167,\n",
              " 2.467868387699127,\n",
              " 2.356740176677704,\n",
              " 2.374552309513092,\n",
              " 2.55586576461792,\n",
              " 2.4696123600006104,\n",
              " 2.525792181491852,\n",
              " 2.4281651973724365,\n",
              " 2.440545082092285,\n",
              " 2.5058866143226624,\n",
              " 2.4936471581459045,\n",
              " 2.485383152961731,\n",
              " 2.4091127514839172,\n",
              " 2.564998149871826,\n",
              " 2.394752651453018,\n",
              " 2.3868099451065063,\n",
              " 2.431488513946533,\n",
              " 2.3823792338371277,\n",
              " 2.449093520641327,\n",
              " 2.487379729747772,\n",
              " 2.63091903924942,\n",
              " 2.497066557407379,\n",
              " 2.440214157104492,\n",
              " 2.59027361869812,\n",
              " 2.3881558775901794,\n",
              " 2.3302072286605835,\n",
              " 2.430464804172516,\n",
              " 2.4085572957992554,\n",
              " 2.4802663326263428,\n",
              " 2.496424913406372,\n",
              " 2.3920176923274994,\n",
              " 2.3798474073410034,\n",
              " 2.6044821739196777,\n",
              " 2.4317747354507446,\n",
              " 2.5403313636779785,\n",
              " 2.459868907928467,\n",
              " 2.6303845643997192,\n",
              " 2.431603491306305,\n",
              " 2.366501748561859,\n",
              " 2.407011866569519,\n",
              " 2.445212185382843,\n",
              " 2.5451794862747192,\n",
              " 2.4944852590560913,\n",
              " 2.4355355501174927,\n",
              " 2.5902878046035767,\n",
              " 2.490702509880066,\n",
              " 2.4952216744422913,\n",
              " 2.6081674695014954,\n",
              " 2.4925090670585632,\n",
              " 2.4666430950164795,\n",
              " 2.5298705101013184,\n",
              " 2.4392704367637634,\n",
              " 2.3909189701080322,\n",
              " 2.4008466005325317,\n",
              " 2.4277719259262085,\n",
              " 2.467853844165802,\n",
              " 2.4934622645378113,\n",
              " 2.431886315345764,\n",
              " 2.6575032472610474,\n",
              " 2.5383636951446533,\n",
              " 2.493487536907196,\n",
              " 2.4883108735084534,\n",
              " 2.440159320831299,\n",
              " 2.4303937554359436,\n",
              " 2.480105936527252,\n",
              " 2.614361882209778,\n",
              " 2.7075361013412476,\n",
              " 2.6964710354804993,\n",
              " 2.5865055322647095,\n",
              " 2.850114405155182,\n",
              " 2.525734782218933,\n",
              " 2.5174256563186646,\n",
              " 2.4674599170684814,\n",
              " 2.513017237186432,\n",
              " 2.5078158378601074,\n",
              " 2.6749938130378723,\n",
              " 2.5185298919677734,\n",
              " 2.5387903451919556,\n",
              " 2.5917475819587708,\n",
              " 2.610377252101898,\n",
              " 2.656725585460663,\n",
              " 2.5004855394363403,\n",
              " 2.514088451862335,\n",
              " 2.5828539729118347,\n",
              " 2.6472174525260925,\n",
              " 2.684017777442932,\n",
              " 2.5717243552207947,\n",
              " 2.5253250002861023,\n",
              " 2.610766291618347,\n",
              " 2.6763837337493896,\n",
              " 2.8438217639923096,\n",
              " 2.6941176056861877,\n",
              " 2.616097867488861,\n",
              " 2.546972334384918,\n",
              " 2.476925313472748,\n",
              " 2.582794427871704,\n",
              " 2.5903085470199585,\n",
              " 2.629356324672699,\n",
              " 2.648282825946808,\n",
              " 2.678728401660919,\n",
              " 2.6228283643722534,\n",
              " 2.5707977414131165,\n",
              " 2.6385740637779236,\n",
              " 2.654765546321869,\n",
              " 2.540478825569153,\n",
              " 2.6976060271263123,\n",
              " 2.6042566895484924,\n",
              " 2.679533839225769,\n",
              " 2.7686429619789124,\n",
              " 2.698903739452362,\n",
              " 2.5362096428871155,\n",
              " 2.691867411136627,\n",
              " 2.6349933743476868,\n",
              " 2.727204382419586,\n",
              " 2.578815460205078,\n",
              " 2.713207483291626,\n",
              " 2.7318699955940247,\n",
              " 2.6727461218833923,\n",
              " 2.74969881772995,\n",
              " 2.6566578149795532,\n",
              " 2.766204595565796,\n",
              " 2.5975998044013977,\n",
              " 2.690511643886566,\n",
              " 2.6702075004577637,\n",
              " 2.7263875603675842,\n",
              " 2.7794044613838196,\n",
              " 2.739858567714691,\n",
              " 2.6882598996162415,\n",
              " 2.754657745361328,\n",
              " 2.8232427835464478,\n",
              " 2.7530698776245117,\n",
              " 2.803216338157654,\n",
              " 2.7154704332351685,\n",
              " 2.8204734325408936,\n",
              " 2.839210033416748,\n",
              " 2.8374107480049133,\n",
              " 2.6806720495224,\n",
              " 2.801133632659912,\n",
              " 2.6911470890045166,\n",
              " 2.713222563266754,\n",
              " 2.718368172645569,\n",
              " 2.8475311994552612,\n",
              " 2.8854058980941772,\n",
              " 2.7689492106437683,\n",
              " 2.7075348496437073,\n",
              " 2.805344343185425,\n",
              " 2.7488635182380676,\n",
              " 2.7843223214149475,\n",
              " 2.730010449886322,\n",
              " 2.720936357975006,\n",
              " 2.7670150995254517,\n",
              " 2.8870994448661804,\n",
              " 2.6914864778518677,\n",
              " 2.79640793800354,\n",
              " 2.7450966238975525,\n",
              " 2.7413878440856934,\n",
              " 2.608557641506195,\n",
              " 2.743299722671509,\n",
              " 2.70564728975296,\n",
              " 2.8961686491966248,\n",
              " 2.7877599596977234,\n",
              " 2.67867910861969,\n",
              " 2.7137109637260437,\n",
              " 2.69581538438797,\n",
              " 2.8079989552497864,\n",
              " 2.7760948538780212,\n",
              " 2.681207776069641,\n",
              " 2.841767430305481,\n",
              " 2.819598436355591,\n",
              " 2.662871539592743,\n",
              " 2.7883428931236267,\n",
              " 2.8750483989715576,\n",
              " 2.7518600821495056,\n",
              " 2.758704662322998,\n",
              " 2.7850615978240967,\n",
              " 2.6893534660339355,\n",
              " 2.81895112991333,\n",
              " 2.828812301158905,\n",
              " 2.813253939151764,\n",
              " 2.802140533924103,\n",
              " 2.7590615153312683,\n",
              " 2.897882878780365,\n",
              " 2.7728639245033264,\n",
              " 2.7251983880996704,\n",
              " 2.8147435188293457,\n",
              " 2.7520331740379333,\n",
              " 2.7539204359054565,\n",
              " 2.755345642566681,\n",
              " 2.6844008564949036,\n",
              " 2.7947524785995483,\n",
              " 2.8667104840278625,\n",
              " 2.810879707336426,\n",
              " 2.8818092942237854,\n",
              " 2.8522937893867493,\n",
              " 2.822619378566742,\n",
              " 2.913568139076233,\n",
              " 2.945822536945343,\n",
              " 2.7151113152503967,\n",
              " 2.799903988838196,\n",
              " 2.8661691546440125,\n",
              " 2.9598666429519653,\n",
              " 2.7410967350006104,\n",
              " 2.774122953414917,\n",
              " 2.7778504490852356,\n",
              " 2.770875632762909,\n",
              " 2.7958701848983765,\n",
              " 2.7465381622314453,\n",
              " 2.756280779838562,\n",
              " 2.67495197057724,\n",
              " 2.8577125668525696,\n",
              " 2.7843584418296814,\n",
              " 2.7697601914405823,\n",
              " 2.731592118740082,\n",
              " 2.912666082382202,\n",
              " 2.77093368768692,\n",
              " 2.9183287620544434,\n",
              " 2.8383246064186096,\n",
              " 2.7129176259040833,\n",
              " 2.796011447906494,\n",
              " 2.9107800722122192,\n",
              " 2.744908928871155,\n",
              " 2.7972869873046875,\n",
              " 2.9586902856826782,\n",
              " 2.8473376631736755,\n",
              " 2.851905643939972,\n",
              " 2.8242228627204895,\n",
              " 2.832390546798706,\n",
              " 2.7973204255104065,\n",
              " 2.871490776538849,\n",
              " 2.816729784011841,\n",
              " 2.774523675441742,\n",
              " 2.8645229935646057,\n",
              " 2.8089486956596375,\n",
              " 2.7299320697784424,\n",
              " 2.749324381351471,\n",
              " 2.7493717670440674,\n",
              " 2.73384690284729,\n",
              " 2.855027198791504,\n",
              " 2.754966914653778,\n",
              " 2.8826422691345215,\n",
              " 2.8141775727272034,\n",
              " 2.7447068095207214,\n",
              " 2.7736957669258118,\n",
              " 2.725948691368103,\n",
              " 2.6667808294296265,\n",
              " 2.8008065819740295,\n",
              " 2.8388665318489075,\n",
              " 2.794101059436798,\n",
              " 2.937602400779724,\n",
              " 2.765087366104126,\n",
              " 2.804435431957245,\n",
              " 2.7812849283218384,\n",
              " 2.8081255555152893,\n",
              " 2.937729060649872,\n",
              " 2.8292800188064575,\n",
              " 2.8612682223320007,\n",
              " 2.762659430503845,\n",
              " 2.7546505331993103,\n",
              " 2.807034432888031,\n",
              " 2.710365891456604,\n",
              " 2.787836492061615,\n",
              " 2.829093337059021,\n",
              " 2.8797776103019714,\n",
              " 2.7717201113700867,\n",
              " 2.8321099281311035,\n",
              " 2.7481982707977295,\n",
              " 2.809713363647461,\n",
              " 2.8131556510925293,\n",
              " 2.777752697467804,\n",
              " 2.8239200115203857,\n",
              " 2.784039556980133,\n",
              " 2.7381551265716553,\n",
              " 2.7552988529205322,\n",
              " 2.8676469326019287,\n",
              " 2.8243090510368347,\n",
              " 2.848427712917328,\n",
              " 2.838861048221588,\n",
              " 2.779440701007843,\n",
              " 2.9007540941238403,\n",
              " 2.816679537296295,\n",
              " 2.862849235534668,\n",
              " 2.7214115262031555,\n",
              " 2.7882555723190308,\n",
              " 2.798292636871338,\n",
              " 2.7880662083625793,\n",
              " 2.83755624294281,\n",
              " 2.790906310081482,\n",
              " 2.874189019203186,\n",
              " 2.8559922575950623,\n",
              " 2.711747169494629,\n",
              " 2.8225533962249756,\n",
              " 2.8045100569725037,\n",
              " 2.818630576133728,\n",
              " 2.887405514717102,\n",
              " 2.795427978038788,\n",
              " 2.8039510250091553,\n",
              " 2.8717440962791443,\n",
              " 2.729057490825653,\n",
              " 2.7830573320388794,\n",
              " 2.810066878795624,\n",
              " 2.8572018146514893,\n",
              " 2.84677654504776,\n",
              " 2.7276350259780884,\n",
              " 2.7005228400230408,\n",
              " 2.7116528153419495,\n",
              " 2.816268742084503,\n",
              " 2.7053893208503723,\n",
              " 2.683954119682312,\n",
              " 2.9201861023902893,\n",
              " 2.79215008020401,\n",
              " 2.8193023204803467,\n",
              " 2.7663342356681824,\n",
              " 2.8105135560035706,\n",
              " 2.844112753868103,\n",
              " 2.879281163215637,\n",
              " 2.7551311254501343,\n",
              " 2.7757714986801147,\n",
              " 2.749271810054779,\n",
              " 2.6723222136497498,\n",
              " 2.743449628353119,\n",
              " 2.916067659854889,\n",
              " 2.7915019392967224,\n",
              " 2.7191675305366516,\n",
              " 2.7191538214683533,\n",
              " 2.7220925092697144,\n",
              " 2.7210559844970703,\n",
              " 2.7028086185455322,\n",
              " 2.739824056625366,\n",
              " 2.793591797351837,\n",
              " 2.628045082092285,\n",
              " 2.8282777070999146,\n",
              " 2.801646888256073,\n",
              " 2.80956894159317,\n",
              " 2.737948477268219,\n",
              " 2.768911123275757,\n",
              " 2.7690407633781433,\n",
              " 2.792876899242401,\n",
              " 2.717189133167267,\n",
              " 2.747451663017273,\n",
              " 2.7842971682548523,\n",
              " 2.7356618642807007,\n",
              " 2.77155601978302,\n",
              " 2.7282487750053406,\n",
              " 2.709163248538971,\n",
              " 2.773857891559601,\n",
              " 2.837296485900879,\n",
              " 2.7286248207092285,\n",
              " 2.803532063961029,\n",
              " 2.721240818500519,\n",
              " 2.7740177512168884,\n",
              " 2.8012068271636963,\n",
              " 2.728925406932831,\n",
              " 2.7417078018188477,\n",
              " 2.7652266025543213,\n",
              " 2.713746964931488,\n",
              " 2.7381163835525513,\n",
              " 2.7576658725738525,\n",
              " 2.91600638628006,\n",
              " 2.7278248071670532,\n",
              " 2.660117268562317,\n",
              " 2.8268699049949646,\n",
              " 2.7857311964035034,\n",
              " 2.7317089438438416,\n",
              " 2.876065969467163,\n",
              " 2.84348326921463,\n",
              " 2.7940787076950073,\n",
              " 2.897968828678131,\n",
              " 2.9485658407211304,\n",
              " 2.7989012598991394,\n",
              " 2.8254971504211426,\n",
              " 2.768418312072754,\n",
              " 2.919824719429016,\n",
              " 2.7708460688591003,\n",
              " 2.7659223675727844,\n",
              " 2.873883068561554,\n",
              " 2.827180027961731,\n",
              " 2.7743749022483826,\n",
              " 2.7409074902534485,\n",
              " 2.801904082298279,\n",
              " 2.7612679600715637,\n",
              " 2.651458263397217,\n",
              " 2.761367440223694,\n",
              " 2.6980602741241455,\n",
              " 2.7021090388298035,\n",
              " 2.7211318016052246,\n",
              " 2.77973610162735,\n",
              " 2.7430227994918823,\n",
              " 2.89862984418869,\n",
              " 2.830406963825226,\n",
              " 2.8028212189674377,\n",
              " 2.706384062767029,\n",
              " 2.805880904197693,\n",
              " 2.7111507058143616,\n",
              " 2.7400705814361572,\n",
              " 2.693805754184723,\n",
              " 2.7643831968307495,\n",
              " 2.6539028882980347,\n",
              " 2.7582218647003174,\n",
              " 2.8097766041755676,\n",
              " 2.7310564517974854,\n",
              " 2.7951542139053345,\n",
              " 2.701682209968567,\n",
              " 2.8253759145736694,\n",
              " 2.816651463508606,\n",
              " 2.8099146485328674,\n",
              " 2.8307689428329468,\n",
              " 2.759020149707794,\n",
              " 2.689958930015564,\n",
              " 2.8325549364089966,\n",
              " 2.766741156578064,\n",
              " 2.819270610809326,\n",
              " 2.7392229437828064,\n",
              " 2.7362078428268433,\n",
              " 2.6652795672416687,\n",
              " 2.7564039826393127,\n",
              " 2.718359887599945,\n",
              " 2.8426061868667603,\n",
              " 2.823801636695862,\n",
              " 2.744335353374481,\n",
              " 2.845423936843872,\n",
              " 2.7914175391197205,\n",
              " 2.6680335998535156,\n",
              " 2.6680182814598083,\n",
              " 2.720817804336548,\n",
              " 2.760350465774536,\n",
              " 2.728229284286499,\n",
              " 2.7129159569740295,\n",
              " 2.7365753650665283,\n",
              " 2.7839049696922302,\n",
              " 2.7787604928016663,\n",
              " 2.711327910423279,\n",
              " 2.7136728763580322,\n",
              " 2.719322979450226,\n",
              " 2.749074101448059,\n",
              " 2.795040190219879,\n",
              " 2.783545196056366,\n",
              " 2.7465304136276245,\n",
              " 2.888076663017273,\n",
              " 2.759817659854889,\n",
              " 2.750934898853302,\n",
              " 2.7814731001853943,\n",
              " 2.853526771068573,\n",
              " 2.7842142581939697,\n",
              " 2.852357506752014,\n",
              " 2.7617703080177307,\n",
              " 2.7106106281280518,\n",
              " 2.7808738350868225,\n",
              " 2.7780445218086243,\n",
              " 2.7086178064346313,\n",
              " 2.7215152382850647,\n",
              " 2.7052521109580994,\n",
              " 2.729182243347168,\n",
              " 2.763203740119934,\n",
              " 2.737322509288788,\n",
              " 2.806402087211609,\n",
              " 2.716644823551178,\n",
              " 2.7866639494895935,\n",
              " 2.662267506122589,\n",
              " 2.7070512175559998,\n",
              " 2.666676163673401]"
            ]
          },
          "metadata": {
            "tags": []
          },
          "execution_count": 9
        }
      ]
    },
    {
      "cell_type": "code",
      "metadata": {
        "id": "--iY9JQVUlhi",
        "colab_type": "code",
        "colab": {
          "base_uri": "https://localhost:8080/",
          "height": 296
        },
        "outputId": "38b39090-07e4-4663-e7d9-8cb461d9fbf5"
      },
      "source": [
        "import matplotlib.pyplot as plt\n",
        "#繪製驗證分數\n",
        "plt.plot(range(1, len(average_mae_history) + 1), average_mae_history)\n",
        "plt.xlabel('Epochs')\n",
        "plt.ylabel('Validation MAE')\n",
        "plt.legend()\n",
        "\n",
        "plt.show()"
      ],
      "execution_count": 10,
      "outputs": [
        {
          "output_type": "stream",
          "text": [
            "No handles with labels found to put in legend.\n"
          ],
          "name": "stderr"
        },
        {
          "output_type": "display_data",
          "data": {
            "image/png": "[encoded data removed]",
            "text/plain": [
              "<Figure size 432x288 with 1 Axes>"
            ]
          },
          "metadata": {
            "tags": [],
            "needs_background": "light"
          }
        }
      ]
    },
    {
      "cell_type": "code",
      "metadata": {
        "id": "rTB8HW28eAAc",
        "colab_type": "code",
        "colab": {}
      },
      "source": [
        "def smooth_curve(points, factor=0.9):\n",
        "    smoothed_points = []\n",
        "    for point in points:\n",
        "        if smoothed_points:\n",
        "            previous = smoothed_points[-1]\n",
        "            smoothed_points.append(previous * factor + point * (1 - factor))\n",
        "        else:\n",
        "            smoothed_points.append(point)\n",
        "    return smoothed_points"
      ],
      "execution_count": 11,
      "outputs": []
    },
    {
      "cell_type": "code",
      "metadata": {
        "id": "nNnXt2hJfN-7",
        "colab_type": "code",
        "colab": {
          "base_uri": "https://localhost:8080/",
          "height": 299
        },
        "outputId": "8e7ede2d-d7bd-4da9-bc85-8ff0df1acd10"
      },
      "source": [
        "#排除前10個資料點且使用指數移動平均\n",
        "smooth_mae_history = smooth_curve(average_mae_history[10:])\n",
        "\n",
        "plt.plot(range(1, len(smooth_mae_history) + 1), smooth_mae_history)\n",
        "plt.xlabel('Epochs')\n",
        "plt.ylabel('Validation MAE')\n",
        "plt.legend()\n",
        "\n",
        "plt.show()"
      ],
      "execution_count": 12,
      "outputs": [
        {
          "output_type": "stream",
          "text": [
            "No handles with labels found to put in legend.\n"
          ],
          "name": "stderr"
        },
        {
          "output_type": "display_data",
          "data": {
            "image/png": "[encoded data removed]",
            "text/plain": [
              "<Figure size 432x288 with 1 Axes>"
            ]
          },
          "metadata": {
            "tags": [],
            "needs_background": "light"
          }
        }
      ]
    },
    {
      "cell_type": "code",
      "metadata": {
        "id": "QFJu0Qy5f1XK",
        "colab_type": "code",
        "colab": {
          "base_uri": "https://localhost:8080/",
          "height": 34
        },
        "outputId": "61e77208-916c-4de5-d6df-ab468a686b97"
      },
      "source": [
        "#使用整個資料進行訓練\n",
        "model = build_model()\n",
        "model.fit(train_data, train_targets,\n",
        "          epochs=80, batch_size=16, verbose=0)\n",
        "test_mse_score, test_mae_score = model.evaluate(test_data, test_targets)"
      ],
      "execution_count": 13,
      "outputs": [
        {
          "output_type": "stream",
          "text": [
            "102/102 [==============================] - 0s 457us/step\n"
          ],
          "name": "stdout"
        }
      ]
    },
    {
      "cell_type": "code",
      "metadata": {
        "id": "v7G7QrcOgm5I",
        "colab_type": "code",
        "colab": {
          "base_uri": "https://localhost:8080/",
          "height": 34
        },
        "outputId": "13294eaf-b879-4962-99aa-4215c38a5093"
      },
      "source": [
        "test_mae_score"
      ],
      "execution_count": 14,
      "outputs": [
        {
          "output_type": "execute_result",
          "data": {
            "text/plain": [
              "2.572763204574585"
            ]
          },
          "metadata": {
            "tags": []
          },
          "execution_count": 14
        }
      ]
    }
  ]
}