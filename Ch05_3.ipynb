{
  "nbformat": 4,
  "nbformat_minor": 0,
  "metadata": {
    "colab": {
      "name": "Ch05-3.ipynb",
      "provenance": [],
      "collapsed_sections": [],
      "mount_file_id": "1ZrU6WDi_aetxjDMKRBxsMGK4IOR_hRZW",
      "authorship_tag": "ABX9TyN7PE9NANAPA67b+PgE9p1I",
      "include_colab_link": true
    },
    "kernelspec": {
      "name": "python3",
      "display_name": "Python 3"
    },
    "accelerator": "GPU"
  },
  "cells": [
    {
      "cell_type": "markdown",
      "metadata": {
        "id": "view-in-github",
        "colab_type": "text"
      },
      "source": [
        "<a href=\"https://colab.research.google.com/github/mimiachiu/Deep-Learning-with-Python-Book/blob/master/Ch05_3.ipynb\" target=\"_parent\"><img src=\"https://colab.research.google.com/assets/colab-badge.svg\" alt=\"Open In Colab\"/></a>"
      ]
    },
    {
      "cell_type": "code",
      "metadata": {
        "id": "Vtx10d6hd6xo",
        "colab_type": "code",
        "colab": {
          "base_uri": "https://localhost:8080/",
          "height": 34
        },
        "outputId": "02dbdae8-b5b4-4cf9-e5d3-ac42eb5f2617"
      },
      "source": [
        "%tensorflow_version 1.x"
      ],
      "execution_count": null,
      "outputs": [
        {
          "output_type": "stream",
          "text": [
            "TensorFlow 1.x selected.\n"
          ],
          "name": "stdout"
        }
      ]
    },
    {
      "cell_type": "code",
      "metadata": {
        "id": "j7V-TDASd849",
        "colab_type": "code",
        "colab": {
          "base_uri": "https://localhost:8080/",
          "height": 153
        },
        "outputId": "769b38ed-576f-42fd-9c60-4da0cc1dd8d6"
      },
      "source": [
        "pip install keras"
      ],
      "execution_count": null,
      "outputs": [
        {
          "output_type": "stream",
          "text": [
            "Requirement already satisfied: keras in /usr/local/lib/python3.6/dist-packages (2.3.1)\n",
            "Requirement already satisfied: scipy>=0.14 in /usr/local/lib/python3.6/dist-packages (from keras) (1.4.1)\n",
            "Requirement already satisfied: keras-applications>=1.0.6 in /usr/local/lib/python3.6/dist-packages (from keras) (1.0.8)\n",
            "Requirement already satisfied: pyyaml in /usr/local/lib/python3.6/dist-packages (from keras) (3.13)\n",
            "Requirement already satisfied: six>=1.9.0 in /usr/local/lib/python3.6/dist-packages (from keras) (1.12.0)\n",
            "Requirement already satisfied: keras-preprocessing>=1.0.5 in /usr/local/lib/python3.6/dist-packages (from keras) (1.1.2)\n",
            "Requirement already satisfied: numpy>=1.9.1 in /usr/local/lib/python3.6/dist-packages (from keras) (1.18.5)\n",
            "Requirement already satisfied: h5py in /usr/local/lib/python3.6/dist-packages (from keras) (2.10.0)\n"
          ],
          "name": "stdout"
        }
      ]
    },
    {
      "cell_type": "code",
      "metadata": {
        "id": "HfpKDNrshdmd",
        "colab_type": "code",
        "colab": {
          "base_uri": "https://localhost:8080/",
          "height": 122
        },
        "outputId": "ddf922b3-99a3-48d6-cf5e-6b5abf0f1c85"
      },
      "source": [
        "from google.colab import drive\n",
        "drive.mount('/content/drive', force_remount=True)"
      ],
      "execution_count": null,
      "outputs": [
        {
          "output_type": "stream",
          "text": [
            "Go to this URL in a browser: https://accounts.google.com/o/oauth2/auth?client_id=947318989803-6bn6qk8qdgf4n4g3pfee6491hc0brc4i.apps.googleusercontent.com&redirect_uri=urn%3aietf%3awg%3aoauth%3a2.0%3aoob&response_type=code&scope=email%20https%3a%2f%2fwww.googleapis.com%2fauth%2fdocs.test%20https%3a%2f%2fwww.googleapis.com%2fauth%2fdrive%20https%3a%2f%2fwww.googleapis.com%2fauth%2fdrive.photos.readonly%20https%3a%2f%2fwww.googleapis.com%2fauth%2fpeopleapi.readonly\n",
            "\n",
            "Enter your authorization code:\n",
            "··········\n",
            "Mounted at /content/drive\n"
          ],
          "name": "stdout"
        }
      ]
    },
    {
      "cell_type": "code",
      "metadata": {
        "id": "n7vn52UEeBN8",
        "colab_type": "code",
        "colab": {
          "base_uri": "https://localhost:8080/",
          "height": 173
        },
        "outputId": "124baab2-e2ef-4b4e-8681-e1cc66c7b9a3"
      },
      "source": [
        "from keras.applications import VGG16\n",
        "#載入Keras內建好的VGG16模型，weights使用已訓練好的權重，include_top是否包含最後的分類層，\n",
        "conv_base = VGG16(weights='imagenet', include_top=False, input_shape=(150, 150, 3))"
      ],
      "execution_count": null,
      "outputs": [
        {
          "output_type": "stream",
          "text": [
            "Using TensorFlow backend.\n"
          ],
          "name": "stderr"
        },
        {
          "output_type": "stream",
          "text": [
            "WARNING:tensorflow:From /tensorflow-1.15.2/python3.6/tensorflow_core/python/ops/resource_variable_ops.py:1630: calling BaseResourceVariable.__init__ (from tensorflow.python.ops.resource_variable_ops) with constraint is deprecated and will be removed in a future version.\n",
            "Instructions for updating:\n",
            "If using Keras pass *_constraint arguments to layers.\n",
            "WARNING:tensorflow:From /usr/local/lib/python3.6/dist-packages/keras/backend/tensorflow_backend.py:4070: The name tf.nn.max_pool is deprecated. Please use tf.nn.max_pool2d instead.\n",
            "\n",
            "Downloading data from https://github.com/fchollet/deep-learning-models/releases/download/v0.1/vgg16_weights_tf_dim_ordering_tf_kernels_notop.h5\n",
            "58892288/58889256 [==============================] - 6s 0us/step\n"
          ],
          "name": "stdout"
        }
      ]
    },
    {
      "cell_type": "code",
      "metadata": {
        "id": "0Xjucv5teTls",
        "colab_type": "code",
        "colab": {
          "base_uri": "https://localhost:8080/",
          "height": 799
        },
        "outputId": "c9b619a2-deb1-4706-86cf-b46124ba03f0"
      },
      "source": [
        "conv_base.summary()"
      ],
      "execution_count": null,
      "outputs": [
        {
          "output_type": "stream",
          "text": [
            "Model: \"vgg16\"\n",
            "_________________________________________________________________\n",
            "Layer (type)                 Output Shape              Param #   \n",
            "=================================================================\n",
            "input_1 (InputLayer)         (None, 150, 150, 3)       0         \n",
            "_________________________________________________________________\n",
            "block1_conv1 (Conv2D)        (None, 150, 150, 64)      1792      \n",
            "_________________________________________________________________\n",
            "block1_conv2 (Conv2D)        (None, 150, 150, 64)      36928     \n",
            "_________________________________________________________________\n",
            "block1_pool (MaxPooling2D)   (None, 75, 75, 64)        0         \n",
            "_________________________________________________________________\n",
            "block2_conv1 (Conv2D)        (None, 75, 75, 128)       73856     \n",
            "_________________________________________________________________\n",
            "block2_conv2 (Conv2D)        (None, 75, 75, 128)       147584    \n",
            "_________________________________________________________________\n",
            "block2_pool (MaxPooling2D)   (None, 37, 37, 128)       0         \n",
            "_________________________________________________________________\n",
            "block3_conv1 (Conv2D)        (None, 37, 37, 256)       295168    \n",
            "_________________________________________________________________\n",
            "block3_conv2 (Conv2D)        (None, 37, 37, 256)       590080    \n",
            "_________________________________________________________________\n",
            "block3_conv3 (Conv2D)        (None, 37, 37, 256)       590080    \n",
            "_________________________________________________________________\n",
            "block3_pool (MaxPooling2D)   (None, 18, 18, 256)       0         \n",
            "_________________________________________________________________\n",
            "block4_conv1 (Conv2D)        (None, 18, 18, 512)       1180160   \n",
            "_________________________________________________________________\n",
            "block4_conv2 (Conv2D)        (None, 18, 18, 512)       2359808   \n",
            "_________________________________________________________________\n",
            "block4_conv3 (Conv2D)        (None, 18, 18, 512)       2359808   \n",
            "_________________________________________________________________\n",
            "block4_pool (MaxPooling2D)   (None, 9, 9, 512)         0         \n",
            "_________________________________________________________________\n",
            "block5_conv1 (Conv2D)        (None, 9, 9, 512)         2359808   \n",
            "_________________________________________________________________\n",
            "block5_conv2 (Conv2D)        (None, 9, 9, 512)         2359808   \n",
            "_________________________________________________________________\n",
            "block5_conv3 (Conv2D)        (None, 9, 9, 512)         2359808   \n",
            "_________________________________________________________________\n",
            "block5_pool (MaxPooling2D)   (None, 4, 4, 512)         0         \n",
            "=================================================================\n",
            "Total params: 14,714,688\n",
            "Trainable params: 14,714,688\n",
            "Non-trainable params: 0\n",
            "_________________________________________________________________\n"
          ],
          "name": "stdout"
        }
      ]
    },
    {
      "cell_type": "code",
      "metadata": {
        "id": "HxTQnYvReZQa",
        "colab_type": "code",
        "colab": {}
      },
      "source": [
        "import os\n",
        "import numpy as np\n",
        "from keras.preprocessing.image import ImageDataGenerator"
      ],
      "execution_count": null,
      "outputs": []
    },
    {
      "cell_type": "code",
      "metadata": {
        "id": "hniN651PfEgU",
        "colab_type": "code",
        "colab": {}
      },
      "source": [
        "base_dir = '/content/drive/My Drive/Colab Notebooks/Deep Learning with Python/dogs-vs-cats/cats_and_dogs_small'\n",
        "\n",
        "train_dir = os.path.join(base_dir, 'train')\n",
        "validation_dir = os.path.join(base_dir, 'validation')\n",
        "test_dir = os.path.join(base_dir, 'test')\n",
        "\n",
        "datagen = ImageDataGenerator(rescale=1./255)\n",
        "batch_size = 20"
      ],
      "execution_count": null,
      "outputs": []
    },
    {
      "cell_type": "code",
      "metadata": {
        "id": "1TI923R-feFz",
        "colab_type": "code",
        "colab": {}
      },
      "source": [
        "#使用預先訓練的convolutional base萃取特徵\n",
        "def extract_features(directory, sample_count):\n",
        "    features = np.zeros(shape=(sample_count, 4, 4, 512))\n",
        "    labels = np.zeros(shape=(sample_count))\n",
        "\n",
        "    generator = datagen.flow_from_directory(directory, target_size=(150, 150), batch_size=batch_size, class_mode='binary')\n",
        "    i = 0\n",
        "    for inputs_batch, labels_batch in generator:\n",
        "        features_batch = conv_base.predict(inputs_batch)\n",
        "        features[i * batch_size : (i + 1) * batch_size] = features_batch\n",
        "        labels[i * batch_size : (i + 1) * batch_size] = labels_batch\n",
        "        i += 1\n",
        "        print(i, end=' ')\n",
        "        if i * batch_size >= sample_count:\n",
        "            break\n",
        "    return features, labels"
      ],
      "execution_count": null,
      "outputs": []
    },
    {
      "cell_type": "code",
      "metadata": {
        "id": "68i9dJNDgiYk",
        "colab_type": "code",
        "colab": {
          "base_uri": "https://localhost:8080/",
          "height": 139
        },
        "outputId": "35beb5fd-2886-4f16-b075-216a54982f78"
      },
      "source": [
        "train_features, train_labels = extract_features(train_dir, 2000)\n",
        "validation_features, validation_labels = extract_features(validation_dir, 1000)\n",
        "test_features, test_labels = extract_features(test_dir, 1000)"
      ],
      "execution_count": null,
      "outputs": [
        {
          "output_type": "stream",
          "text": [
            "Found 2000 images belonging to 2 classes.\n",
            "WARNING:tensorflow:From /usr/local/lib/python3.6/dist-packages/keras/backend/tensorflow_backend.py:422: The name tf.global_variables is deprecated. Please use tf.compat.v1.global_variables instead.\n",
            "\n",
            "1 2 3 4 5 6 7 8 9 10 11 12 13 14 15 16 17 18 19 20 21 22 23 24 25 26 27 28 29 30 31 32 33 34 35 36 37 38 39 40 41 42 43 44 45 46 47 48 49 50 51 52 53 54 55 56 57 58 59 60 61 62 63 64 65 66 67 68 69 70 71 72 73 74 75 76 77 78 79 80 81 82 83 84 85 86 87 88 89 90 91 92 93 94 95 96 97 98 99 100 Found 1000 images belonging to 2 classes.\n",
            "1 2 3 4 5 6 7 8 9 10 11 12 13 14 15 16 17 18 19 20 21 22 23 24 25 26 27 28 29 30 31 32 33 34 35 36 37 38 39 40 41 42 43 44 45 46 47 48 49 50 Found 1000 images belonging to 2 classes.\n",
            "1 2 3 4 5 6 7 8 9 10 11 12 13 14 15 16 17 18 19 20 21 22 23 24 25 26 27 28 29 30 31 32 33 34 35 36 37 38 39 40 41 42 43 44 45 46 47 48 49 50 "
          ],
          "name": "stdout"
        }
      ]
    },
    {
      "cell_type": "code",
      "metadata": {
        "id": "ucVy4bVcnc9X",
        "colab_type": "code",
        "colab": {}
      },
      "source": [
        "#將萃取後的資料展平\n",
        "train_features = np.reshape(train_features, (2000, 4 * 4 * 512))\n",
        "validation_features = np.reshape(validation_features, (1000, 4 * 4 * 512))\n",
        "test_features = np.reshape(test_features, (1000, 4 * 4 * 512))"
      ],
      "execution_count": null,
      "outputs": []
    },
    {
      "cell_type": "code",
      "metadata": {
        "id": "Dm56nDKenzWo",
        "colab_type": "code",
        "colab": {}
      },
      "source": [
        "from tensorflow.keras import layers\n",
        "from tensorflow.keras import models\n",
        "from tensorflow.keras import optimizers"
      ],
      "execution_count": null,
      "outputs": []
    },
    {
      "cell_type": "code",
      "metadata": {
        "id": "zXNfTUqjn4KL",
        "colab_type": "code",
        "colab": {
          "base_uri": "https://localhost:8080/",
          "height": 1000
        },
        "outputId": "30cf21d9-a681-4550-f08b-17aa07537148"
      },
      "source": [
        "#建立和訓練密集連接的分類器\n",
        "model = models.Sequential()\n",
        "model.add(layers.Dense(256, activation='relu', input_dim=4 * 4 * 512))\n",
        "model.add(layers.Dropout(0.5))\n",
        "model.add(layers.Dense(1, activation='sigmoid'))\n",
        "\n",
        "model.compile(optimizer=optimizers.RMSprop(lr=2e-5), loss='binary_crossentropy', metrics=['acc'])\n",
        "history = model.fit(train_features, train_labels, epochs=30, batch_size=20, validation_data=(validation_features, validation_labels))"
      ],
      "execution_count": null,
      "outputs": [
        {
          "output_type": "stream",
          "text": [
            "WARNING:tensorflow:From /tensorflow-1.15.2/python3.6/tensorflow_core/python/ops/nn_impl.py:183: where (from tensorflow.python.ops.array_ops) is deprecated and will be removed in a future version.\n",
            "Instructions for updating:\n",
            "Use tf.where in 2.0, which has the same broadcast rule as np.where\n",
            "Train on 2000 samples, validate on 1000 samples\n",
            "Epoch 1/30\n",
            "2000/2000 [==============================] - 1s 404us/sample - loss: 0.5957 - acc: 0.6790 - val_loss: 0.4391 - val_acc: 0.8290\n",
            "Epoch 2/30\n",
            "2000/2000 [==============================] - 1s 253us/sample - loss: 0.4346 - acc: 0.8050 - val_loss: 0.3633 - val_acc: 0.8690\n",
            "Epoch 3/30\n",
            "2000/2000 [==============================] - 0s 250us/sample - loss: 0.3501 - acc: 0.8540 - val_loss: 0.3254 - val_acc: 0.8790\n",
            "Epoch 4/30\n",
            "2000/2000 [==============================] - 1s 259us/sample - loss: 0.3185 - acc: 0.8670 - val_loss: 0.3151 - val_acc: 0.8610\n",
            "Epoch 5/30\n",
            "2000/2000 [==============================] - 1s 251us/sample - loss: 0.2810 - acc: 0.8880 - val_loss: 0.2887 - val_acc: 0.8880\n",
            "Epoch 6/30\n",
            "2000/2000 [==============================] - 1s 252us/sample - loss: 0.2625 - acc: 0.8925 - val_loss: 0.2757 - val_acc: 0.9000\n",
            "Epoch 7/30\n",
            "2000/2000 [==============================] - 1s 260us/sample - loss: 0.2371 - acc: 0.9095 - val_loss: 0.2724 - val_acc: 0.8870\n",
            "Epoch 8/30\n",
            "2000/2000 [==============================] - 1s 252us/sample - loss: 0.2295 - acc: 0.9160 - val_loss: 0.2653 - val_acc: 0.8870\n",
            "Epoch 9/30\n",
            "2000/2000 [==============================] - 1s 252us/sample - loss: 0.2215 - acc: 0.9110 - val_loss: 0.2634 - val_acc: 0.8880\n",
            "Epoch 10/30\n",
            "2000/2000 [==============================] - 1s 259us/sample - loss: 0.2009 - acc: 0.9175 - val_loss: 0.2486 - val_acc: 0.9060\n",
            "Epoch 11/30\n",
            "2000/2000 [==============================] - 1s 258us/sample - loss: 0.1923 - acc: 0.9295 - val_loss: 0.2467 - val_acc: 0.9010\n",
            "Epoch 12/30\n",
            "2000/2000 [==============================] - 1s 256us/sample - loss: 0.1807 - acc: 0.9315 - val_loss: 0.2452 - val_acc: 0.9000\n",
            "Epoch 13/30\n",
            "2000/2000 [==============================] - 1s 252us/sample - loss: 0.1762 - acc: 0.9380 - val_loss: 0.2559 - val_acc: 0.8940\n",
            "Epoch 14/30\n",
            "2000/2000 [==============================] - 1s 256us/sample - loss: 0.1667 - acc: 0.9400 - val_loss: 0.2473 - val_acc: 0.8950\n",
            "Epoch 15/30\n",
            "2000/2000 [==============================] - 1s 250us/sample - loss: 0.1620 - acc: 0.9405 - val_loss: 0.2495 - val_acc: 0.8970\n",
            "Epoch 16/30\n",
            "2000/2000 [==============================] - 1s 256us/sample - loss: 0.1501 - acc: 0.9515 - val_loss: 0.2427 - val_acc: 0.9000\n",
            "Epoch 17/30\n",
            "2000/2000 [==============================] - 1s 258us/sample - loss: 0.1454 - acc: 0.9500 - val_loss: 0.2409 - val_acc: 0.9020\n",
            "Epoch 18/30\n",
            "2000/2000 [==============================] - 1s 255us/sample - loss: 0.1396 - acc: 0.9535 - val_loss: 0.2444 - val_acc: 0.9030\n",
            "Epoch 19/30\n",
            "2000/2000 [==============================] - 1s 255us/sample - loss: 0.1374 - acc: 0.9530 - val_loss: 0.2407 - val_acc: 0.9060\n",
            "Epoch 20/30\n",
            "2000/2000 [==============================] - 1s 257us/sample - loss: 0.1292 - acc: 0.9560 - val_loss: 0.2376 - val_acc: 0.9020\n",
            "Epoch 21/30\n",
            "2000/2000 [==============================] - 1s 254us/sample - loss: 0.1205 - acc: 0.9600 - val_loss: 0.2416 - val_acc: 0.9040\n",
            "Epoch 22/30\n",
            "2000/2000 [==============================] - 1s 258us/sample - loss: 0.1210 - acc: 0.9600 - val_loss: 0.2459 - val_acc: 0.8980\n",
            "Epoch 23/30\n",
            "2000/2000 [==============================] - 1s 257us/sample - loss: 0.1102 - acc: 0.9660 - val_loss: 0.2384 - val_acc: 0.8990\n",
            "Epoch 24/30\n",
            "2000/2000 [==============================] - 1s 263us/sample - loss: 0.1032 - acc: 0.9650 - val_loss: 0.2385 - val_acc: 0.9010\n",
            "Epoch 25/30\n",
            "2000/2000 [==============================] - 1s 259us/sample - loss: 0.1046 - acc: 0.9665 - val_loss: 0.2442 - val_acc: 0.9010\n",
            "Epoch 26/30\n",
            "2000/2000 [==============================] - 1s 265us/sample - loss: 0.0966 - acc: 0.9695 - val_loss: 0.2442 - val_acc: 0.9010\n",
            "Epoch 27/30\n",
            "2000/2000 [==============================] - 1s 256us/sample - loss: 0.0951 - acc: 0.9700 - val_loss: 0.2428 - val_acc: 0.8980\n",
            "Epoch 28/30\n",
            "2000/2000 [==============================] - 1s 262us/sample - loss: 0.0884 - acc: 0.9730 - val_loss: 0.2450 - val_acc: 0.8980\n",
            "Epoch 29/30\n",
            "2000/2000 [==============================] - 1s 258us/sample - loss: 0.0883 - acc: 0.9745 - val_loss: 0.2534 - val_acc: 0.8980\n",
            "Epoch 30/30\n",
            "2000/2000 [==============================] - 1s 264us/sample - loss: 0.0843 - acc: 0.9780 - val_loss: 0.2425 - val_acc: 0.9000\n"
          ],
          "name": "stdout"
        }
      ]
    },
    {
      "cell_type": "code",
      "metadata": {
        "id": "Oiz1iskGotA3",
        "colab_type": "code",
        "colab": {
          "base_uri": "https://localhost:8080/",
          "height": 545
        },
        "outputId": "918f065c-ea86-41da-f91f-74e0bfc73e2d"
      },
      "source": [
        "#繪製結果\n",
        "import matplotlib.pyplot as plt\n",
        "\n",
        "acc = history.history['acc']\n",
        "val_acc = history.history['val_acc']\n",
        "loss = history.history['loss']\n",
        "val_loss = history.history['val_loss']\n",
        "\n",
        "epochs = range(1, len(acc) + 1)\n",
        "\n",
        "plt.plot(epochs, acc, 'bo', label='Training acc')\n",
        "plt.plot(epochs, val_acc, 'b', label='Validation acc')\n",
        "plt.title('Training and validation accuracy')\n",
        "plt.legend()\n",
        "\n",
        "plt.figure()\n",
        "\n",
        "plt.plot(epochs, loss, 'bo', label='Training loss')\n",
        "plt.plot(epochs, val_loss, 'b', label='Validation loss')\n",
        "plt.title('Training and validation loss')\n",
        "plt.legend()\n",
        "\n",
        "plt.show()"
      ],
      "execution_count": null,
      "outputs": [
        {
          "output_type": "display_data",
          "data": {
            "image/png": "[encoded data removed]",
            "text/plain": [
              "<Figure size 432x288 with 1 Axes>"
            ]
          },
          "metadata": {
            "tags": [],
            "needs_background": "light"
          }
        },
        {
          "output_type": "display_data",
          "data": {
            "image/png": "[encoded data removed]",
            "text/plain": [
              "<Figure size 432x288 with 1 Axes>"
            ]
          },
          "metadata": {
            "tags": [],
            "needs_background": "light"
          }
        }
      ]
    },
    {
      "cell_type": "code",
      "metadata": {
        "id": "MCtqa1vvp9HZ",
        "colab_type": "code",
        "colab": {}
      },
      "source": [
        "from keras import layers\n",
        "from keras import models\n",
        "from keras.applications import VGG16"
      ],
      "execution_count": null,
      "outputs": []
    },
    {
      "cell_type": "code",
      "metadata": {
        "id": "lBTS4526qFkl",
        "colab_type": "code",
        "colab": {}
      },
      "source": [
        "#在convolutional base卷積基底上增加密集層分類器，基底部分不更新\n",
        "conv_base = VGG16(weights='imagenet', include_top=False, input_shape=(150, 150, 3))\n",
        "conv_base.trainable = False #權重是否會隨訓練更新\n",
        "model = models.Sequential()\n",
        "model.add(conv_base)\n",
        "model.add(layers.Flatten())\n",
        "model.add(layers.Dense(256, activation='relu'))\n",
        "model.add(layers.Dense(1, activation='sigmoid'))"
      ],
      "execution_count": null,
      "outputs": []
    },
    {
      "cell_type": "code",
      "metadata": {
        "id": "iuCSM-wF5WgB",
        "colab_type": "code",
        "colab": {
          "base_uri": "https://localhost:8080/",
          "height": 289
        },
        "outputId": "cd8e3939-222d-45c6-b261-6f649cbd2a35"
      },
      "source": [
        "model.summary()"
      ],
      "execution_count": null,
      "outputs": [
        {
          "output_type": "stream",
          "text": [
            "Model: \"sequential_1\"\n",
            "_________________________________________________________________\n",
            "Layer (type)                 Output Shape              Param #   \n",
            "=================================================================\n",
            "vgg16 (Model)                (None, 4, 4, 512)         14714688  \n",
            "_________________________________________________________________\n",
            "flatten_1 (Flatten)          (None, 8192)              0         \n",
            "_________________________________________________________________\n",
            "dense_1 (Dense)              (None, 256)               2097408   \n",
            "_________________________________________________________________\n",
            "dense_2 (Dense)              (None, 1)                 257       \n",
            "=================================================================\n",
            "Total params: 16,812,353\n",
            "Trainable params: 2,097,665\n",
            "Non-trainable params: 14,714,688\n",
            "_________________________________________________________________\n"
          ],
          "name": "stdout"
        }
      ]
    },
    {
      "cell_type": "code",
      "metadata": {
        "id": "bZAF8tN1rGi4",
        "colab_type": "code",
        "colab": {}
      },
      "source": [
        "from keras.preprocessing.image import ImageDataGenerator\n",
        "from keras import optimizers"
      ],
      "execution_count": null,
      "outputs": []
    },
    {
      "cell_type": "code",
      "metadata": {
        "id": "qZPM_hXJ4rhB",
        "colab_type": "code",
        "colab": {
          "base_uri": "https://localhost:8080/",
          "height": 1000
        },
        "outputId": "22b8b8cd-54f6-4f82-e78b-0b0fc67e9a7f"
      },
      "source": [
        "#使用資料擴增\n",
        "train_datagen = ImageDataGenerator(rescale=1./255, rotation_range=40, \n",
        "                                   width_shift_range=0.2, height_shift_range=0.2, \n",
        "                                   shear_range=0.2, zoom_range=0.2, horizontal_flip=True,\n",
        "                                   fill_mode='nearest')\n",
        "validation_datagen = ImageDataGenerator(rescale=1./255)\n",
        "\n",
        "train_generator = train_datagen.flow_from_directory(train_dir, target_size=(150, 150), batch_size=20, class_mode='binary')\n",
        "validation_generator = validation_datagen.flow_from_directory(validation_dir, target_size=(150, 150), batch_size=20, class_mode='binary')\n",
        "\n",
        "model.compile(loss='binary_crossentropy', optimizer=optimizers.RMSprop(lr=2e-5), metrics=['acc'])\n",
        "history = model.fit_generator(train_generator, steps_per_epoch=100, epochs=30, validation_data=validation_generator, validation_steps=50)"
      ],
      "execution_count": null,
      "outputs": [
        {
          "output_type": "stream",
          "text": [
            "Found 2000 images belonging to 2 classes.\n",
            "Found 1000 images belonging to 2 classes.\n",
            "Epoch 1/30\n",
            "100/100 [==============================] - 25s 245ms/step - loss: 0.6330 - acc: 0.6515 - val_loss: 0.4275 - val_acc: 0.8240\n",
            "Epoch 2/30\n",
            "100/100 [==============================] - 22s 218ms/step - loss: 0.4865 - acc: 0.7780 - val_loss: 0.4334 - val_acc: 0.8510\n",
            "Epoch 3/30\n",
            "100/100 [==============================] - 22s 219ms/step - loss: 0.4358 - acc: 0.8025 - val_loss: 0.3033 - val_acc: 0.8710\n",
            "Epoch 4/30\n",
            "100/100 [==============================] - 22s 221ms/step - loss: 0.4010 - acc: 0.8180 - val_loss: 0.5142 - val_acc: 0.8640\n",
            "Epoch 5/30\n",
            "100/100 [==============================] - 22s 219ms/step - loss: 0.3785 - acc: 0.8415 - val_loss: 0.5102 - val_acc: 0.8880\n",
            "Epoch 6/30\n",
            "100/100 [==============================] - 22s 219ms/step - loss: 0.3675 - acc: 0.8340 - val_loss: 0.2416 - val_acc: 0.8930\n",
            "Epoch 7/30\n",
            "100/100 [==============================] - 22s 220ms/step - loss: 0.3417 - acc: 0.8520 - val_loss: 0.1612 - val_acc: 0.8970\n",
            "Epoch 8/30\n",
            "100/100 [==============================] - 22s 223ms/step - loss: 0.3417 - acc: 0.8545 - val_loss: 0.3348 - val_acc: 0.9010\n",
            "Epoch 9/30\n",
            "100/100 [==============================] - 22s 221ms/step - loss: 0.3299 - acc: 0.8655 - val_loss: 0.4376 - val_acc: 0.9000\n",
            "Epoch 10/30\n",
            "100/100 [==============================] - 22s 221ms/step - loss: 0.3342 - acc: 0.8580 - val_loss: 0.1745 - val_acc: 0.8920\n",
            "Epoch 11/30\n",
            "100/100 [==============================] - 22s 223ms/step - loss: 0.3185 - acc: 0.8585 - val_loss: 0.3253 - val_acc: 0.9020\n",
            "Epoch 12/30\n",
            "100/100 [==============================] - 22s 220ms/step - loss: 0.3185 - acc: 0.8635 - val_loss: 0.3558 - val_acc: 0.9020\n",
            "Epoch 13/30\n",
            "100/100 [==============================] - 22s 221ms/step - loss: 0.3129 - acc: 0.8705 - val_loss: 0.2947 - val_acc: 0.8950\n",
            "Epoch 14/30\n",
            "100/100 [==============================] - 22s 222ms/step - loss: 0.3094 - acc: 0.8650 - val_loss: 0.2163 - val_acc: 0.9050\n",
            "Epoch 15/30\n",
            "100/100 [==============================] - 23s 227ms/step - loss: 0.3111 - acc: 0.8670 - val_loss: 0.0943 - val_acc: 0.8960\n",
            "Epoch 16/30\n",
            "100/100 [==============================] - 22s 222ms/step - loss: 0.3108 - acc: 0.8605 - val_loss: 0.2166 - val_acc: 0.9080\n",
            "Epoch 17/30\n",
            "100/100 [==============================] - 22s 221ms/step - loss: 0.3224 - acc: 0.8565 - val_loss: 0.4351 - val_acc: 0.9030\n",
            "Epoch 18/30\n",
            "100/100 [==============================] - 22s 222ms/step - loss: 0.3050 - acc: 0.8690 - val_loss: 0.4244 - val_acc: 0.9010\n",
            "Epoch 19/30\n",
            "100/100 [==============================] - 22s 223ms/step - loss: 0.2904 - acc: 0.8760 - val_loss: 0.2712 - val_acc: 0.9020\n",
            "Epoch 20/30\n",
            "100/100 [==============================] - 22s 221ms/step - loss: 0.2930 - acc: 0.8770 - val_loss: 0.3091 - val_acc: 0.8990\n",
            "Epoch 21/30\n",
            "100/100 [==============================] - 22s 221ms/step - loss: 0.2973 - acc: 0.8700 - val_loss: 0.2102 - val_acc: 0.9040\n",
            "Epoch 22/30\n",
            "100/100 [==============================] - 23s 225ms/step - loss: 0.2953 - acc: 0.8715 - val_loss: 0.2690 - val_acc: 0.8990\n",
            "Epoch 23/30\n",
            "100/100 [==============================] - 22s 222ms/step - loss: 0.3011 - acc: 0.8655 - val_loss: 0.3378 - val_acc: 0.8970\n",
            "Epoch 24/30\n",
            "100/100 [==============================] - 22s 222ms/step - loss: 0.2884 - acc: 0.8740 - val_loss: 0.0453 - val_acc: 0.9090\n",
            "Epoch 25/30\n",
            "100/100 [==============================] - 22s 222ms/step - loss: 0.2950 - acc: 0.8695 - val_loss: 0.1474 - val_acc: 0.9090\n",
            "Epoch 26/30\n",
            "100/100 [==============================] - 22s 224ms/step - loss: 0.2914 - acc: 0.8685 - val_loss: 0.3405 - val_acc: 0.9080\n",
            "Epoch 27/30\n",
            "100/100 [==============================] - 22s 221ms/step - loss: 0.2820 - acc: 0.8870 - val_loss: 0.1806 - val_acc: 0.9110\n",
            "Epoch 28/30\n",
            "100/100 [==============================] - 22s 222ms/step - loss: 0.2853 - acc: 0.8810 - val_loss: 0.2877 - val_acc: 0.9080\n",
            "Epoch 29/30\n",
            "100/100 [==============================] - 23s 228ms/step - loss: 0.2933 - acc: 0.8705 - val_loss: 0.5232 - val_acc: 0.9030\n",
            "Epoch 30/30\n",
            "100/100 [==============================] - 22s 222ms/step - loss: 0.2783 - acc: 0.8880 - val_loss: 0.0936 - val_acc: 0.9030\n"
          ],
          "name": "stdout"
        }
      ]
    },
    {
      "cell_type": "code",
      "metadata": {
        "id": "oJ3RDiPy5OM6",
        "colab_type": "code",
        "colab": {
          "base_uri": "https://localhost:8080/",
          "height": 545
        },
        "outputId": "a3d11169-d738-40e2-9877-55d68c3b9d8d"
      },
      "source": [
        "#繪製結果\n",
        "import matplotlib.pyplot as plt\n",
        "\n",
        "acc = history.history['acc']\n",
        "val_acc = history.history['val_acc']\n",
        "loss = history.history['loss']\n",
        "val_loss = history.history['val_loss']\n",
        "\n",
        "epochs = range(1, len(acc) + 1)\n",
        "\n",
        "plt.plot(epochs, acc, 'bo', label='Training acc')\n",
        "plt.plot(epochs, val_acc, 'b', label='Validation acc')\n",
        "plt.title('Training and validation accuracy')\n",
        "plt.legend()\n",
        "\n",
        "plt.figure()\n",
        "\n",
        "plt.plot(epochs, loss, 'bo', label='Training loss')\n",
        "plt.plot(epochs, val_loss, 'b', label='Validation loss')\n",
        "plt.title('Training and validation loss')\n",
        "plt.legend()\n",
        "\n",
        "plt.show()"
      ],
      "execution_count": null,
      "outputs": [
        {
          "output_type": "display_data",
          "data": {
            "image/png": "[encoded data removed]",
            "text/plain": [
              "<Figure size 432x288 with 1 Axes>"
            ]
          },
          "metadata": {
            "tags": [],
            "needs_background": "light"
          }
        },
        {
          "output_type": "display_data",
          "data": {
            "image/png": "[encoded data removed]",
            "text/plain": [
              "<Figure size 432x288 with 1 Axes>"
            ]
          },
          "metadata": {
            "tags": [],
            "needs_background": "light"
          }
        }
      ]
    },
    {
      "cell_type": "code",
      "metadata": {
        "id": "hJFRdvVEAOod",
        "colab_type": "code",
        "colab": {}
      },
      "source": [
        "#在convolutional base卷積基底上增加密集層分類器，基底部分微調\n",
        "conv_base = VGG16(weights='imagenet', include_top=False, input_shape=(150, 150, 3))\n",
        "\n",
        "conv_base.trainable = True\n",
        "#設定哪些權重需要訓練\n",
        "set_trainable = False\n",
        "for layer in conv_base.layers:\n",
        "    if layer.name == 'block5_conv1':\n",
        "        set_trainable = True\n",
        "    if set_trainable:\n",
        "        layer.trainable = True\n",
        "    else:\n",
        "        layer.trainable = False"
      ],
      "execution_count": null,
      "outputs": []
    },
    {
      "cell_type": "code",
      "metadata": {
        "id": "AKWcg375_WbA",
        "colab_type": "code",
        "colab": {
          "base_uri": "https://localhost:8080/",
          "height": 289
        },
        "outputId": "6eabafc5-1ed3-4609-b605-59865e32693f"
      },
      "source": [
        "model = models.Sequential()\n",
        "model.add(conv_base)\n",
        "model.add(layers.Flatten())\n",
        "model.add(layers.Dense(256, activation='relu'))\n",
        "model.add(layers.Dense(1, activation='sigmoid'))\n",
        "model.summary()"
      ],
      "execution_count": null,
      "outputs": [
        {
          "output_type": "stream",
          "text": [
            "Model: \"sequential_2\"\n",
            "_________________________________________________________________\n",
            "Layer (type)                 Output Shape              Param #   \n",
            "=================================================================\n",
            "vgg16 (Model)                (None, 4, 4, 512)         14714688  \n",
            "_________________________________________________________________\n",
            "flatten_2 (Flatten)          (None, 8192)              0         \n",
            "_________________________________________________________________\n",
            "dense_3 (Dense)              (None, 256)               2097408   \n",
            "_________________________________________________________________\n",
            "dense_4 (Dense)              (None, 1)                 257       \n",
            "=================================================================\n",
            "Total params: 16,812,353\n",
            "Trainable params: 9,177,089\n",
            "Non-trainable params: 7,635,264\n",
            "_________________________________________________________________\n"
          ],
          "name": "stdout"
        }
      ]
    },
    {
      "cell_type": "code",
      "metadata": {
        "id": "jxMbI6QeAjO8",
        "colab_type": "code",
        "colab": {
          "base_uri": "https://localhost:8080/",
          "height": 1000
        },
        "outputId": "926cfb63-8d26-4dae-8dff-26ac3ab85be2"
      },
      "source": [
        "#使用資料擴增\n",
        "train_datagen = ImageDataGenerator(rescale=1./255, rotation_range=40, \n",
        "                                   width_shift_range=0.2, height_shift_range=0.2, \n",
        "                                   shear_range=0.2, zoom_range=0.2, horizontal_flip=True,\n",
        "                                   fill_mode='nearest')\n",
        "validation_datagen = ImageDataGenerator(rescale=1./255)\n",
        "\n",
        "train_generator = train_datagen.flow_from_directory(train_dir, target_size=(150, 150), batch_size=20, class_mode='binary')\n",
        "validation_generator = validation_datagen.flow_from_directory(validation_dir, target_size=(150, 150), batch_size=20, class_mode='binary')\n",
        "\n",
        "model.compile(loss='binary_crossentropy', optimizer=optimizers.RMSprop(lr=1e-5), metrics=['acc'])\n",
        "history = model.fit(train_generator, steps_per_epoch=100, epochs=100, validation_data=validation_generator, validation_steps=50)"
      ],
      "execution_count": null,
      "outputs": [
        {
          "output_type": "stream",
          "text": [
            "Found 2000 images belonging to 2 classes.\n",
            "Found 1000 images belonging to 2 classes.\n",
            "Epoch 1/100\n",
            "100/100 [==============================] - 25s 252ms/step - loss: 0.5768 - acc: 0.6895 - val_loss: 0.3075 - val_acc: 0.8650\n",
            "Epoch 2/100\n",
            "100/100 [==============================] - 23s 233ms/step - loss: 0.3853 - acc: 0.8320 - val_loss: 0.3361 - val_acc: 0.8960\n",
            "Epoch 3/100\n",
            "100/100 [==============================] - 23s 233ms/step - loss: 0.3257 - acc: 0.8580 - val_loss: 0.1281 - val_acc: 0.9010\n",
            "Epoch 4/100\n",
            "100/100 [==============================] - 23s 232ms/step - loss: 0.2912 - acc: 0.8755 - val_loss: 0.1875 - val_acc: 0.9130\n",
            "Epoch 5/100\n",
            "100/100 [==============================] - 23s 232ms/step - loss: 0.2581 - acc: 0.8920 - val_loss: 0.1100 - val_acc: 0.9000\n",
            "Epoch 6/100\n",
            "100/100 [==============================] - 23s 234ms/step - loss: 0.2522 - acc: 0.8950 - val_loss: 0.1727 - val_acc: 0.9200\n",
            "Epoch 7/100\n",
            "100/100 [==============================] - 23s 231ms/step - loss: 0.2450 - acc: 0.9030 - val_loss: 0.1298 - val_acc: 0.9120\n",
            "Epoch 8/100\n",
            "100/100 [==============================] - 23s 232ms/step - loss: 0.2154 - acc: 0.9070 - val_loss: 0.1912 - val_acc: 0.9210\n",
            "Epoch 9/100\n",
            "100/100 [==============================] - 23s 233ms/step - loss: 0.2115 - acc: 0.9155 - val_loss: 0.0860 - val_acc: 0.9300\n",
            "Epoch 10/100\n",
            "100/100 [==============================] - 23s 234ms/step - loss: 0.2116 - acc: 0.9125 - val_loss: 0.3117 - val_acc: 0.9110\n",
            "Epoch 11/100\n",
            "100/100 [==============================] - 23s 233ms/step - loss: 0.1844 - acc: 0.9275 - val_loss: 0.1166 - val_acc: 0.9070\n",
            "Epoch 12/100\n",
            "100/100 [==============================] - 24s 236ms/step - loss: 0.1811 - acc: 0.9250 - val_loss: 0.6784 - val_acc: 0.9080\n",
            "Epoch 13/100\n",
            "100/100 [==============================] - 23s 234ms/step - loss: 0.1698 - acc: 0.9330 - val_loss: 0.0766 - val_acc: 0.9250\n",
            "Epoch 14/100\n",
            "100/100 [==============================] - 23s 232ms/step - loss: 0.1686 - acc: 0.9280 - val_loss: 0.0947 - val_acc: 0.9300\n",
            "Epoch 15/100\n",
            "100/100 [==============================] - 23s 232ms/step - loss: 0.1547 - acc: 0.9360 - val_loss: 0.1262 - val_acc: 0.9200\n",
            "Epoch 16/100\n",
            "100/100 [==============================] - 23s 234ms/step - loss: 0.1642 - acc: 0.9300 - val_loss: 0.0395 - val_acc: 0.9320\n",
            "Epoch 17/100\n",
            "100/100 [==============================] - 23s 233ms/step - loss: 0.1490 - acc: 0.9400 - val_loss: 0.1400 - val_acc: 0.9290\n",
            "Epoch 18/100\n",
            "100/100 [==============================] - 23s 232ms/step - loss: 0.1401 - acc: 0.9395 - val_loss: 0.2129 - val_acc: 0.9210\n",
            "Epoch 19/100\n",
            "100/100 [==============================] - 23s 234ms/step - loss: 0.1298 - acc: 0.9490 - val_loss: 0.0569 - val_acc: 0.9300\n",
            "Epoch 20/100\n",
            "100/100 [==============================] - 24s 235ms/step - loss: 0.1311 - acc: 0.9450 - val_loss: 0.0961 - val_acc: 0.9300\n",
            "Epoch 21/100\n",
            "100/100 [==============================] - 23s 235ms/step - loss: 0.1253 - acc: 0.9490 - val_loss: 0.0380 - val_acc: 0.9350\n",
            "Epoch 22/100\n",
            "100/100 [==============================] - 23s 233ms/step - loss: 0.1206 - acc: 0.9535 - val_loss: 0.0312 - val_acc: 0.9330\n",
            "Epoch 23/100\n",
            "100/100 [==============================] - 23s 234ms/step - loss: 0.1186 - acc: 0.9570 - val_loss: 0.2392 - val_acc: 0.9270\n",
            "Epoch 24/100\n",
            "100/100 [==============================] - 23s 233ms/step - loss: 0.1136 - acc: 0.9560 - val_loss: 0.2429 - val_acc: 0.9350\n",
            "Epoch 25/100\n",
            "100/100 [==============================] - 24s 237ms/step - loss: 0.1110 - acc: 0.9580 - val_loss: 0.1287 - val_acc: 0.9220\n",
            "Epoch 26/100\n",
            "100/100 [==============================] - 24s 237ms/step - loss: 0.1118 - acc: 0.9610 - val_loss: 0.1757 - val_acc: 0.9310\n",
            "Epoch 27/100\n",
            "100/100 [==============================] - 23s 235ms/step - loss: 0.1066 - acc: 0.9525 - val_loss: 0.2595 - val_acc: 0.9250\n",
            "Epoch 28/100\n",
            "100/100 [==============================] - 23s 234ms/step - loss: 0.0999 - acc: 0.9620 - val_loss: 0.3340 - val_acc: 0.9140\n",
            "Epoch 29/100\n",
            "100/100 [==============================] - 23s 234ms/step - loss: 0.0844 - acc: 0.9670 - val_loss: 0.1110 - val_acc: 0.9160\n",
            "Epoch 30/100\n",
            "100/100 [==============================] - 23s 235ms/step - loss: 0.0835 - acc: 0.9685 - val_loss: 0.0572 - val_acc: 0.9370\n",
            "Epoch 31/100\n",
            "100/100 [==============================] - 24s 236ms/step - loss: 0.0816 - acc: 0.9645 - val_loss: 0.9542 - val_acc: 0.9070\n",
            "Epoch 32/100\n",
            "100/100 [==============================] - 23s 234ms/step - loss: 0.0885 - acc: 0.9630 - val_loss: 0.0540 - val_acc: 0.9320\n",
            "Epoch 33/100\n",
            "100/100 [==============================] - 23s 233ms/step - loss: 0.0866 - acc: 0.9685 - val_loss: 0.1497 - val_acc: 0.9320\n",
            "Epoch 34/100\n",
            "100/100 [==============================] - 24s 235ms/step - loss: 0.0849 - acc: 0.9710 - val_loss: 0.1052 - val_acc: 0.9200\n",
            "Epoch 35/100\n",
            "100/100 [==============================] - 23s 232ms/step - loss: 0.0867 - acc: 0.9685 - val_loss: 0.0666 - val_acc: 0.9260\n",
            "Epoch 36/100\n",
            "100/100 [==============================] - 23s 231ms/step - loss: 0.0798 - acc: 0.9720 - val_loss: 0.1503 - val_acc: 0.9250\n",
            "Epoch 37/100\n",
            "100/100 [==============================] - 23s 234ms/step - loss: 0.0820 - acc: 0.9665 - val_loss: 0.0623 - val_acc: 0.9340\n",
            "Epoch 38/100\n",
            "100/100 [==============================] - 23s 232ms/step - loss: 0.0720 - acc: 0.9755 - val_loss: 0.0091 - val_acc: 0.9300\n",
            "Epoch 39/100\n",
            "100/100 [==============================] - 24s 236ms/step - loss: 0.0844 - acc: 0.9645 - val_loss: 0.2221 - val_acc: 0.9380\n",
            "Epoch 40/100\n",
            "100/100 [==============================] - 23s 232ms/step - loss: 0.0818 - acc: 0.9705 - val_loss: 0.1951 - val_acc: 0.9350\n",
            "Epoch 41/100\n",
            "100/100 [==============================] - 23s 233ms/step - loss: 0.0624 - acc: 0.9790 - val_loss: 0.0288 - val_acc: 0.9310\n",
            "Epoch 42/100\n",
            "100/100 [==============================] - 23s 233ms/step - loss: 0.0695 - acc: 0.9745 - val_loss: 0.0768 - val_acc: 0.9360\n",
            "Epoch 43/100\n",
            "100/100 [==============================] - 23s 231ms/step - loss: 0.0608 - acc: 0.9730 - val_loss: 0.2195 - val_acc: 0.9380\n",
            "Epoch 44/100\n",
            "100/100 [==============================] - 23s 234ms/step - loss: 0.0710 - acc: 0.9765 - val_loss: 0.0624 - val_acc: 0.9360\n",
            "Epoch 45/100\n",
            "100/100 [==============================] - 23s 232ms/step - loss: 0.0482 - acc: 0.9815 - val_loss: 0.1761 - val_acc: 0.9280\n",
            "Epoch 46/100\n",
            "100/100 [==============================] - 23s 232ms/step - loss: 0.0695 - acc: 0.9730 - val_loss: 0.4313 - val_acc: 0.9270\n",
            "Epoch 47/100\n",
            "100/100 [==============================] - 23s 232ms/step - loss: 0.0526 - acc: 0.9825 - val_loss: 0.1395 - val_acc: 0.9220\n",
            "Epoch 48/100\n",
            "100/100 [==============================] - 23s 233ms/step - loss: 0.0563 - acc: 0.9760 - val_loss: 0.2893 - val_acc: 0.9400\n",
            "Epoch 49/100\n",
            "100/100 [==============================] - 23s 232ms/step - loss: 0.0464 - acc: 0.9825 - val_loss: 0.0076 - val_acc: 0.9340\n",
            "Epoch 50/100\n",
            "100/100 [==============================] - 23s 232ms/step - loss: 0.0554 - acc: 0.9785 - val_loss: 0.2846 - val_acc: 0.9310\n",
            "Epoch 51/100\n",
            "100/100 [==============================] - 24s 239ms/step - loss: 0.0402 - acc: 0.9870 - val_loss: 0.5674 - val_acc: 0.9390\n",
            "Epoch 52/100\n",
            "100/100 [==============================] - 24s 244ms/step - loss: 0.0523 - acc: 0.9800 - val_loss: 3.0360e-04 - val_acc: 0.9340\n",
            "Epoch 53/100\n",
            "100/100 [==============================] - 24s 237ms/step - loss: 0.0605 - acc: 0.9745 - val_loss: 0.0813 - val_acc: 0.9020\n",
            "Epoch 54/100\n",
            "100/100 [==============================] - 23s 234ms/step - loss: 0.0462 - acc: 0.9815 - val_loss: 0.6405 - val_acc: 0.9270\n",
            "Epoch 55/100\n",
            "100/100 [==============================] - 23s 232ms/step - loss: 0.0508 - acc: 0.9820 - val_loss: 0.0018 - val_acc: 0.9320\n",
            "Epoch 56/100\n",
            "100/100 [==============================] - 23s 232ms/step - loss: 0.0490 - acc: 0.9820 - val_loss: 1.2295 - val_acc: 0.9200\n",
            "Epoch 57/100\n",
            "100/100 [==============================] - 23s 233ms/step - loss: 0.0486 - acc: 0.9810 - val_loss: 0.0416 - val_acc: 0.9390\n",
            "Epoch 58/100\n",
            "100/100 [==============================] - 24s 236ms/step - loss: 0.0415 - acc: 0.9855 - val_loss: 0.0720 - val_acc: 0.9370\n",
            "Epoch 59/100\n",
            "100/100 [==============================] - 23s 233ms/step - loss: 0.0456 - acc: 0.9865 - val_loss: 0.1955 - val_acc: 0.9440\n",
            "Epoch 60/100\n",
            "100/100 [==============================] - 23s 234ms/step - loss: 0.0494 - acc: 0.9775 - val_loss: 0.2433 - val_acc: 0.9360\n",
            "Epoch 61/100\n",
            "100/100 [==============================] - 23s 234ms/step - loss: 0.0435 - acc: 0.9835 - val_loss: 0.2428 - val_acc: 0.9400\n",
            "Epoch 62/100\n",
            "100/100 [==============================] - 23s 233ms/step - loss: 0.0454 - acc: 0.9865 - val_loss: 0.5885 - val_acc: 0.9190\n",
            "Epoch 63/100\n",
            "100/100 [==============================] - 23s 234ms/step - loss: 0.0400 - acc: 0.9845 - val_loss: 0.4465 - val_acc: 0.9340\n",
            "Epoch 64/100\n",
            "100/100 [==============================] - 23s 233ms/step - loss: 0.0371 - acc: 0.9855 - val_loss: 0.1522 - val_acc: 0.9350\n",
            "Epoch 65/100\n",
            "100/100 [==============================] - 23s 235ms/step - loss: 0.0419 - acc: 0.9855 - val_loss: 0.8276 - val_acc: 0.9110\n",
            "Epoch 66/100\n",
            "100/100 [==============================] - 23s 232ms/step - loss: 0.0466 - acc: 0.9840 - val_loss: 0.0029 - val_acc: 0.9430\n",
            "Epoch 67/100\n",
            "100/100 [==============================] - 23s 231ms/step - loss: 0.0307 - acc: 0.9860 - val_loss: 0.2391 - val_acc: 0.9120\n",
            "Epoch 68/100\n",
            "100/100 [==============================] - 23s 232ms/step - loss: 0.0375 - acc: 0.9870 - val_loss: 0.5845 - val_acc: 0.9350\n",
            "Epoch 69/100\n",
            "100/100 [==============================] - 23s 232ms/step - loss: 0.0418 - acc: 0.9860 - val_loss: 0.1209 - val_acc: 0.9340\n",
            "Epoch 70/100\n",
            "100/100 [==============================] - 23s 231ms/step - loss: 0.0274 - acc: 0.9885 - val_loss: 0.3812 - val_acc: 0.9360\n",
            "Epoch 71/100\n",
            "100/100 [==============================] - 23s 234ms/step - loss: 0.0400 - acc: 0.9835 - val_loss: 0.0941 - val_acc: 0.9370\n",
            "Epoch 72/100\n",
            "100/100 [==============================] - 23s 232ms/step - loss: 0.0313 - acc: 0.9890 - val_loss: 0.1970 - val_acc: 0.9210\n",
            "Epoch 73/100\n",
            "100/100 [==============================] - 23s 232ms/step - loss: 0.0306 - acc: 0.9880 - val_loss: 0.0464 - val_acc: 0.9350\n",
            "Epoch 74/100\n",
            "100/100 [==============================] - 23s 231ms/step - loss: 0.0306 - acc: 0.9900 - val_loss: 0.1387 - val_acc: 0.9400\n",
            "Epoch 75/100\n",
            "100/100 [==============================] - 23s 232ms/step - loss: 0.0353 - acc: 0.9880 - val_loss: 0.0262 - val_acc: 0.9300\n",
            "Epoch 76/100\n",
            "100/100 [==============================] - 23s 231ms/step - loss: 0.0416 - acc: 0.9860 - val_loss: 0.6531 - val_acc: 0.9300\n",
            "Epoch 77/100\n",
            "100/100 [==============================] - 23s 231ms/step - loss: 0.0397 - acc: 0.9860 - val_loss: 0.7904 - val_acc: 0.9280\n",
            "Epoch 78/100\n",
            "100/100 [==============================] - 23s 231ms/step - loss: 0.0399 - acc: 0.9865 - val_loss: 0.3598 - val_acc: 0.9300\n",
            "Epoch 79/100\n",
            "100/100 [==============================] - 24s 236ms/step - loss: 0.0215 - acc: 0.9935 - val_loss: 0.1194 - val_acc: 0.9390\n",
            "Epoch 80/100\n",
            "100/100 [==============================] - 23s 232ms/step - loss: 0.0167 - acc: 0.9950 - val_loss: 0.1230 - val_acc: 0.9380\n",
            "Epoch 81/100\n",
            "100/100 [==============================] - 23s 231ms/step - loss: 0.0335 - acc: 0.9870 - val_loss: 0.3549 - val_acc: 0.9310\n",
            "Epoch 82/100\n",
            "100/100 [==============================] - 23s 231ms/step - loss: 0.0341 - acc: 0.9855 - val_loss: 0.4931 - val_acc: 0.9400\n",
            "Epoch 83/100\n",
            "100/100 [==============================] - 23s 231ms/step - loss: 0.0286 - acc: 0.9900 - val_loss: 0.0442 - val_acc: 0.9400\n",
            "Epoch 84/100\n",
            "100/100 [==============================] - 23s 233ms/step - loss: 0.0316 - acc: 0.9895 - val_loss: 0.1212 - val_acc: 0.9290\n",
            "Epoch 85/100\n",
            "100/100 [==============================] - 23s 231ms/step - loss: 0.0400 - acc: 0.9855 - val_loss: 0.6203 - val_acc: 0.9410\n",
            "Epoch 86/100\n",
            "100/100 [==============================] - 23s 232ms/step - loss: 0.0256 - acc: 0.9915 - val_loss: 0.0047 - val_acc: 0.9230\n",
            "Epoch 87/100\n",
            "100/100 [==============================] - 23s 230ms/step - loss: 0.0218 - acc: 0.9920 - val_loss: 0.1148 - val_acc: 0.9440\n",
            "Epoch 88/100\n",
            "100/100 [==============================] - 23s 231ms/step - loss: 0.0294 - acc: 0.9910 - val_loss: 0.2268 - val_acc: 0.9260\n",
            "Epoch 89/100\n",
            "100/100 [==============================] - 23s 231ms/step - loss: 0.0306 - acc: 0.9910 - val_loss: 0.0102 - val_acc: 0.9380\n",
            "Epoch 90/100\n",
            "100/100 [==============================] - 23s 229ms/step - loss: 0.0278 - acc: 0.9925 - val_loss: 0.5749 - val_acc: 0.9340\n",
            "Epoch 91/100\n",
            "100/100 [==============================] - 23s 230ms/step - loss: 0.0235 - acc: 0.9905 - val_loss: 0.6500 - val_acc: 0.9370\n",
            "Epoch 92/100\n",
            "100/100 [==============================] - 23s 235ms/step - loss: 0.0265 - acc: 0.9915 - val_loss: 0.2174 - val_acc: 0.9330\n",
            "Epoch 93/100\n",
            "100/100 [==============================] - 23s 230ms/step - loss: 0.0282 - acc: 0.9910 - val_loss: 0.1596 - val_acc: 0.9460\n",
            "Epoch 94/100\n",
            "100/100 [==============================] - 23s 230ms/step - loss: 0.0268 - acc: 0.9900 - val_loss: 0.7126 - val_acc: 0.9370\n",
            "Epoch 95/100\n",
            "100/100 [==============================] - 23s 230ms/step - loss: 0.0207 - acc: 0.9925 - val_loss: 0.0584 - val_acc: 0.9310\n",
            "Epoch 96/100\n",
            "100/100 [==============================] - 23s 233ms/step - loss: 0.0320 - acc: 0.9890 - val_loss: 0.3274 - val_acc: 0.9380\n",
            "Epoch 97/100\n",
            "100/100 [==============================] - 23s 233ms/step - loss: 0.0143 - acc: 0.9945 - val_loss: 0.3934 - val_acc: 0.9270\n",
            "Epoch 98/100\n",
            "100/100 [==============================] - 23s 231ms/step - loss: 0.0255 - acc: 0.9895 - val_loss: 0.2318 - val_acc: 0.9370\n",
            "Epoch 99/100\n",
            "100/100 [==============================] - 23s 231ms/step - loss: 0.0295 - acc: 0.9880 - val_loss: 0.0564 - val_acc: 0.9310\n",
            "Epoch 100/100\n",
            "100/100 [==============================] - 23s 231ms/step - loss: 0.0244 - acc: 0.9905 - val_loss: 0.3584 - val_acc: 0.9260\n"
          ],
          "name": "stdout"
        }
      ]
    },
    {
      "cell_type": "code",
      "metadata": {
        "id": "mxgGkwtbAs8d",
        "colab_type": "code",
        "colab": {
          "base_uri": "https://localhost:8080/",
          "height": 545
        },
        "outputId": "fe549415-83c8-4d0b-d9c8-0cd85fba9090"
      },
      "source": [
        "#繪製結果\n",
        "import matplotlib.pyplot as plt\n",
        "\n",
        "acc = history.history['acc']\n",
        "val_acc = history.history['val_acc']\n",
        "loss = history.history['loss']\n",
        "val_loss = history.history['val_loss']\n",
        "\n",
        "epochs = range(1, len(acc) + 1)\n",
        "\n",
        "plt.plot(epochs, acc, 'bo', label='Training acc')\n",
        "plt.plot(epochs, val_acc, 'b', label='Validation acc')\n",
        "plt.title('Training and validation accuracy')\n",
        "plt.legend()\n",
        "\n",
        "plt.figure()\n",
        "\n",
        "plt.plot(epochs, loss, 'bo', label='Training loss')\n",
        "plt.plot(epochs, val_loss, 'b', label='Validation loss')\n",
        "plt.title('Training and validation loss')\n",
        "plt.legend()\n",
        "\n",
        "plt.show()"
      ],
      "execution_count": null,
      "outputs": [
        {
          "output_type": "display_data",
          "data": {
            "image/png": "[encoded data removed]",
            "text/plain": [
              "<Figure size 432x288 with 1 Axes>"
            ]
          },
          "metadata": {
            "tags": [],
            "needs_background": "light"
          }
        },
        {
          "output_type": "display_data",
          "data": {
            "image/png": "[encoded data removed]",
            "text/plain": [
              "<Figure size 432x288 with 1 Axes>"
            ]
          },
          "metadata": {
            "tags": [],
            "needs_background": "light"
          }
        }
      ]
    },
    {
      "cell_type": "code",
      "metadata": {
        "id": "KC_8_-UWB1KP",
        "colab_type": "code",
        "colab": {}
      },
      "source": [
        "#繪製平滑曲線，增加可讀性\n",
        "def smooth_curve(points, factor=0.8):\n",
        "    smoothed_points = []\n",
        "    for point in points:\n",
        "        if smoothed_points:\n",
        "            previous = smoothed_points[-1]\n",
        "            smoothed_points.append(previous * factor + point * (1 - factor))\n",
        "        else:\n",
        "            smoothed_points.append(point)\n",
        "    return smoothed_points"
      ],
      "execution_count": null,
      "outputs": []
    },
    {
      "cell_type": "code",
      "metadata": {
        "id": "UV0L7T3-CgVB",
        "colab_type": "code",
        "colab": {
          "base_uri": "https://localhost:8080/",
          "height": 545
        },
        "outputId": "3d914bde-1bde-4221-c7f7-035249e93686"
      },
      "source": [
        "plt.plot(epochs, smooth_curve(acc), 'bo', label='Smoothed training acc')\n",
        "plt.plot(epochs, smooth_curve(val_acc), 'b', label='Smoothed validation acc')\n",
        "plt.title('Training and validation accuracy')\n",
        "plt.legend()\n",
        "\n",
        "plt.figure()\n",
        "\n",
        "plt.plot(epochs, smooth_curve(loss), 'bo', label='Smoothed training loss')\n",
        "plt.plot(epochs, smooth_curve(val_loss), 'b', label='Smoothed validation loss')\n",
        "plt.title('Training and validation loss')\n",
        "plt.legend()\n",
        "\n",
        "plt.show()"
      ],
      "execution_count": null,
      "outputs": [
        {
          "output_type": "display_data",
          "data": {
            "image/png": "[encoded data removed]",
            "text/plain": [
              "<Figure size 432x288 with 1 Axes>"
            ]
          },
          "metadata": {
            "tags": [],
            "needs_background": "light"
          }
        },
        {
          "output_type": "display_data",
          "data": {
            "image/png": "[encoded data removed]",
            "text/plain": [
              "<Figure size 432x288 with 1 Axes>"
            ]
          },
          "metadata": {
            "tags": [],
            "needs_background": "light"
          }
        }
      ]
    },
    {
      "cell_type": "code",
      "metadata": {
        "id": "Y7DNSIB8DF7W",
        "colab_type": "code",
        "colab": {
          "base_uri": "https://localhost:8080/",
          "height": 68
        },
        "outputId": "87e3676e-8457-4b49-befa-b8a3431eae4c"
      },
      "source": [
        "#使用測試資料來評估微調後的模型\n",
        "test_datagen = ImageDataGenerator(rescale=1./255)\n",
        "test_generator = test_datagen.flow_from_directory(test_dir, target_size=(150, 150), batch_size=20, class_mode='binary')\n",
        "\n",
        "test_loss, test_acc = model.evaluate(test_generator, steps=50)\n",
        "print('test acc:', test_acc)"
      ],
      "execution_count": null,
      "outputs": [
        {
          "output_type": "stream",
          "text": [
            "Found 1000 images belonging to 2 classes.\n",
            "50/50 [==============================] - 5s 98ms/step\n",
            "test acc: 0.9350000023841858\n"
          ],
          "name": "stdout"
        }
      ]
    }
  ]
}