{
  "nbformat": 4,
  "nbformat_minor": 0,
  "metadata": {
    "colab": {
      "name": "Ch06-4.ipynb",
      "provenance": [],
      "collapsed_sections": [],
      "authorship_tag": "ABX9TyP2ozEKw4ooEQ0i0xAKRiyh",
      "include_colab_link": true
    },
    "kernelspec": {
      "name": "python3",
      "display_name": "Python 3"
    },
    "accelerator": "TPU"
  },
  "cells": [
    {
      "cell_type": "markdown",
      "metadata": {
        "id": "view-in-github",
        "colab_type": "text"
      },
      "source": [
        "<a href=\"https://colab.research.google.com/github/mimiachiu/Deep-Learning-with-Python-Book/blob/master/Ch06_4.ipynb\" target=\"_parent\"><img src=\"https://colab.research.google.com/assets/colab-badge.svg\" alt=\"Open In Colab\"/></a>"
      ]
    },
    {
      "cell_type": "code",
      "metadata": {
        "id": "2XWDO4Dlfn8T",
        "colab_type": "code",
        "colab": {
          "base_uri": "https://localhost:8080/",
          "height": 153
        },
        "outputId": "45252fa4-ad6b-4cad-cf14-2f3d6657f417"
      },
      "source": [
        "pip install keras"
      ],
      "execution_count": null,
      "outputs": [
        {
          "output_type": "stream",
          "text": [
            "Requirement already satisfied: keras in /usr/local/lib/python3.6/dist-packages (2.3.1)\n",
            "Requirement already satisfied: six>=1.9.0 in /usr/local/lib/python3.6/dist-packages (from keras) (1.12.0)\n",
            "Requirement already satisfied: keras-preprocessing>=1.0.5 in /usr/local/lib/python3.6/dist-packages (from keras) (1.1.2)\n",
            "Requirement already satisfied: h5py in /usr/local/lib/python3.6/dist-packages (from keras) (2.10.0)\n",
            "Requirement already satisfied: scipy>=0.14 in /usr/local/lib/python3.6/dist-packages (from keras) (1.4.1)\n",
            "Requirement already satisfied: numpy>=1.9.1 in /usr/local/lib/python3.6/dist-packages (from keras) (1.18.5)\n",
            "Requirement already satisfied: pyyaml in /usr/local/lib/python3.6/dist-packages (from keras) (3.13)\n",
            "Requirement already satisfied: keras-applications>=1.0.6 in /usr/local/lib/python3.6/dist-packages (from keras) (1.0.8)\n"
          ],
          "name": "stdout"
        }
      ]
    },
    {
      "cell_type": "code",
      "metadata": {
        "id": "aHECmUsgWbAb",
        "colab_type": "code",
        "colab": {
          "base_uri": "https://localhost:8080/",
          "height": 170
        },
        "outputId": "80c047c0-305c-458c-f59f-856f38279bc5"
      },
      "source": [
        "#準備IMDB資料\n",
        "from keras.datasets import imdb\n",
        "from keras.preprocessing import sequence\n",
        "\n",
        "max_features = 10000\n",
        "maxlen = 500\n",
        "\n",
        "print('Loading data...')\n",
        "(x_train, y_train), (x_test, y_test) = imdb.load_data(num_words=max_features)\n",
        "print(len(x_train), 'train sequences')\n",
        "print(len(x_test), 'test sequences')\n",
        "\n",
        "print('Pad sequences (samples x time)')\n",
        "x_train = sequence.pad_sequences(x_train, maxlen=maxlen)\n",
        "x_test = sequence.pad_sequences(x_test, maxlen=maxlen)\n",
        "print('x_train shape:', x_train.shape)\n",
        "print('x_test shape:', x_test.shape)"
      ],
      "execution_count": null,
      "outputs": [
        {
          "output_type": "stream",
          "text": [
            "Using TensorFlow backend.\n"
          ],
          "name": "stderr"
        },
        {
          "output_type": "stream",
          "text": [
            "Loading data...\n",
            "Downloading data from https://s3.amazonaws.com/text-datasets/imdb.npz\n",
            "17465344/17464789 [==============================] - 0s 0us/step\n",
            "25000 train sequences\n",
            "25000 test sequences\n",
            "Pad sequences (samples x time)\n",
            "x_train shape: (25000, 500)\n",
            "x_test shape: (25000, 500)\n"
          ],
          "name": "stdout"
        }
      ]
    },
    {
      "cell_type": "code",
      "metadata": {
        "id": "KCvkUlUuXEuf",
        "colab_type": "code",
        "colab": {
          "base_uri": "https://localhost:8080/",
          "height": 748
        },
        "outputId": "04aca386-7a65-412f-8026-3d17a83a49ff"
      },
      "source": [
        "#以IMDB資料訓練和驗證簡單的1D卷積神經網路\n",
        "from keras.models import Sequential\n",
        "from keras import layers\n",
        "from keras.optimizers import RMSprop\n",
        "\n",
        "model = Sequential()\n",
        "model.add(layers.Embedding(max_features, 128, input_length=maxlen))\n",
        "model.add(layers.Conv1D(32, 7, activation='relu'))\n",
        "model.add(layers.MaxPooling1D(5))\n",
        "model.add(layers.Conv1D(32, 7, activation='relu'))\n",
        "model.add(layers.GlobalMaxPooling1D())\n",
        "model.add(layers.Dense(1))\n",
        "\n",
        "model.summary()\n",
        "\n",
        "model.compile(optimizer=RMSprop(lr=1e-4), loss='binary_crossentropy', metrics=['acc'])\n",
        "history = model.fit(x_train, y_train, epochs=10, batch_size=128, validation_split=0.2)"
      ],
      "execution_count": null,
      "outputs": [
        {
          "output_type": "stream",
          "text": [
            "Model: \"sequential_2\"\n",
            "_________________________________________________________________\n",
            "Layer (type)                 Output Shape              Param #   \n",
            "=================================================================\n",
            "embedding_1 (Embedding)      (None, 500, 128)          1280000   \n",
            "_________________________________________________________________\n",
            "conv1d_1 (Conv1D)            (None, 494, 32)           28704     \n",
            "_________________________________________________________________\n",
            "max_pooling1d_1 (MaxPooling1 (None, 98, 32)            0         \n",
            "_________________________________________________________________\n",
            "conv1d_2 (Conv1D)            (None, 92, 32)            7200      \n",
            "_________________________________________________________________\n",
            "global_max_pooling1d_1 (Glob (None, 32)                0         \n",
            "_________________________________________________________________\n",
            "dense_1 (Dense)              (None, 1)                 33        \n",
            "=================================================================\n",
            "Total params: 1,315,937\n",
            "Trainable params: 1,315,937\n",
            "Non-trainable params: 0\n",
            "_________________________________________________________________\n"
          ],
          "name": "stdout"
        },
        {
          "output_type": "stream",
          "text": [
            "/usr/local/lib/python3.6/dist-packages/tensorflow/python/framework/indexed_slices.py:434: UserWarning: Converting sparse IndexedSlices to a dense Tensor of unknown shape. This may consume a large amount of memory.\n",
            "  \"Converting sparse IndexedSlices to a dense Tensor of unknown shape. \"\n"
          ],
          "name": "stderr"
        },
        {
          "output_type": "stream",
          "text": [
            "Train on 20000 samples, validate on 5000 samples\n",
            "Epoch 1/10\n",
            "20000/20000 [==============================] - 60s 3ms/step - loss: 0.7751 - acc: 0.5279 - val_loss: 0.6822 - val_acc: 0.5852\n",
            "Epoch 2/10\n",
            "20000/20000 [==============================] - 59s 3ms/step - loss: 0.6620 - acc: 0.6677 - val_loss: 0.6583 - val_acc: 0.6746\n",
            "Epoch 3/10\n",
            "20000/20000 [==============================] - 59s 3ms/step - loss: 0.6152 - acc: 0.7586 - val_loss: 0.5990 - val_acc: 0.7384\n",
            "Epoch 4/10\n",
            "20000/20000 [==============================] - 59s 3ms/step - loss: 0.5157 - acc: 0.8177 - val_loss: 0.4670 - val_acc: 0.8188\n",
            "Epoch 5/10\n",
            "20000/20000 [==============================] - 59s 3ms/step - loss: 0.3878 - acc: 0.8569 - val_loss: 0.4102 - val_acc: 0.8346\n",
            "Epoch 6/10\n",
            "20000/20000 [==============================] - 59s 3ms/step - loss: 0.3314 - acc: 0.8666 - val_loss: 0.3990 - val_acc: 0.8356\n",
            "Epoch 7/10\n",
            "20000/20000 [==============================] - 59s 3ms/step - loss: 0.2918 - acc: 0.8608 - val_loss: 0.3984 - val_acc: 0.8212\n",
            "Epoch 8/10\n",
            "20000/20000 [==============================] - 59s 3ms/step - loss: 0.2653 - acc: 0.8454 - val_loss: 0.4046 - val_acc: 0.8060\n",
            "Epoch 9/10\n",
            "20000/20000 [==============================] - 59s 3ms/step - loss: 0.2421 - acc: 0.8321 - val_loss: 0.4216 - val_acc: 0.7740\n",
            "Epoch 10/10\n",
            "20000/20000 [==============================] - 59s 3ms/step - loss: 0.2211 - acc: 0.8010 - val_loss: 0.4418 - val_acc: 0.7480\n"
          ],
          "name": "stdout"
        }
      ]
    },
    {
      "cell_type": "code",
      "metadata": {
        "id": "ryqj2Mruf1aT",
        "colab_type": "code",
        "colab": {
          "base_uri": "https://localhost:8080/",
          "height": 545
        },
        "outputId": "160ba273-761d-4e3e-bee5-5a08aeabdd72"
      },
      "source": [
        "#繪製結果\n",
        "import matplotlib.pyplot as plt\n",
        "\n",
        "acc = history.history['acc']\n",
        "val_acc = history.history['val_acc']\n",
        "loss = history.history['loss']\n",
        "val_loss = history.history['val_loss']\n",
        "\n",
        "epochs = range(1, len(acc) + 1)\n",
        "\n",
        "plt.plot(epochs, acc, 'bo', label='Training acc')\n",
        "plt.plot(epochs, val_acc, 'b', label='Validation acc')\n",
        "plt.title('Training and validation accuracy')\n",
        "plt.legend()\n",
        "plt.figure()\n",
        "\n",
        "plt.plot(epochs, loss, 'bo', label='Training loss')\n",
        "plt.plot(epochs, val_loss, 'b', label='Validation loss')\n",
        "plt.title('Training and validation loss')\n",
        "plt.legend()\n",
        "\n",
        "plt.show()"
      ],
      "execution_count": null,
      "outputs": [
        {
          "output_type": "display_data",
          "data": {
            "image/png": "[encoded data removed]",
            "text/plain": [
              "<Figure size 432x288 with 1 Axes>"
            ]
          },
          "metadata": {
            "tags": [],
            "needs_background": "light"
          }
        },
        {
          "output_type": "display_data",
          "data": {
            "image/png": "[encoded data removed]",
            "text/plain": [
              "<Figure size 432x288 with 1 Axes>"
            ]
          },
          "metadata": {
            "tags": [],
            "needs_background": "light"
          }
        }
      ]
    },
    {
      "cell_type": "code",
      "metadata": {
        "id": "5zAYK90_gpZ4",
        "colab_type": "code",
        "colab": {
          "base_uri": "https://localhost:8080/",
          "height": 122
        },
        "outputId": "50f3b19d-5887-4486-cab9-14275baa7f46"
      },
      "source": [
        "from google.colab import drive\n",
        "drive.mount('/content/gdrive', force_remount=True)"
      ],
      "execution_count": null,
      "outputs": [
        {
          "output_type": "stream",
          "text": [
            "Go to this URL in a browser: https://accounts.google.com/o/oauth2/auth?client_id=947318989803-6bn6qk8qdgf4n4g3pfee6491hc0brc4i.apps.googleusercontent.com&redirect_uri=urn%3aietf%3awg%3aoauth%3a2.0%3aoob&response_type=code&scope=email%20https%3a%2f%2fwww.googleapis.com%2fauth%2fdocs.test%20https%3a%2f%2fwww.googleapis.com%2fauth%2fdrive%20https%3a%2f%2fwww.googleapis.com%2fauth%2fdrive.photos.readonly%20https%3a%2f%2fwww.googleapis.com%2fauth%2fpeopleapi.readonly\n",
            "\n",
            "Enter your authorization code:\n",
            "··········\n",
            "Mounted at /content/gdrive\n"
          ],
          "name": "stdout"
        }
      ]
    },
    {
      "cell_type": "code",
      "metadata": {
        "id": "laatElCTg3wE",
        "colab_type": "code",
        "colab": {}
      },
      "source": [
        "#定義產生器函式以產生時間序列樣本資料及其目標資料\n",
        "def generator(data, lookback, delay, min_index, max_index, shuffle=False, batch_size=128, step=6):\n",
        "    if max_index is None:\n",
        "        max_index = len(data) - delay - 1\n",
        "\n",
        "    i = min_index + lookback\n",
        "    while 1:\n",
        "        if shuffle:\n",
        "            rows = np.random.randint(min_index + lookback, max_index, size=batch_size)\n",
        "        else:\n",
        "            if i + batch_size >= max_index:\n",
        "                i = min_index + lookback\n",
        "            rows = np.arange(i, min(i + batch_size, max_index))\n",
        "            i += len(rows)\n",
        "        samples = np.zeros((len(rows), lookback // step, data.shape[-1]))\n",
        "        targets = np.zeros((len(rows), ))\n",
        "        for j, row in enumerate(rows):\n",
        "            indices = range(rows[j] - lookback, rows[j], step)\n",
        "            samples[j] = data[indices]\n",
        "            targets[j] = data[rows[j] + delay][1]\n",
        "        yield samples, targets"
      ],
      "execution_count": null,
      "outputs": []
    },
    {
      "cell_type": "code",
      "metadata": {
        "id": "Rcn99SMygq3q",
        "colab_type": "code",
        "colab": {}
      },
      "source": [
        "#耶拿天氣資料集\n",
        "import os\n",
        "\n",
        "data_dir = '/content/gdrive/My Drive/Colab Notebooks/Deep Learning with Python'\n",
        "fname = os.path.join(data_dir, 'jena_climate_2009_2016.csv')\n",
        "\n",
        "f = open(fname)\n",
        "data = f.read()\n",
        "f.close()\n",
        "\n",
        "lines = data.split('\\n')\n",
        "header = lines[0].split(',')\n",
        "lines = lines[1:]\n",
        "\n",
        "import numpy as np\n",
        "\n",
        "float_data  = np.zeros((len(lines), len(header) - 1))\n",
        "for i, line in enumerate(lines):\n",
        "    values = [float(x) for x in line.split(',')[1:]]\n",
        "    float_data[i, :] = values\n",
        "\n",
        "mean = float_data[:200000].mean(axis=0)\n",
        "float_data -= mean\n",
        "std = float_data[:200000].std(axis=0)\n",
        "float_data /= std\n",
        "\n",
        "#建立訓練資料、驗證資料和測試資料產生器\n",
        "lookback = 1440\n",
        "step = 6\n",
        "delay = 144\n",
        "batch_size = 128\n",
        "\n",
        "train_gen = generator(float_data, lookback=lookback, delay=delay, min_index=0, max_index=200000, shuffle=True, step=step, batch_size=batch_size)\n",
        "val_gen = generator(float_data, lookback=lookback, delay=delay, min_index=200001, max_index=300000, step=step, batch_size=batch_size)\n",
        "test_gen = generator(float_data, lookback=lookback, delay=delay, min_index=300001, max_index=None, step=step, batch_size=batch_size)\n",
        "\n",
        "val_steps = (300000 - 200001 - lookback) // batch_size\n",
        "test_steps = (len(float_data) - 300001 - lookback) // batch_size"
      ],
      "execution_count": null,
      "outputs": []
    },
    {
      "cell_type": "code",
      "metadata": {
        "id": "bdMMvnkNflnQ",
        "colab_type": "code",
        "colab": {
          "base_uri": "https://localhost:8080/",
          "height": 697
        },
        "outputId": "85a989a1-f87c-488f-f054-8b6788e5dbb0"
      },
      "source": [
        "#以耶拿資料訓練和驗證一個簡單的1D卷積神經網路\n",
        "from keras.models import Sequential\n",
        "from keras import layers\n",
        "from keras.optimizers import RMSprop\n",
        "\n",
        "model = Sequential()\n",
        "model.add(layers.Conv1D(32, 5, activation='relu', input_shape=(None, float_data.shape[-1])))\n",
        "model.add(layers.MaxPooling1D(3))\n",
        "model.add(layers.Conv1D(32, 5, activation='relu'))\n",
        "model.add(layers.MaxPooling1D(3))\n",
        "model.add(layers.Conv1D(32, 5, activation='relu'))\n",
        "model.add(layers.GlobalMaxPooling1D())\n",
        "model.add(layers.Dense(1))\n",
        "\n",
        "model.compile(optimizer=RMSprop(), loss='mae')\n",
        "history = model.fit_generator(train_gen, steps_per_epoch=500, epochs=20, validation_data=val_gen, validation_steps=val_steps)"
      ],
      "execution_count": null,
      "outputs": [
        {
          "output_type": "stream",
          "text": [
            "Epoch 1/20\n",
            "500/500 [==============================] - 34s 69ms/step - loss: 0.4287 - val_loss: 0.1460\n",
            "Epoch 2/20\n",
            "500/500 [==============================] - 34s 68ms/step - loss: 0.3667 - val_loss: 0.1747\n",
            "Epoch 3/20\n",
            "500/500 [==============================] - 34s 67ms/step - loss: 0.3380 - val_loss: 0.1512\n",
            "Epoch 4/20\n",
            "500/500 [==============================] - 34s 68ms/step - loss: 0.3191 - val_loss: 0.2018\n",
            "Epoch 5/20\n",
            "500/500 [==============================] - 33s 67ms/step - loss: 0.3068 - val_loss: 0.1389\n",
            "Epoch 6/20\n",
            "500/500 [==============================] - 34s 69ms/step - loss: 0.2977 - val_loss: 0.1578\n",
            "Epoch 7/20\n",
            "500/500 [==============================] - 34s 68ms/step - loss: 0.2886 - val_loss: 0.1478\n",
            "Epoch 8/20\n",
            "500/500 [==============================] - 34s 69ms/step - loss: 0.2824 - val_loss: 0.1420\n",
            "Epoch 9/20\n",
            "500/500 [==============================] - 34s 69ms/step - loss: 0.2767 - val_loss: 0.2106\n",
            "Epoch 10/20\n",
            "500/500 [==============================] - 35s 69ms/step - loss: 0.2707 - val_loss: 0.2217\n",
            "Epoch 11/20\n",
            "500/500 [==============================] - 34s 68ms/step - loss: 0.2654 - val_loss: 0.1597\n",
            "Epoch 12/20\n",
            "500/500 [==============================] - 34s 68ms/step - loss: 0.2617 - val_loss: 0.1635\n",
            "Epoch 13/20\n",
            "500/500 [==============================] - 34s 68ms/step - loss: 0.2568 - val_loss: 0.1495\n",
            "Epoch 14/20\n",
            "500/500 [==============================] - 34s 68ms/step - loss: 0.2554 - val_loss: 0.2343\n",
            "Epoch 15/20\n",
            "500/500 [==============================] - 34s 68ms/step - loss: 0.2511 - val_loss: 0.2249\n",
            "Epoch 16/20\n",
            "500/500 [==============================] - 34s 68ms/step - loss: 0.2484 - val_loss: 0.2208\n",
            "Epoch 17/20\n",
            "500/500 [==============================] - 35s 69ms/step - loss: 0.2478 - val_loss: 0.1839\n",
            "Epoch 18/20\n",
            "500/500 [==============================] - 33s 67ms/step - loss: 0.2444 - val_loss: 0.2493\n",
            "Epoch 19/20\n",
            "500/500 [==============================] - 34s 69ms/step - loss: 0.2421 - val_loss: 0.2344\n",
            "Epoch 20/20\n",
            "500/500 [==============================] - 34s 68ms/step - loss: 0.2397 - val_loss: 0.2419\n"
          ],
          "name": "stdout"
        }
      ]
    },
    {
      "cell_type": "code",
      "metadata": {
        "id": "_j_BUEFWhluY",
        "colab_type": "code",
        "colab": {
          "base_uri": "https://localhost:8080/",
          "height": 281
        },
        "outputId": "3d43095a-c9a1-44a7-b188-ef23fdd4bc2e"
      },
      "source": [
        "#繪製結果\n",
        "import matplotlib.pyplot as plt\n",
        "\n",
        "loss = history.history['loss']\n",
        "val_loss = history.history['val_loss']\n",
        "\n",
        "epochs = range(1, len(loss) + 1)\n",
        "\n",
        "plt.figure()\n",
        "\n",
        "plt.plot(epochs, loss, 'bo', label='Training loss')\n",
        "plt.plot(epochs, val_loss, 'b', label='Validation loss')\n",
        "plt.title('Training and validation loss')\n",
        "plt.legend()\n",
        "\n",
        "plt.show()"
      ],
      "execution_count": null,
      "outputs": [
        {
          "output_type": "display_data",
          "data": {
            "image/png": "[encoded data removed]",
            "text/plain": [
              "<Figure size 432x288 with 1 Axes>"
            ]
          },
          "metadata": {
            "tags": [],
            "needs_background": "light"
          }
        }
      ]
    },
    {
      "cell_type": "code",
      "metadata": {
        "id": "aaLBKgbAhABL",
        "colab_type": "code",
        "colab": {}
      },
      "source": [
        "#為耶拿數據及準備高解析率的資料產生器\n",
        "lookback = 720\n",
        "step = 3\n",
        "delay = 144\n",
        "\n",
        "train_gen = generator(float_data, lookback=lookback, delay=delay, min_index=0, max_index=200000, shuffle=True, step=step)\n",
        "val_gen = generator(float_data, lookback=lookback, delay=delay, min_index=200001, max_index=300000, step=step)\n",
        "test_gen = generator(float_data, lookback=lookback, delay=delay, min_index=300001, max_index=None, step=step)\n",
        "\n",
        "val_steps = (300000 - 200001 - lookback) // 128\n",
        "test_steps = (len(float_data) - 300001 - lookback) // 128"
      ],
      "execution_count": null,
      "outputs": []
    },
    {
      "cell_type": "code",
      "metadata": {
        "id": "udw14T_6hXCg",
        "colab_type": "code",
        "colab": {
          "base_uri": "https://localhost:8080/",
          "height": 1000
        },
        "outputId": "4e6d2441-fa40-4f34-c541-9d6d64a07c43"
      },
      "source": [
        "#結合1D卷積層和GRU層的模型(不知道為什麼loss是nan？)\n",
        "#以耶拿資料訓練和驗證一個簡單的1D卷積神經網路\n",
        "from keras.models import Sequential\n",
        "from keras import layers\n",
        "from keras.optimizers import RMSprop\n",
        "\n",
        "model = Sequential()\n",
        "model.add(layers.Conv1D(32, 5, activation='relu', input_shape=(None, float_data.shape[-1])))\n",
        "model.add(layers.MaxPooling1D(3))\n",
        "model.add(layers.Conv1D(32, 5, activation='relu'))\n",
        "model.add(layers.GRU(32, dropout=0.1, recurrent_dropout=0.5))\n",
        "model.add(layers.Dense(1))\n",
        "\n",
        "model.summary()\n",
        "\n",
        "model.compile(optimizer=RMSprop(), loss='mae')\n",
        "history = model.fit_generator(train_gen, steps_per_epoch=500, epochs=20, validation_data=val_gen, validation_steps=val_steps)"
      ],
      "execution_count": null,
      "outputs": [
        {
          "output_type": "stream",
          "text": [
            "Model: \"sequential_2\"\n",
            "_________________________________________________________________\n",
            "Layer (type)                 Output Shape              Param #   \n",
            "=================================================================\n",
            "conv1d_3 (Conv1D)            (None, None, 32)          2272      \n",
            "_________________________________________________________________\n",
            "max_pooling1d_2 (MaxPooling1 (None, None, 32)          0         \n",
            "_________________________________________________________________\n",
            "conv1d_4 (Conv1D)            (None, None, 32)          5152      \n",
            "_________________________________________________________________\n",
            "gru_2 (GRU)                  (None, 32)                6240      \n",
            "_________________________________________________________________\n",
            "dense_2 (Dense)              (None, 1)                 33        \n",
            "=================================================================\n",
            "Total params: 13,697\n",
            "Trainable params: 13,697\n",
            "Non-trainable params: 0\n",
            "_________________________________________________________________\n",
            "Epoch 1/20\n",
            "500/500 [==============================] - 79s 157ms/step - loss: nan - val_loss: nan\n",
            "Epoch 2/20\n",
            "500/500 [==============================] - 78s 156ms/step - loss: nan - val_loss: nan\n",
            "Epoch 3/20\n",
            "500/500 [==============================] - 78s 155ms/step - loss: nan - val_loss: nan\n",
            "Epoch 4/20\n",
            "500/500 [==============================] - 78s 157ms/step - loss: nan - val_loss: nan\n",
            "Epoch 5/20\n",
            "500/500 [==============================] - 78s 156ms/step - loss: nan - val_loss: nan\n",
            "Epoch 6/20\n",
            "500/500 [==============================] - 79s 157ms/step - loss: nan - val_loss: nan\n",
            "Epoch 7/20\n",
            "500/500 [==============================] - 78s 156ms/step - loss: nan - val_loss: nan\n",
            "Epoch 8/20\n",
            "500/500 [==============================] - 79s 157ms/step - loss: nan - val_loss: nan\n",
            "Epoch 9/20\n",
            "500/500 [==============================] - 78s 156ms/step - loss: nan - val_loss: nan\n",
            "Epoch 10/20\n",
            "500/500 [==============================] - 77s 155ms/step - loss: nan - val_loss: nan\n",
            "Epoch 11/20\n",
            "500/500 [==============================] - 78s 156ms/step - loss: nan - val_loss: nan\n",
            "Epoch 12/20\n",
            "500/500 [==============================] - 78s 156ms/step - loss: nan - val_loss: nan\n",
            "Epoch 13/20\n",
            "500/500 [==============================] - 78s 156ms/step - loss: nan - val_loss: nan\n",
            "Epoch 14/20\n",
            "500/500 [==============================] - 77s 154ms/step - loss: nan - val_loss: nan\n",
            "Epoch 15/20\n",
            "500/500 [==============================] - 77s 155ms/step - loss: nan - val_loss: nan\n",
            "Epoch 16/20\n",
            "500/500 [==============================] - 78s 155ms/step - loss: nan - val_loss: nan\n",
            "Epoch 17/20\n",
            "500/500 [==============================] - 78s 156ms/step - loss: nan - val_loss: nan\n",
            "Epoch 18/20\n",
            "500/500 [==============================] - 78s 157ms/step - loss: nan - val_loss: nan\n",
            "Epoch 19/20\n",
            "500/500 [==============================] - 78s 155ms/step - loss: nan - val_loss: nan\n",
            "Epoch 20/20\n",
            "500/500 [==============================] - 78s 156ms/step - loss: nan - val_loss: nan\n"
          ],
          "name": "stdout"
        }
      ]
    },
    {
      "cell_type": "code",
      "metadata": {
        "id": "v28bJ4cdiRz_",
        "colab_type": "code",
        "colab": {
          "base_uri": "https://localhost:8080/",
          "height": 281
        },
        "outputId": "fb38674b-f946-4ab9-b2f7-82b3776d45fd"
      },
      "source": [
        "#繪製結果\n",
        "import matplotlib.pyplot as plt\n",
        "\n",
        "loss = history.history['loss']\n",
        "val_loss = history.history['val_loss']\n",
        "\n",
        "epochs = range(1, len(loss) + 1)\n",
        "\n",
        "plt.figure()\n",
        "\n",
        "plt.plot(epochs, loss, 'bo', label='Training loss')\n",
        "plt.plot(epochs, val_loss, 'b', label='Validation loss')\n",
        "plt.title('Training and validation loss')\n",
        "plt.legend()\n",
        "\n",
        "plt.show()"
      ],
      "execution_count": null,
      "outputs": [
        {
          "output_type": "display_data",
          "data": {
            "image/png": "[encoded data removed]",
            "text/plain": [
              "<Figure size 432x288 with 1 Axes>"
            ]
          },
          "metadata": {
            "tags": [],
            "needs_background": "light"
          }
        }
      ]
    }
  ]
}