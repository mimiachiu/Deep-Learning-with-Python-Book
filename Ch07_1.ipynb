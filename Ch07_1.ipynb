{
  "nbformat": 4,
  "nbformat_minor": 0,
  "metadata": {
    "colab": {
      "name": "Ch07-1.ipynb",
      "provenance": [],
      "collapsed_sections": [],
      "authorship_tag": "ABX9TyN3X0Dk0fkJofU+yvE+7T9n",
      "include_colab_link": true
    },
    "kernelspec": {
      "name": "python3",
      "display_name": "Python 3"
    },
    "accelerator": "GPU"
  },
  "cells": [
    {
      "cell_type": "markdown",
      "metadata": {
        "id": "view-in-github",
        "colab_type": "text"
      },
      "source": [
        "<a href=\"https://colab.research.google.com/github/mimiachiu/Deep-Learning-with-Python-Book/blob/master/Ch07_1.ipynb\" target=\"_parent\"><img src=\"https://colab.research.google.com/assets/colab-badge.svg\" alt=\"Open In Colab\"/></a>"
      ]
    },
    {
      "cell_type": "code",
      "metadata": {
        "id": "ZcwohBgZp-xX",
        "colab_type": "code",
        "colab": {
          "base_uri": "https://localhost:8080/",
          "height": 153
        },
        "outputId": "f6503f2f-975b-4123-b119-019462cdc92b"
      },
      "source": [
        "pip install keras"
      ],
      "execution_count": null,
      "outputs": [
        {
          "output_type": "stream",
          "text": [
            "Requirement already satisfied: keras in /usr/local/lib/python3.6/dist-packages (2.3.1)\n",
            "Requirement already satisfied: pyyaml in /usr/local/lib/python3.6/dist-packages (from keras) (3.13)\n",
            "Requirement already satisfied: numpy>=1.9.1 in /usr/local/lib/python3.6/dist-packages (from keras) (1.18.5)\n",
            "Requirement already satisfied: keras-preprocessing>=1.0.5 in /usr/local/lib/python3.6/dist-packages (from keras) (1.1.2)\n",
            "Requirement already satisfied: six>=1.9.0 in /usr/local/lib/python3.6/dist-packages (from keras) (1.12.0)\n",
            "Requirement already satisfied: h5py in /usr/local/lib/python3.6/dist-packages (from keras) (2.10.0)\n",
            "Requirement already satisfied: keras-applications>=1.0.6 in /usr/local/lib/python3.6/dist-packages (from keras) (1.0.8)\n",
            "Requirement already satisfied: scipy>=0.14 in /usr/local/lib/python3.6/dist-packages (from keras) (1.4.1)\n"
          ],
          "name": "stdout"
        }
      ]
    },
    {
      "cell_type": "code",
      "metadata": {
        "id": "bbl09J0UqFzL",
        "colab_type": "code",
        "colab": {
          "base_uri": "https://localhost:8080/",
          "height": 578
        },
        "outputId": "7f65990d-9725-43f5-dbce-dd637ef8736d"
      },
      "source": [
        "#序列式v.s函數式\n",
        "from keras.models import Sequential, Model\n",
        "from keras import layers, Input\n",
        "\n",
        "#序列式\n",
        "seq_model = Sequential()\n",
        "seq_model.add(layers.Dense(32, activation='relu', input_shape=(64,)))\n",
        "seq_model.add(layers.Dense(32, activation='relu'))\n",
        "seq_model.add(layers.Dense(10, activation='softmax'))\n",
        "print('Sequential')\n",
        "seq_model.summary()\n",
        "\n",
        "#函數式\n",
        "input_tensor = Input(shape=(64,))\n",
        "x = layers.Dense(32, activation='relu')(input_tensor)\n",
        "y = layers.Dense(32, activation='relu')(x)\n",
        "output_tensor = layers.Dense(10, activation='softmax')(y)\n",
        "fun_model = Model(input_tensor, output_tensor)\n",
        "print('Functional')\n",
        "fun_model.summary()"
      ],
      "execution_count": null,
      "outputs": [
        {
          "output_type": "stream",
          "text": [
            "Using TensorFlow backend.\n"
          ],
          "name": "stderr"
        },
        {
          "output_type": "stream",
          "text": [
            "Sequential\n",
            "Model: \"sequential_1\"\n",
            "_________________________________________________________________\n",
            "Layer (type)                 Output Shape              Param #   \n",
            "=================================================================\n",
            "dense_1 (Dense)              (None, 32)                2080      \n",
            "_________________________________________________________________\n",
            "dense_2 (Dense)              (None, 32)                1056      \n",
            "_________________________________________________________________\n",
            "dense_3 (Dense)              (None, 10)                330       \n",
            "=================================================================\n",
            "Total params: 3,466\n",
            "Trainable params: 3,466\n",
            "Non-trainable params: 0\n",
            "_________________________________________________________________\n",
            "Functional\n",
            "Model: \"model_1\"\n",
            "_________________________________________________________________\n",
            "Layer (type)                 Output Shape              Param #   \n",
            "=================================================================\n",
            "input_1 (InputLayer)         (None, 64)                0         \n",
            "_________________________________________________________________\n",
            "dense_4 (Dense)              (None, 32)                2080      \n",
            "_________________________________________________________________\n",
            "dense_5 (Dense)              (None, 32)                1056      \n",
            "_________________________________________________________________\n",
            "dense_6 (Dense)              (None, 10)                330       \n",
            "=================================================================\n",
            "Total params: 3,466\n",
            "Trainable params: 3,466\n",
            "Non-trainable params: 0\n",
            "_________________________________________________________________\n"
          ],
          "name": "stdout"
        }
      ]
    },
    {
      "cell_type": "code",
      "metadata": {
        "id": "YSmin_X0sxFX",
        "colab_type": "code",
        "colab": {
          "base_uri": "https://localhost:8080/",
          "height": 544
        },
        "outputId": "4bb160e9-4365-4b27-aa41-036254a3bc67"
      },
      "source": [
        "#以函數式API實作雙輸入問答模型\n",
        "from keras import Model\n",
        "from keras import layers\n",
        "from keras import Input\n",
        "\n",
        "text_vocabulary_size = 10000\n",
        "question_vocabulary_size = 10000\n",
        "answer_vocabulary_size = 500\n",
        "\n",
        "text_input = Input(shape=(None, ), dtype='int32', name='text')\n",
        "embedded_text = layers.Embedding(text_vocabulary_size, 64)(text_input)\n",
        "print(embedded_text.shape)\n",
        "encoded_text = layers.LSTM(32)(embedded_text)\n",
        "print(encoded_text.shape)\n",
        "\n",
        "question_input = Input(shape=(None, ), dtype='int32', name='question')\n",
        "embedded_question = layers.Embedding(question_vocabulary_size, 32)(question_input)\n",
        "print(embedded_question.shape)\n",
        "encoded_question = layers.LSTM(16)(embedded_question)\n",
        "print(encoded_question.shape)\n",
        "\n",
        "concatenated = layers.concatenate([encoded_question, encoded_text], axis=-1)\n",
        "print(concatenated.shape)\n",
        "\n",
        "answer = layers.Dense(answer_vocabulary_size, activation='softmax')(concatenated)\n",
        "print(answer.shape)\n",
        "\n",
        "model = Model([text_input, question_input], answer)\n",
        "model.compile(optimizer='rmsprop', loss='categorical_crossentropy', metrics=['acc'])\n",
        "model.summary()"
      ],
      "execution_count": null,
      "outputs": [
        {
          "output_type": "stream",
          "text": [
            "(None, None, 64)\n",
            "(None, 32)\n",
            "(None, None, 32)\n",
            "(None, 16)\n",
            "(None, 48)\n",
            "(None, 500)\n",
            "Model: \"model_2\"\n",
            "__________________________________________________________________________________________________\n",
            "Layer (type)                    Output Shape         Param #     Connected to                     \n",
            "==================================================================================================\n",
            "question (InputLayer)           (None, None)         0                                            \n",
            "__________________________________________________________________________________________________\n",
            "text (InputLayer)               (None, None)         0                                            \n",
            "__________________________________________________________________________________________________\n",
            "embedding_3 (Embedding)         (None, None, 32)     320000      question[0][0]                   \n",
            "__________________________________________________________________________________________________\n",
            "embedding_2 (Embedding)         (None, None, 64)     640000      text[0][0]                       \n",
            "__________________________________________________________________________________________________\n",
            "lstm_3 (LSTM)                   (None, 16)           3136        embedding_3[0][0]                \n",
            "__________________________________________________________________________________________________\n",
            "lstm_2 (LSTM)                   (None, 32)           12416       embedding_2[0][0]                \n",
            "__________________________________________________________________________________________________\n",
            "concatenate_1 (Concatenate)     (None, 48)           0           lstm_3[0][0]                     \n",
            "                                                                 lstm_2[0][0]                     \n",
            "__________________________________________________________________________________________________\n",
            "dense_7 (Dense)                 (None, 500)          24500       concatenate_1[0][0]              \n",
            "==================================================================================================\n",
            "Total params: 1,000,052\n",
            "Trainable params: 1,000,052\n",
            "Non-trainable params: 0\n",
            "__________________________________________________________________________________________________\n"
          ],
          "name": "stdout"
        }
      ]
    },
    {
      "cell_type": "code",
      "metadata": {
        "id": "W6WDmkYYwP3J",
        "colab_type": "code",
        "colab": {
          "base_uri": "https://localhost:8080/",
          "height": 799
        },
        "outputId": "b3e8830c-c996-4617-ad87-cb304da18d73"
      },
      "source": [
        "#將資料以兩種方式(list、dict)傳遞到多輸入模型進行訓練\n",
        "import numpy as np\n",
        "\n",
        "num_samples = 1000\n",
        "max_length = 100\n",
        "\n",
        "text = np.random.randint(1, text_vocabulary_size, size=(num_samples, max_length))\n",
        "print(text.shape)\n",
        "\n",
        "question = np.random.randint(1, question_vocabulary_size, size=(num_samples, max_length))\n",
        "print(question.shape)\n",
        "\n",
        "answers = np.zeros(shape=(num_samples, answer_vocabulary_size), dtype='int32')\n",
        "\n",
        "for answer in answers:\n",
        "    answer[np.random.randint(answer_vocabulary_size)] = 1\n",
        "print(answers.shape)\n",
        "\n",
        "#方法1：使用lsit\n",
        "model.fit([text, question], answers, epochs=10, batch_size=128)\n",
        "#方法2：使用dict，鍵為Input層的名稱，值為Numpy資料\n",
        "model.fit({'text':text, 'question':question}, answers, epochs=10, batch_size=128)"
      ],
      "execution_count": null,
      "outputs": [
        {
          "output_type": "stream",
          "text": [
            "(1000, 100)\n",
            "(1000, 100)\n",
            "(1000, 500)\n"
          ],
          "name": "stdout"
        },
        {
          "output_type": "stream",
          "text": [
            "/usr/local/lib/python3.6/dist-packages/tensorflow/python/framework/indexed_slices.py:434: UserWarning: Converting sparse IndexedSlices to a dense Tensor of unknown shape. This may consume a large amount of memory.\n",
            "  \"Converting sparse IndexedSlices to a dense Tensor of unknown shape. \"\n"
          ],
          "name": "stderr"
        },
        {
          "output_type": "stream",
          "text": [
            "Epoch 1/10\n",
            "1000/1000 [==============================] - 6s 6ms/step - loss: 6.2145 - acc: 0.0010\n",
            "Epoch 2/10\n",
            "1000/1000 [==============================] - 4s 4ms/step - loss: 6.1925 - acc: 0.0420\n",
            "Epoch 3/10\n",
            "1000/1000 [==============================] - 4s 4ms/step - loss: 6.1204 - acc: 0.0040\n",
            "Epoch 4/10\n",
            "1000/1000 [==============================] - 4s 4ms/step - loss: 6.0535 - acc: 0.0040\n",
            "Epoch 5/10\n",
            "1000/1000 [==============================] - 4s 4ms/step - loss: 5.9997 - acc: 0.0070\n",
            "Epoch 6/10\n",
            "1000/1000 [==============================] - 4s 4ms/step - loss: 5.9391 - acc: 0.0100\n",
            "Epoch 7/10\n",
            "1000/1000 [==============================] - 4s 4ms/step - loss: 5.8671 - acc: 0.0100\n",
            "Epoch 8/10\n",
            "1000/1000 [==============================] - 4s 4ms/step - loss: 5.7872 - acc: 0.0140\n",
            "Epoch 9/10\n",
            "1000/1000 [==============================] - 4s 4ms/step - loss: 5.6984 - acc: 0.0240\n",
            "Epoch 10/10\n",
            "1000/1000 [==============================] - 4s 4ms/step - loss: 5.6131 - acc: 0.0240\n",
            "Epoch 1/10\n",
            "1000/1000 [==============================] - 4s 4ms/step - loss: 5.5322 - acc: 0.0350\n",
            "Epoch 2/10\n",
            "1000/1000 [==============================] - 4s 4ms/step - loss: 5.4674 - acc: 0.0380\n",
            "Epoch 3/10\n",
            "1000/1000 [==============================] - 4s 4ms/step - loss: 5.3980 - acc: 0.0520\n",
            "Epoch 4/10\n",
            "1000/1000 [==============================] - 4s 4ms/step - loss: 5.3287 - acc: 0.0590\n",
            "Epoch 5/10\n",
            "1000/1000 [==============================] - 4s 4ms/step - loss: 5.2803 - acc: 0.0620\n",
            "Epoch 6/10\n",
            "1000/1000 [==============================] - 4s 4ms/step - loss: 5.2095 - acc: 0.0710\n",
            "Epoch 7/10\n",
            "1000/1000 [==============================] - 4s 4ms/step - loss: 5.1356 - acc: 0.0760\n",
            "Epoch 8/10\n",
            "1000/1000 [==============================] - 4s 4ms/step - loss: 5.0751 - acc: 0.0780\n",
            "Epoch 9/10\n",
            "1000/1000 [==============================] - 4s 4ms/step - loss: 5.0087 - acc: 0.0900\n",
            "Epoch 10/10\n",
            "1000/1000 [==============================] - 4s 4ms/step - loss: 4.9721 - acc: 0.0990\n"
          ],
          "name": "stdout"
        },
        {
          "output_type": "execute_result",
          "data": {
            "text/plain": [
              "<keras.callbacks.callbacks.History at 0x7f0bd0268278>"
            ]
          },
          "metadata": {
            "tags": []
          },
          "execution_count": 11
        }
      ]
    },
    {
      "cell_type": "code",
      "metadata": {
        "id": "XpplyGsryUCq",
        "colab_type": "code",
        "colab": {
          "base_uri": "https://localhost:8080/",
          "height": 663
        },
        "outputId": "3b125f0c-a7f7-4738-ad86-f0970f3704ef"
      },
      "source": [
        "#以函數式API實作三個輸出結果的模型\n",
        "from keras import layers, Input\n",
        "from keras.models import Model\n",
        "\n",
        "vocabulary_size = 50000\n",
        "num_income_groups = 10\n",
        "\n",
        "posts_input = Input(shape=(None, ), dtype='int32', name='posts')\n",
        "\n",
        "embedding_posts = layers.Embedding(vocabulary_size, 256)(posts_input)\n",
        "print(embedding_posts.shape)\n",
        "\n",
        "x = layers.Conv1D(128, 5, activation='relu')(embedding_posts)\n",
        "x = layers.MaxPooling1D(5)(x)\n",
        "x = layers.Conv1D(256, 5, activation='relu')(x)\n",
        "x = layers.Conv1D(256, 5, activation='relu')(x)\n",
        "x = layers.MaxPooling1D(5)(x)\n",
        "x = layers.Conv1D(256, 5, activation='relu')(x)\n",
        "x = layers.Conv1D(256, 5, activation='relu')(x)\n",
        "x = layers.GlobalMaxPooling1D()(x)\n",
        "x = layers.Dense(128, activation='relu')(x)\n",
        "print(x.shape)\n",
        "\n",
        "age_prediction = layers.Dense(1, name='age')(x)\n",
        "income_prediction = layers.Dense(num_income_groups, activation='softmax', name='income')(x)\n",
        "gender_prediction = layers.Dense(1, activation='sigmoid', name='gender')(x)\n",
        "\n",
        "model = Model(posts_input, [age_prediction, income_prediction, gender_prediction])\n",
        "model.summary()"
      ],
      "execution_count": null,
      "outputs": [
        {
          "output_type": "stream",
          "text": [
            "(None, None, 256)\n",
            "(None, 128)\n",
            "Model: \"model_3\"\n",
            "__________________________________________________________________________________________________\n",
            "Layer (type)                    Output Shape         Param #     Connected to                     \n",
            "==================================================================================================\n",
            "posts (InputLayer)              (None, None)         0                                            \n",
            "__________________________________________________________________________________________________\n",
            "embedding_6 (Embedding)         (None, None, 256)    12800000    posts[0][0]                      \n",
            "__________________________________________________________________________________________________\n",
            "conv1d_7 (Conv1D)               (None, None, 128)    163968      embedding_6[0][0]                \n",
            "__________________________________________________________________________________________________\n",
            "max_pooling1d_3 (MaxPooling1D)  (None, None, 128)    0           conv1d_7[0][0]                   \n",
            "__________________________________________________________________________________________________\n",
            "conv1d_8 (Conv1D)               (None, None, 256)    164096      max_pooling1d_3[0][0]            \n",
            "__________________________________________________________________________________________________\n",
            "conv1d_9 (Conv1D)               (None, None, 256)    327936      conv1d_8[0][0]                   \n",
            "__________________________________________________________________________________________________\n",
            "max_pooling1d_4 (MaxPooling1D)  (None, None, 256)    0           conv1d_9[0][0]                   \n",
            "__________________________________________________________________________________________________\n",
            "conv1d_10 (Conv1D)              (None, None, 256)    327936      max_pooling1d_4[0][0]            \n",
            "__________________________________________________________________________________________________\n",
            "conv1d_11 (Conv1D)              (None, None, 256)    327936      conv1d_10[0][0]                  \n",
            "__________________________________________________________________________________________________\n",
            "global_max_pooling1d_2 (GlobalM (None, 256)          0           conv1d_11[0][0]                  \n",
            "__________________________________________________________________________________________________\n",
            "dense_9 (Dense)                 (None, 128)          32896       global_max_pooling1d_2[0][0]     \n",
            "__________________________________________________________________________________________________\n",
            "age (Dense)                     (None, 1)            129         dense_9[0][0]                    \n",
            "__________________________________________________________________________________________________\n",
            "income (Dense)                  (None, 10)           1290        dense_9[0][0]                    \n",
            "__________________________________________________________________________________________________\n",
            "gender (Dense)                  (None, 1)            129         dense_9[0][0]                    \n",
            "==================================================================================================\n",
            "Total params: 14,146,316\n",
            "Trainable params: 14,146,316\n",
            "Non-trainable params: 0\n",
            "__________________________________________________________________________________________________\n"
          ],
          "name": "stdout"
        }
      ]
    },
    {
      "cell_type": "code",
      "metadata": {
        "id": "P_8o0YC30FvF",
        "colab_type": "code",
        "colab": {}
      },
      "source": [
        "#多輸出模型的編譯選項，指定多重損失函數，有兩種方式\n",
        "#編譯方式1：使用損失串列(loss list)\n",
        "model.compile(optimizer='rmsprop', loss=['mse', 'categorical_crossentropy', 'binary_crossentropy'], loss_weights=[0.25, 1., 10.])\n",
        "#編譯方式2：使用損失字典(loss dict)，鍵為輸出層的名稱\n",
        "model.compile(optimizer='rmsprop', loss={'age':'mse', 'income':'categorical_crossentropy', 'gender':'binary_crossentropy'}, loss_weights={'age':0.25, 'income':1., 'gender':10.})"
      ],
      "execution_count": null,
      "outputs": []
    },
    {
      "cell_type": "code",
      "metadata": {
        "id": "xpQWesab1SeT",
        "colab_type": "code",
        "colab": {
          "base_uri": "https://localhost:8080/",
          "height": 119
        },
        "outputId": "bd7df4f7-42f2-4b7a-8c58-188e9e367498"
      },
      "source": [
        "#實作Inception模組\n",
        "from keras import layers, Input\n",
        "\n",
        "x = Input(batch_shape=(1000, 28, 28, 256))\n",
        "print(x.shape)\n",
        "\n",
        "branch_a = layers.Conv2D(64, 1, activation='relu', strides=2)(x)\n",
        "print(branch_a.shape)\n",
        "\n",
        "branch_b = layers.Conv2D(128, 1, activation='relu')(x)\n",
        "branch_b = layers.Conv2D(128, 3, activation='relu', strides=2, padding='same')(branch_b)\n",
        "print(branch_b.shape)\n",
        "\n",
        "branch_c = layers.AveragePooling2D(3, strides=2, padding='same')(x)\n",
        "branch_c = layers.Conv2D(128, 3, activation='relu', padding='same')(branch_c)\n",
        "print(branch_c.shape)\n",
        "\n",
        "branch_d = layers.Conv2D(128, 1, activation='relu')(x)\n",
        "branch_d = layers.Conv2D(128, 3, activation='relu', padding='same')(branch_d)\n",
        "branch_d = layers.Conv2D(128, 3, activation='relu', strides=2, padding='same')(branch_d)\n",
        "print(branch_d.shape)\n",
        "\n",
        "output = layers.concatenate([branch_a, branch_b, branch_c, branch_d], axis=-1)\n",
        "print(output.shape)"
      ],
      "execution_count": null,
      "outputs": [
        {
          "output_type": "stream",
          "text": [
            "(1000, 28, 28, 256)\n",
            "(1000, 14, 14, 64)\n",
            "(1000, 14, 14, 128)\n",
            "(1000, 14, 14, 128)\n",
            "(1000, 14, 14, 128)\n",
            "(1000, 14, 14, 448)\n"
          ],
          "name": "stdout"
        }
      ]
    },
    {
      "cell_type": "code",
      "metadata": {
        "id": "fsWorOMA60cw",
        "colab_type": "code",
        "colab": {
          "base_uri": "https://localhost:8080/",
          "height": 68
        },
        "outputId": "f43cb352-016e-4246-a6cf-c528da41e245"
      },
      "source": [
        "#殘差連接：啟動函數輸出張量大小相同時\n",
        "from keras import layers, Input\n",
        "\n",
        "x = Input(batch_shape=(1000, 32, 32, 128))\n",
        "print(x.shape)\n",
        "y = layers.Conv2D(128, 3, activation='relu', padding='same')(x)\n",
        "z = layers.Conv2D(128, 3, activation='relu', padding='same')(y)\n",
        "print(z.shape)\n",
        "\n",
        "op = layers.add([z, x])\n",
        "print(op.shape)"
      ],
      "execution_count": null,
      "outputs": [
        {
          "output_type": "stream",
          "text": [
            "(1000, 32, 32, 128)\n",
            "(1000, 32, 32, 128)\n",
            "(1000, 32, 32, 128)\n"
          ],
          "name": "stdout"
        }
      ]
    },
    {
      "cell_type": "code",
      "metadata": {
        "id": "cH7e27Og7bda",
        "colab_type": "code",
        "colab": {
          "base_uri": "https://localhost:8080/",
          "height": 102
        },
        "outputId": "aafdc670-2cdf-4f90-dc81-cd52420f42ca"
      },
      "source": [
        "#殘差連接：啟動函數輸出張量大小不同時\n",
        "from keras import layers, Input\n",
        "\n",
        "x = Input(batch_shape=(1000, 32, 32, 256))\n",
        "print(x.shape)\n",
        "y = layers.Conv2D(128, 3, activation='relu', padding='same')(x)\n",
        "z = layers.Conv2D(128, 3, activation='relu', padding='same')(y)\n",
        "print(z.shape)\n",
        "\n",
        "t = layers.MaxPooling2D(2, strides=2)(z)\n",
        "print(t.shape)\n",
        "\n",
        "residual = layers.Conv2D(128, 1, strides=2, padding='same')(x)\n",
        "print(residual.shape)\n",
        "\n",
        "op = layers.add([t, residual])\n",
        "print(op.shape)"
      ],
      "execution_count": null,
      "outputs": [
        {
          "output_type": "stream",
          "text": [
            "(1000, 32, 32, 256)\n",
            "(1000, 32, 32, 128)\n",
            "(1000, 16, 16, 128)\n",
            "(1000, 16, 16, 128)\n",
            "(1000, 16, 16, 128)\n"
          ],
          "name": "stdout"
        }
      ]
    },
    {
      "cell_type": "code",
      "metadata": {
        "id": "SK3hEJ0N9IOP",
        "colab_type": "code",
        "colab": {
          "base_uri": "https://localhost:8080/",
          "height": 102
        },
        "outputId": "eb3787e5-92c6-4f29-cb46-5b3069fa12d9"
      },
      "source": [
        "#孿生LSTM(Siamese LSTM)/共享LSTM(Shared LSTM)\n",
        "from keras import layers, Input\n",
        "from keras.models import Model\n",
        "\n",
        "lstm = layers.LSTM(32)\n",
        "left_input = Input(shape=(None, 128))\n",
        "print(left_input.shape)\n",
        "left_output = lstm(left_input)\n",
        "print(left_output.shape)\n",
        "\n",
        "right_input = Input(shape=(None, 128))\n",
        "print(right_input.shape)\n",
        "right_output = lstm(right_input)\n",
        "print(right_output.shape)\n",
        "\n",
        "merged = layers.concatenate([left_output, right_output], axis=-1)\n",
        "print(merged.shape)\n",
        "\n",
        "predictions = layers.Dense(1, activation='sigmoid')(merged)\n",
        "model = Model([left_input, right_input], predictions)"
      ],
      "execution_count": null,
      "outputs": [
        {
          "output_type": "stream",
          "text": [
            "(None, None, 128)\n",
            "(None, 32)\n",
            "(None, None, 128)\n",
            "(None, 32)\n",
            "(None, 64)\n"
          ],
          "name": "stdout"
        }
      ]
    }
  ]
}