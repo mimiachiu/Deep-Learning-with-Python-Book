{
  "nbformat": 4,
  "nbformat_minor": 0,
  "metadata": {
    "colab": {
      "name": "Ch06-2.ipynb",
      "provenance": [],
      "collapsed_sections": [],
      "authorship_tag": "ABX9TyPoRH5c7y77axwgJBVJ5c/Q",
      "include_colab_link": true
    },
    "kernelspec": {
      "name": "python3",
      "display_name": "Python 3"
    },
    "accelerator": "GPU"
  },
  "cells": [
    {
      "cell_type": "markdown",
      "metadata": {
        "id": "view-in-github",
        "colab_type": "text"
      },
      "source": [
        "<a href=\"https://colab.research.google.com/github/mimiachiu/Deep-Learning-with-Python-Book/blob/master/Ch06_2.ipynb\" target=\"_parent\"><img src=\"https://colab.research.google.com/assets/colab-badge.svg\" alt=\"Open In Colab\"/></a>"
      ]
    },
    {
      "cell_type": "code",
      "metadata": {
        "id": "hzg7CfGa3-Wi",
        "colab_type": "code",
        "colab": {
          "base_uri": "https://localhost:8080/",
          "height": 1000
        },
        "outputId": "dd4712cc-6733-448f-df93-cea620b450aa"
      },
      "source": [
        "#以Numpy實現簡單的RNN\n",
        "import numpy as np\n",
        "\n",
        "timesteps = 100\n",
        "input_features = 32\n",
        "output_features = 64\n",
        "\n",
        "inputs = np.random.random((timesteps, input_features))\n",
        "state_t = np.zeros((output_features, ))\n",
        "\n",
        "W = np.random.random((output_features, input_features))\n",
        "U = np.random.random((output_features, output_features))\n",
        "b = np.random.random((output_features, ))\n",
        "\n",
        "successive_outputs = []\n",
        "for input_t in inputs:\n",
        "    output_t = np.tanh(np.dot(W, input_t) + np.dot(U, state_t) + b)\n",
        "    print(output_t.shape)\n",
        "    successive_outputs.append(output_t)\n",
        "    state_t = output_t\n",
        "\n",
        "final_output_sequence = np.array(successive_outputs)\n",
        "print(final_output_sequence.shape)"
      ],
      "execution_count": null,
      "outputs": [
        {
          "output_type": "stream",
          "text": [
            "(64,)\n",
            "(64,)\n",
            "(64,)\n",
            "(64,)\n",
            "(64,)\n",
            "(64,)\n",
            "(64,)\n",
            "(64,)\n",
            "(64,)\n",
            "(64,)\n",
            "(64,)\n",
            "(64,)\n",
            "(64,)\n",
            "(64,)\n",
            "(64,)\n",
            "(64,)\n",
            "(64,)\n",
            "(64,)\n",
            "(64,)\n",
            "(64,)\n",
            "(64,)\n",
            "(64,)\n",
            "(64,)\n",
            "(64,)\n",
            "(64,)\n",
            "(64,)\n",
            "(64,)\n",
            "(64,)\n",
            "(64,)\n",
            "(64,)\n",
            "(64,)\n",
            "(64,)\n",
            "(64,)\n",
            "(64,)\n",
            "(64,)\n",
            "(64,)\n",
            "(64,)\n",
            "(64,)\n",
            "(64,)\n",
            "(64,)\n",
            "(64,)\n",
            "(64,)\n",
            "(64,)\n",
            "(64,)\n",
            "(64,)\n",
            "(64,)\n",
            "(64,)\n",
            "(64,)\n",
            "(64,)\n",
            "(64,)\n",
            "(64,)\n",
            "(64,)\n",
            "(64,)\n",
            "(64,)\n",
            "(64,)\n",
            "(64,)\n",
            "(64,)\n",
            "(64,)\n",
            "(64,)\n",
            "(64,)\n",
            "(64,)\n",
            "(64,)\n",
            "(64,)\n",
            "(64,)\n",
            "(64,)\n",
            "(64,)\n",
            "(64,)\n",
            "(64,)\n",
            "(64,)\n",
            "(64,)\n",
            "(64,)\n",
            "(64,)\n",
            "(64,)\n",
            "(64,)\n",
            "(64,)\n",
            "(64,)\n",
            "(64,)\n",
            "(64,)\n",
            "(64,)\n",
            "(64,)\n",
            "(64,)\n",
            "(64,)\n",
            "(64,)\n",
            "(64,)\n",
            "(64,)\n",
            "(64,)\n",
            "(64,)\n",
            "(64,)\n",
            "(64,)\n",
            "(64,)\n",
            "(64,)\n",
            "(64,)\n",
            "(64,)\n",
            "(64,)\n",
            "(64,)\n",
            "(64,)\n",
            "(64,)\n",
            "(64,)\n",
            "(64,)\n",
            "(64,)\n",
            "(100, 64)\n"
          ],
          "name": "stdout"
        }
      ]
    },
    {
      "cell_type": "code",
      "metadata": {
        "id": "YScWYBpi6Deq",
        "colab_type": "code",
        "colab": {
          "base_uri": "https://localhost:8080/",
          "height": 153
        },
        "outputId": "9ecf8b55-dc84-48c0-dc48-3744cb0dfe6d"
      },
      "source": [
        "pip install keras"
      ],
      "execution_count": null,
      "outputs": [
        {
          "output_type": "stream",
          "text": [
            "Requirement already satisfied: keras in /usr/local/lib/python3.6/dist-packages (2.3.1)\n",
            "Requirement already satisfied: h5py in /usr/local/lib/python3.6/dist-packages (from keras) (2.10.0)\n",
            "Requirement already satisfied: scipy>=0.14 in /usr/local/lib/python3.6/dist-packages (from keras) (1.4.1)\n",
            "Requirement already satisfied: pyyaml in /usr/local/lib/python3.6/dist-packages (from keras) (3.13)\n",
            "Requirement already satisfied: keras-applications>=1.0.6 in /usr/local/lib/python3.6/dist-packages (from keras) (1.0.8)\n",
            "Requirement already satisfied: keras-preprocessing>=1.0.5 in /usr/local/lib/python3.6/dist-packages (from keras) (1.1.2)\n",
            "Requirement already satisfied: six>=1.9.0 in /usr/local/lib/python3.6/dist-packages (from keras) (1.12.0)\n",
            "Requirement already satisfied: numpy>=1.9.1 in /usr/local/lib/python3.6/dist-packages (from keras) (1.18.5)\n"
          ],
          "name": "stdout"
        }
      ]
    },
    {
      "cell_type": "code",
      "metadata": {
        "id": "1WQP1kOl5gDJ",
        "colab_type": "code",
        "colab": {
          "base_uri": "https://localhost:8080/",
          "height": 153
        },
        "outputId": "e70acdf5-10f1-4844-9ab8-93a1fe120848"
      },
      "source": [
        "#使用SimpleRNN\n",
        "#準備IMDB資料\n",
        "from keras.datasets import imdb\n",
        "from keras.preprocessing import sequence\n",
        "\n",
        "max_features = 10000\n",
        "maxlen = 500\n",
        "\n",
        "batch_size = 32\n",
        "\n",
        "print('讀取資料...')\n",
        "(input_train, y_train), (input_test, y_test) = imdb.load_data(num_words=max_features)\n",
        "\n",
        "print(len(input_train), 'train sequences')\n",
        "print(len(input_test), 'test sequences')\n",
        "\n",
        "print('Pad sequences (samples x time)')\n",
        "input_train = sequence.pad_sequences(input_train, maxlen=maxlen)\n",
        "input_test = sequence.pad_sequences(input_test, maxlen=maxlen)\n",
        "print('input_train shape:', input_train.shape)\n",
        "print('input_test shape:', input_test.shape)"
      ],
      "execution_count": null,
      "outputs": [
        {
          "output_type": "stream",
          "text": [
            "讀取資料...\n",
            "Downloading data from https://s3.amazonaws.com/text-datasets/imdb.npz\n",
            "17465344/17464789 [==============================] - 1s 0us/step\n",
            "25000 train sequences\n",
            "25000 test sequences\n",
            "Pad sequences (samples x time)\n",
            "input_train shape: (25000, 500)\n",
            "input_test shape: (25000, 500)\n"
          ],
          "name": "stdout"
        }
      ]
    },
    {
      "cell_type": "code",
      "metadata": {
        "id": "geXiKAb77AID",
        "colab_type": "code",
        "colab": {
          "base_uri": "https://localhost:8080/",
          "height": 408
        },
        "outputId": "f028a1a9-e98b-46ef-b08a-e018145cf179"
      },
      "source": [
        "#以嵌入向量Embedding層和SimpleRNN層訓練模型\n",
        "from keras.models import Sequential\n",
        "from keras.layers import Embedding, SimpleRNN, Dense\n",
        "\n",
        "model = Sequential()\n",
        "model.add(Embedding(max_features, 32))\n",
        "model.add(SimpleRNN(32)) #其中return_sequences參數決定是否回傳每個時間點的連續輸出的完整序列資料\n",
        "model.add(Dense(1, activation='sigmoid'))\n",
        "\n",
        "model.compile(optimizer='rmsprop', loss='binary_crossentropy', metrics=['acc'])\n",
        "history = model.fit(input_train, y_train, epochs=10, batch_size=128, validation_split=0.2)"
      ],
      "execution_count": null,
      "outputs": [
        {
          "output_type": "stream",
          "text": [
            "/usr/local/lib/python3.6/dist-packages/tensorflow/python/framework/indexed_slices.py:434: UserWarning: Converting sparse IndexedSlices to a dense Tensor of unknown shape. This may consume a large amount of memory.\n",
            "  \"Converting sparse IndexedSlices to a dense Tensor of unknown shape. \"\n"
          ],
          "name": "stderr"
        },
        {
          "output_type": "stream",
          "text": [
            "Train on 20000 samples, validate on 5000 samples\n",
            "Epoch 1/10\n",
            "20000/20000 [==============================] - 76s 4ms/step - loss: 0.5876 - acc: 0.6781 - val_loss: 0.7958 - val_acc: 0.5938\n",
            "Epoch 2/10\n",
            "20000/20000 [==============================] - 74s 4ms/step - loss: 0.3766 - acc: 0.8434 - val_loss: 0.4136 - val_acc: 0.8340\n",
            "Epoch 3/10\n",
            "20000/20000 [==============================] - 75s 4ms/step - loss: 0.2807 - acc: 0.8926 - val_loss: 0.3140 - val_acc: 0.8720\n",
            "Epoch 4/10\n",
            "20000/20000 [==============================] - 74s 4ms/step - loss: 0.2176 - acc: 0.9210 - val_loss: 0.3711 - val_acc: 0.8470\n",
            "Epoch 5/10\n",
            "20000/20000 [==============================] - 74s 4ms/step - loss: 0.1725 - acc: 0.9373 - val_loss: 0.4601 - val_acc: 0.7932\n",
            "Epoch 6/10\n",
            "20000/20000 [==============================] - 73s 4ms/step - loss: 0.1216 - acc: 0.9582 - val_loss: 0.5132 - val_acc: 0.7998\n",
            "Epoch 7/10\n",
            "20000/20000 [==============================] - 72s 4ms/step - loss: 0.0874 - acc: 0.9710 - val_loss: 0.4566 - val_acc: 0.8526\n",
            "Epoch 8/10\n",
            "20000/20000 [==============================] - 74s 4ms/step - loss: 0.0567 - acc: 0.9827 - val_loss: 0.4707 - val_acc: 0.8492\n",
            "Epoch 9/10\n",
            "20000/20000 [==============================] - 73s 4ms/step - loss: 0.0408 - acc: 0.9874 - val_loss: 0.7421 - val_acc: 0.7352\n",
            "Epoch 10/10\n",
            "20000/20000 [==============================] - 73s 4ms/step - loss: 0.0300 - acc: 0.9906 - val_loss: 0.5734 - val_acc: 0.8240\n"
          ],
          "name": "stdout"
        }
      ]
    },
    {
      "cell_type": "code",
      "metadata": {
        "id": "ejsDvt4Y8PyN",
        "colab_type": "code",
        "colab": {
          "base_uri": "https://localhost:8080/",
          "height": 545
        },
        "outputId": "6d365295-94b4-4ac9-cb15-26af2cdd0617"
      },
      "source": [
        "#繪製結果\n",
        "import matplotlib.pyplot as plt\n",
        "\n",
        "acc = history.history['acc']\n",
        "val_acc = history.history['val_acc']\n",
        "loss = history.history['loss']\n",
        "val_loss = history.history['val_loss']\n",
        "\n",
        "epochs = range(1, len(acc) + 1)\n",
        "\n",
        "plt.plot(epochs, acc, 'bo', label='Training acc')\n",
        "plt.plot(epochs, val_acc, 'b', label='Validation acc')\n",
        "plt.title('Training and validation accuracy')\n",
        "plt.legend()\n",
        "plt.figure()\n",
        "\n",
        "plt.plot(epochs, loss, 'bo', label='Training loss')\n",
        "plt.plot(epochs, val_loss, 'b', label='Validation loss')\n",
        "plt.title('Training and validation loss')\n",
        "plt.legend()\n",
        "\n",
        "plt.show()"
      ],
      "execution_count": null,
      "outputs": [
        {
          "output_type": "display_data",
          "data": {
            "image/png": "[encoded data removed]",
            "text/plain": [
              "<Figure size 432x288 with 1 Axes>"
            ]
          },
          "metadata": {
            "tags": [],
            "needs_background": "light"
          }
        },
        {
          "output_type": "display_data",
          "data": {
            "image/png": "[encoded data removed]",
            "text/plain": [
              "<Figure size 432x288 with 1 Axes>"
            ]
          },
          "metadata": {
            "tags": [],
            "needs_background": "light"
          }
        }
      ]
    },
    {
      "cell_type": "code",
      "metadata": {
        "id": "3Ox0HCu28i3P",
        "colab_type": "code",
        "colab": {
          "base_uri": "https://localhost:8080/",
          "height": 408
        },
        "outputId": "02f21da8-8629-4d68-efe0-89de31b166ad"
      },
      "source": [
        "#使用LSTM\n",
        "from keras.layers import LSTM\n",
        "\n",
        "model = Sequential()\n",
        "model.add(Embedding(max_features, 32))\n",
        "model.add(LSTM(32))\n",
        "model.add(Dense(1, activation='sigmoid'))\n",
        "\n",
        "model.compile(optimizer='rmsprop', loss='binary_crossentropy', metrics=['acc'])\n",
        "history = model.fit(input_train, y_train, epochs=10, batch_size=128, validation_split=0.2)"
      ],
      "execution_count": null,
      "outputs": [
        {
          "output_type": "stream",
          "text": [
            "/usr/local/lib/python3.6/dist-packages/tensorflow/python/framework/indexed_slices.py:434: UserWarning: Converting sparse IndexedSlices to a dense Tensor of unknown shape. This may consume a large amount of memory.\n",
            "  \"Converting sparse IndexedSlices to a dense Tensor of unknown shape. \"\n"
          ],
          "name": "stderr"
        },
        {
          "output_type": "stream",
          "text": [
            "Train on 20000 samples, validate on 5000 samples\n",
            "Epoch 1/10\n",
            "20000/20000 [==============================] - 205s 10ms/step - loss: 0.5186 - acc: 0.7538 - val_loss: 0.3706 - val_acc: 0.8542\n",
            "Epoch 2/10\n",
            "20000/20000 [==============================] - 204s 10ms/step - loss: 0.3121 - acc: 0.8771 - val_loss: 0.2989 - val_acc: 0.8844\n",
            "Epoch 3/10\n",
            "20000/20000 [==============================] - 203s 10ms/step - loss: 0.2371 - acc: 0.9114 - val_loss: 0.3025 - val_acc: 0.8892\n",
            "Epoch 4/10\n",
            "20000/20000 [==============================] - 204s 10ms/step - loss: 0.1994 - acc: 0.9276 - val_loss: 0.3324 - val_acc: 0.8886\n",
            "Epoch 5/10\n",
            "20000/20000 [==============================] - 201s 10ms/step - loss: 0.1797 - acc: 0.9346 - val_loss: 0.3209 - val_acc: 0.8610\n",
            "Epoch 6/10\n",
            "20000/20000 [==============================] - 201s 10ms/step - loss: 0.1593 - acc: 0.9439 - val_loss: 0.3407 - val_acc: 0.8700\n",
            "Epoch 7/10\n",
            "20000/20000 [==============================] - 202s 10ms/step - loss: 0.1435 - acc: 0.9494 - val_loss: 0.3384 - val_acc: 0.8910\n",
            "Epoch 8/10\n",
            "20000/20000 [==============================] - 201s 10ms/step - loss: 0.1280 - acc: 0.9546 - val_loss: 0.3466 - val_acc: 0.8896\n",
            "Epoch 9/10\n",
            "20000/20000 [==============================] - 203s 10ms/step - loss: 0.1204 - acc: 0.9592 - val_loss: 0.5153 - val_acc: 0.8310\n",
            "Epoch 10/10\n",
            "20000/20000 [==============================] - 202s 10ms/step - loss: 0.1086 - acc: 0.9640 - val_loss: 0.4216 - val_acc: 0.8772\n"
          ],
          "name": "stdout"
        }
      ]
    },
    {
      "cell_type": "code",
      "metadata": {
        "id": "aJcKYvqA-2Rt",
        "colab_type": "code",
        "colab": {
          "base_uri": "https://localhost:8080/",
          "height": 545
        },
        "outputId": "9ca2959f-0de4-4919-b32f-785d0d8bd83f"
      },
      "source": [
        "#繪製結果\n",
        "import matplotlib.pyplot as plt\n",
        "\n",
        "acc = history.history['acc']\n",
        "val_acc = history.history['val_acc']\n",
        "loss = history.history['loss']\n",
        "val_loss = history.history['val_loss']\n",
        "\n",
        "epochs = range(1, len(acc) + 1)\n",
        "\n",
        "plt.plot(epochs, acc, 'bo', label='Training acc')\n",
        "plt.plot(epochs, val_acc, 'b', label='Validation acc')\n",
        "plt.title('Training and validation accuracy')\n",
        "plt.legend()\n",
        "plt.figure()\n",
        "\n",
        "plt.plot(epochs, loss, 'bo', label='Training loss')\n",
        "plt.plot(epochs, val_loss, 'b', label='Validation loss')\n",
        "plt.title('Training and validation loss')\n",
        "plt.legend()\n",
        "\n",
        "plt.show()"
      ],
      "execution_count": null,
      "outputs": [
        {
          "output_type": "display_data",
          "data": {
            "image/png": "[encoded data removed]",
            "text/plain": [
              "<Figure size 432x288 with 1 Axes>"
            ]
          },
          "metadata": {
            "tags": [],
            "needs_background": "light"
          }
        },
        {
          "output_type": "display_data",
          "data": {
            "image/png": "[encoded data removed]",
            "text/plain": [
              "<Figure size 432x288 with 1 Axes>"
            ]
          },
          "metadata": {
            "tags": [],
            "needs_background": "light"
          }
        }
      ]
    }
  ]
}