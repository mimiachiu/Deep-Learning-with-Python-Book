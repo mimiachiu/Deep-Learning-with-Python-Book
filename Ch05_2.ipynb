{
  "nbformat": 4,
  "nbformat_minor": 0,
  "metadata": {
    "colab": {
      "name": "Ch05-2.ipynb",
      "provenance": [],
      "collapsed_sections": [],
      "mount_file_id": "1fkHGSMoxce6UGzYEvCvaxhFjUcVwvQUX",
      "authorship_tag": "ABX9TyMf42JP9bHBdk3KUUoFSEOY",
      "include_colab_link": true
    },
    "kernelspec": {
      "name": "python3",
      "display_name": "Python 3"
    },
    "accelerator": "GPU"
  },
  "cells": [
    {
      "cell_type": "markdown",
      "metadata": {
        "id": "view-in-github",
        "colab_type": "text"
      },
      "source": [
        "<a href=\"https://colab.research.google.com/github/mimiachiu/Deep-Learning-with-Python-Book/blob/master/Ch05_2.ipynb\" target=\"_parent\"><img src=\"https://colab.research.google.com/assets/colab-badge.svg\" alt=\"Open In Colab\"/></a>"
      ]
    },
    {
      "cell_type": "code",
      "metadata": {
        "id": "k7kUSTEQFfZa",
        "colab_type": "code",
        "colab": {
          "base_uri": "https://localhost:8080/",
          "height": 34
        },
        "outputId": "42889903-9e59-430c-9363-7e1c4b78c604"
      },
      "source": [
        "%tensorflow_version 1.x"
      ],
      "execution_count": null,
      "outputs": [
        {
          "output_type": "stream",
          "text": [
            "TensorFlow 1.x selected.\n"
          ],
          "name": "stdout"
        }
      ]
    },
    {
      "cell_type": "code",
      "metadata": {
        "id": "kE85JKlYQTYc",
        "colab_type": "code",
        "colab": {
          "base_uri": "https://localhost:8080/",
          "height": 153
        },
        "outputId": "fc1200d6-9212-47cb-d634-6888990f6ae7"
      },
      "source": [
        "pip install keras"
      ],
      "execution_count": null,
      "outputs": [
        {
          "output_type": "stream",
          "text": [
            "Requirement already satisfied: keras in /usr/local/lib/python3.6/dist-packages (2.3.1)\n",
            "Requirement already satisfied: keras-applications>=1.0.6 in /usr/local/lib/python3.6/dist-packages (from keras) (1.0.8)\n",
            "Requirement already satisfied: six>=1.9.0 in /usr/local/lib/python3.6/dist-packages (from keras) (1.12.0)\n",
            "Requirement already satisfied: pyyaml in /usr/local/lib/python3.6/dist-packages (from keras) (3.13)\n",
            "Requirement already satisfied: numpy>=1.9.1 in /usr/local/lib/python3.6/dist-packages (from keras) (1.18.5)\n",
            "Requirement already satisfied: h5py in /usr/local/lib/python3.6/dist-packages (from keras) (2.10.0)\n",
            "Requirement already satisfied: keras-preprocessing>=1.0.5 in /usr/local/lib/python3.6/dist-packages (from keras) (1.1.2)\n",
            "Requirement already satisfied: scipy>=0.14 in /usr/local/lib/python3.6/dist-packages (from keras) (1.4.1)\n"
          ],
          "name": "stdout"
        }
      ]
    },
    {
      "cell_type": "code",
      "metadata": {
        "id": "c5TorRUeVthp",
        "colab_type": "code",
        "colab": {}
      },
      "source": [
        "#此範例需要先下載以下資料，並上傳到google雲端硬碟，使用雲端硬碟需要先授權\n",
        "#https://www.kaggle.com/c/dogs-vs-cats/data"
      ],
      "execution_count": null,
      "outputs": []
    },
    {
      "cell_type": "code",
      "metadata": {
        "id": "P4C1J9XmQdW1",
        "colab_type": "code",
        "colab": {
          "base_uri": "https://localhost:8080/",
          "height": 34
        },
        "outputId": "07756654-426a-472e-cf86-5c1a385e370f"
      },
      "source": [
        "from google.colab import drive\n",
        "drive.mount('/content/gdrive', force_remount=True)"
      ],
      "execution_count": null,
      "outputs": [
        {
          "output_type": "stream",
          "text": [
            "Mounted at /content/gdrive\n"
          ],
          "name": "stdout"
        }
      ]
    },
    {
      "cell_type": "code",
      "metadata": {
        "id": "uQgDR3m2_7KJ",
        "colab_type": "code",
        "colab": {}
      },
      "source": [
        "#貓狗圖片資料夾存放位置Colab Notebooks/Deep Learning with Python/dogs-vs-cats\n",
        "initial_dir = '/content/gdrive/My Drive/Colab Notebooks/Deep Learning with Python/dogs-vs-cats'"
      ],
      "execution_count": null,
      "outputs": []
    },
    {
      "cell_type": "code",
      "metadata": {
        "id": "6oBtvCUMQqCf",
        "colab_type": "code",
        "colab": {}
      },
      "source": [
        "import os, shutil\n",
        "\n",
        "original_dataset_dir = initial_dir + '/train/train'"
      ],
      "execution_count": null,
      "outputs": []
    },
    {
      "cell_type": "code",
      "metadata": {
        "id": "67U8dt4fRG3B",
        "colab_type": "code",
        "colab": {}
      },
      "source": [
        "#建立所需資料夾\n",
        "base_dir = initial_dir + '/cats_and_dogs_small'\n",
        "if not os.path.isdir(base_dir): os.mkdir(base_dir)"
      ],
      "execution_count": null,
      "outputs": []
    },
    {
      "cell_type": "code",
      "metadata": {
        "id": "T-dfhofSQ_1_",
        "colab_type": "code",
        "colab": {}
      },
      "source": [
        "train_dir = os.path.join(base_dir, 'train')\n",
        "if not os.path.isdir(train_dir): os.mkdir(train_dir)"
      ],
      "execution_count": null,
      "outputs": []
    },
    {
      "cell_type": "code",
      "metadata": {
        "id": "dKpzPdgnRdbg",
        "colab_type": "code",
        "colab": {}
      },
      "source": [
        "validation_dir = os.path.join(base_dir, 'validation')\n",
        "if not os.path.isdir(validation_dir): os.mkdir(validation_dir)"
      ],
      "execution_count": null,
      "outputs": []
    },
    {
      "cell_type": "code",
      "metadata": {
        "id": "nQGvJmEbRkxA",
        "colab_type": "code",
        "colab": {}
      },
      "source": [
        "test_dir = os.path.join(base_dir, 'test')\n",
        "if not os.path.isdir(test_dir): os.mkdir(test_dir)"
      ],
      "execution_count": null,
      "outputs": []
    },
    {
      "cell_type": "code",
      "metadata": {
        "id": "PamzpwDjRrnY",
        "colab_type": "code",
        "colab": {}
      },
      "source": [
        "train_cats_dir = os.path.join(train_dir, 'cats')\n",
        "if not os.path.isdir(train_cats_dir): os.mkdir(train_cats_dir)"
      ],
      "execution_count": null,
      "outputs": []
    },
    {
      "cell_type": "code",
      "metadata": {
        "id": "pLau6NlHR5YR",
        "colab_type": "code",
        "colab": {}
      },
      "source": [
        "train_dogs_dir = os.path.join(train_dir, 'dogs')\n",
        "if not os.path.isdir(train_dogs_dir): os.mkdir(train_dogs_dir)"
      ],
      "execution_count": null,
      "outputs": []
    },
    {
      "cell_type": "code",
      "metadata": {
        "id": "iDKxn5a-SrTw",
        "colab_type": "code",
        "colab": {}
      },
      "source": [
        "validation_cats_dir = os.path.join(validation_dir, 'cats')\n",
        "if not os.path.isdir(validation_cats_dir): os.mkdir(validation_cats_dir)"
      ],
      "execution_count": null,
      "outputs": []
    },
    {
      "cell_type": "code",
      "metadata": {
        "id": "TxGTngU7SzCA",
        "colab_type": "code",
        "colab": {}
      },
      "source": [
        "validation_dogs_dir = os.path.join(validation_dir, 'dogs')\n",
        "if not os.path.isdir(validation_dogs_dir): os.mkdir(validation_dogs_dir)"
      ],
      "execution_count": null,
      "outputs": []
    },
    {
      "cell_type": "code",
      "metadata": {
        "id": "UoRHrUk3S2mY",
        "colab_type": "code",
        "colab": {}
      },
      "source": [
        "test_cats_dir = os.path.join(test_dir, 'cats')\n",
        "if not os.path.isdir(test_cats_dir): os.mkdir(test_cats_dir)"
      ],
      "execution_count": null,
      "outputs": []
    },
    {
      "cell_type": "code",
      "metadata": {
        "id": "HAIY2uvpTFsw",
        "colab_type": "code",
        "colab": {}
      },
      "source": [
        "test_dogs_dir = os.path.join(test_dir, 'dogs')\n",
        "if not os.path.isdir(test_dogs_dir): os.mkdir(test_dogs_dir)"
      ],
      "execution_count": null,
      "outputs": []
    },
    {
      "cell_type": "code",
      "metadata": {
        "id": "LnM0Uxz-dc3l",
        "colab_type": "code",
        "colab": {}
      },
      "source": [
        "#複製圖片到各資料夾(此部分使用雲端硬碟需要執行較久時間)\n",
        "fnames = ['cat.{}.jpg'.format(i) for i in range(1000)]\n",
        "for fname in fnames:\n",
        "    src = os.path.join(original_dataset_dir, fname)\n",
        "    dst = os.path.join(train_cats_dir, fname)\n",
        "    shutil.copyfile(src, dst)"
      ],
      "execution_count": null,
      "outputs": []
    },
    {
      "cell_type": "code",
      "metadata": {
        "id": "MHHaUdhyd4ho",
        "colab_type": "code",
        "colab": {}
      },
      "source": [
        "fnames = ['cat.{}.jpg'.format(i) for i in range(1000, 1500)]\n",
        "for fname in fnames:\n",
        "    src = os.path.join(original_dataset_dir, fname)\n",
        "    dst = os.path.join(validation_cats_dir, fname)\n",
        "    shutil.copyfile(src, dst)"
      ],
      "execution_count": null,
      "outputs": []
    },
    {
      "cell_type": "code",
      "metadata": {
        "id": "IesalJxgd93g",
        "colab_type": "code",
        "colab": {}
      },
      "source": [
        "fnames = ['cat.{}.jpg'.format(i) for i in range(1500, 2000)]\n",
        "for fname in fnames:\n",
        "    src = os.path.join(original_dataset_dir, fname)\n",
        "    dst = os.path.join(test_cats_dir, fname)\n",
        "    shutil.copyfile(src, dst)"
      ],
      "execution_count": null,
      "outputs": []
    },
    {
      "cell_type": "code",
      "metadata": {
        "id": "l1ytuLOAeD3f",
        "colab_type": "code",
        "colab": {}
      },
      "source": [
        "fnames = ['dog.{}.jpg'.format(i) for i in range(1000)]\n",
        "for fname in fnames:\n",
        "    src = os.path.join(original_dataset_dir, fname)\n",
        "    dst = os.path.join(train_dogs_dir, fname)\n",
        "    shutil.copyfile(src, dst)"
      ],
      "execution_count": null,
      "outputs": []
    },
    {
      "cell_type": "code",
      "metadata": {
        "id": "drvCyacieNGn",
        "colab_type": "code",
        "colab": {}
      },
      "source": [
        "fnames = ['dog.{}.jpg'.format(i) for i in range(1000, 1500)]\n",
        "for fname in fnames:\n",
        "    src = os.path.join(original_dataset_dir, fname)\n",
        "    dst = os.path.join(validation_dogs_dir, fname)\n",
        "    shutil.copyfile(src, dst)"
      ],
      "execution_count": null,
      "outputs": []
    },
    {
      "cell_type": "code",
      "metadata": {
        "id": "GEnmlXxYeNP3",
        "colab_type": "code",
        "colab": {}
      },
      "source": [
        "fnames = ['dog.{}.jpg'.format(i) for i in range(1500, 2000)]\n",
        "for fname in fnames:\n",
        "    src = os.path.join(original_dataset_dir, fname)\n",
        "    dst = os.path.join(test_dogs_dir, fname)\n",
        "    shutil.copyfile(src, dst)"
      ],
      "execution_count": null,
      "outputs": []
    },
    {
      "cell_type": "code",
      "metadata": {
        "id": "Ig5vOn2SeUmo",
        "colab_type": "code",
        "colab": {
          "base_uri": "https://localhost:8080/",
          "height": 119
        },
        "outputId": "9377a830-01a0-4c18-b1ff-de6cb772af44"
      },
      "source": [
        "print('訓練用的貓圖片張數：', len(os.listdir(train_cats_dir)))\n",
        "print('訓練用的狗圖片張數：', len(os.listdir(train_dogs_dir)))\n",
        "print('驗證用的貓圖片張數：', len(os.listdir(validation_cats_dir)))\n",
        "print('驗證用的狗圖片張數：', len(os.listdir(validation_dogs_dir)))\n",
        "print('測試用的貓圖片張數：', len(os.listdir(test_cats_dir)))\n",
        "print('測試用的狗圖片張數：', len(os.listdir(test_dogs_dir)))"
      ],
      "execution_count": null,
      "outputs": [
        {
          "output_type": "stream",
          "text": [
            "訓練用的貓圖片張數： 1000\n",
            "訓練用的狗圖片張數： 1000\n",
            "驗證用的貓圖片張數： 500\n",
            "驗證用的狗圖片張數： 500\n",
            "測試用的貓圖片張數： 500\n",
            "測試用的狗圖片張數： 500\n"
          ],
          "name": "stdout"
        }
      ]
    },
    {
      "cell_type": "code",
      "metadata": {
        "id": "2uGTaVtRhmQK",
        "colab_type": "code",
        "colab": {}
      },
      "source": [
        "from tensorflow.keras import layers\n",
        "from tensorflow.keras import models"
      ],
      "execution_count": null,
      "outputs": []
    },
    {
      "cell_type": "code",
      "metadata": {
        "id": "0_GvaBNOpkOx",
        "colab_type": "code",
        "colab": {
          "base_uri": "https://localhost:8080/",
          "height": 88
        },
        "outputId": "eed5420d-79ae-4670-a4c3-9d396dc2c493"
      },
      "source": [
        "#建立神經網路\n",
        "model = models.Sequential()\n",
        "model.add(layers.Conv2D(32, (3, 3), activation='relu', input_shape=(150, 150, 3)))\n",
        "model.add(layers.MaxPooling2D((2, 2)))\n",
        "model.add(layers.Conv2D(64, (3, 3), activation='relu'))\n",
        "model.add(layers.MaxPooling2D(2, 2))\n",
        "model.add(layers.Conv2D(128, (3, 3), activation='relu'))\n",
        "model.add(layers.MaxPooling2D(2, 2))\n",
        "model.add(layers.Conv2D(128, (3, 3), activation='relu'))\n",
        "model.add(layers.MaxPooling2D(2, 2))\n",
        "model.add(layers.Flatten())\n",
        "model.add(layers.Dense(512, activation='relu'))\n",
        "model.add(layers.Dense(1, activation='sigmoid'))"
      ],
      "execution_count": null,
      "outputs": [
        {
          "output_type": "stream",
          "text": [
            "WARNING:tensorflow:From /tensorflow-1.15.2/python3.6/tensorflow_core/python/ops/resource_variable_ops.py:1630: calling BaseResourceVariable.__init__ (from tensorflow.python.ops.resource_variable_ops) with constraint is deprecated and will be removed in a future version.\n",
            "Instructions for updating:\n",
            "If using Keras pass *_constraint arguments to layers.\n"
          ],
          "name": "stdout"
        }
      ]
    },
    {
      "cell_type": "code",
      "metadata": {
        "id": "M1p39PWAp1Bt",
        "colab_type": "code",
        "colab": {
          "base_uri": "https://localhost:8080/",
          "height": 68
        },
        "outputId": "0eb7180f-7941-4923-8dcc-063759d86d18"
      },
      "source": [
        "from tensorflow.keras import optimizers\n",
        "\n",
        "model.compile(loss='binary_crossentropy', optimizer=optimizers.RMSprop(lr=1e-4), metrics=['acc'])"
      ],
      "execution_count": null,
      "outputs": [
        {
          "output_type": "stream",
          "text": [
            "WARNING:tensorflow:From /tensorflow-1.15.2/python3.6/tensorflow_core/python/ops/nn_impl.py:183: where (from tensorflow.python.ops.array_ops) is deprecated and will be removed in a future version.\n",
            "Instructions for updating:\n",
            "Use tf.where in 2.0, which has the same broadcast rule as np.where\n"
          ],
          "name": "stdout"
        }
      ]
    },
    {
      "cell_type": "code",
      "metadata": {
        "id": "HFjIjmtiqF1O",
        "colab_type": "code",
        "colab": {}
      },
      "source": [
        "from tensorflow.keras.preprocessing.image import ImageDataGenerator"
      ],
      "execution_count": null,
      "outputs": []
    },
    {
      "cell_type": "code",
      "metadata": {
        "id": "7OvJKtZHsZ0r",
        "colab_type": "code",
        "colab": {
          "base_uri": "https://localhost:8080/",
          "height": 51
        },
        "outputId": "6b7681ee-c6f1-4956-a703-93d1f79ca3ca"
      },
      "source": [
        "#資料預處理並建立圖片產生器\n",
        "train_datagen = ImageDataGenerator(rescale=1./255)\n",
        "validation_datagen = ImageDataGenerator(rescale=1./255)\n",
        "\n",
        "train_generator = train_datagen.flow_from_directory(train_dir, target_size=(150, 150), batch_size=20, class_mode='binary')\n",
        "validation_generator = validation_datagen.flow_from_directory(validation_dir, target_size=(150, 150), batch_size=20, class_mode='binary')"
      ],
      "execution_count": null,
      "outputs": [
        {
          "output_type": "stream",
          "text": [
            "Found 2000 images belonging to 2 classes.\n",
            "Found 1000 images belonging to 2 classes.\n"
          ],
          "name": "stdout"
        }
      ]
    },
    {
      "cell_type": "code",
      "metadata": {
        "id": "5sNYZiMVtPL-",
        "colab_type": "code",
        "colab": {
          "base_uri": "https://localhost:8080/",
          "height": 1000
        },
        "outputId": "cd7c1a32-e9f5-4ec5-c08e-77dba41054f0"
      },
      "source": [
        "#開始訓練\n",
        "history = model.fit_generator(train_generator, steps_per_epoch=100, epochs=30, validation_data=validation_generator, validation_steps=50)"
      ],
      "execution_count": null,
      "outputs": [
        {
          "output_type": "stream",
          "text": [
            "Epoch 1/30\n",
            " 99/100 [============================>.] - ETA: 0s - loss: 0.6969 - acc: 0.5222Epoch 1/30\n",
            "100/100 [==============================] - 23s 228ms/step - loss: 0.6966 - acc: 0.5245 - val_loss: 0.6830 - val_acc: 0.5070\n",
            "Epoch 2/30\n",
            " 99/100 [============================>.] - ETA: 0s - loss: 0.6655 - acc: 0.5990Epoch 1/30\n",
            "100/100 [==============================] - 16s 157ms/step - loss: 0.6652 - acc: 0.6015 - val_loss: 0.6501 - val_acc: 0.6350\n",
            "Epoch 3/30\n",
            " 99/100 [============================>.] - ETA: 0s - loss: 0.6162 - acc: 0.6601Epoch 1/30\n",
            "100/100 [==============================] - 16s 158ms/step - loss: 0.6159 - acc: 0.6600 - val_loss: 0.6306 - val_acc: 0.6340\n",
            "Epoch 4/30\n",
            " 99/100 [============================>.] - ETA: 0s - loss: 0.5725 - acc: 0.7051Epoch 1/30\n",
            "100/100 [==============================] - 16s 160ms/step - loss: 0.5718 - acc: 0.7055 - val_loss: 0.5966 - val_acc: 0.6770\n",
            "Epoch 5/30\n",
            " 99/100 [============================>.] - ETA: 0s - loss: 0.5438 - acc: 0.7202Epoch 1/30\n",
            "100/100 [==============================] - 16s 163ms/step - loss: 0.5430 - acc: 0.7205 - val_loss: 0.6155 - val_acc: 0.6570\n",
            "Epoch 6/30\n",
            " 99/100 [============================>.] - ETA: 0s - loss: 0.5115 - acc: 0.7525Epoch 1/30\n",
            "100/100 [==============================] - 16s 158ms/step - loss: 0.5114 - acc: 0.7520 - val_loss: 0.5759 - val_acc: 0.6870\n",
            "Epoch 7/30\n",
            " 99/100 [============================>.] - ETA: 0s - loss: 0.4784 - acc: 0.7677Epoch 1/30\n",
            "100/100 [==============================] - 16s 160ms/step - loss: 0.4782 - acc: 0.7680 - val_loss: 0.5866 - val_acc: 0.6860\n",
            "Epoch 8/30\n",
            " 99/100 [============================>.] - ETA: 0s - loss: 0.4478 - acc: 0.8010Epoch 1/30\n",
            "100/100 [==============================] - 16s 158ms/step - loss: 0.4462 - acc: 0.8030 - val_loss: 0.6035 - val_acc: 0.6850\n",
            "Epoch 9/30\n",
            " 99/100 [============================>.] - ETA: 0s - loss: 0.4223 - acc: 0.8035Epoch 1/30\n",
            "100/100 [==============================] - 16s 156ms/step - loss: 0.4223 - acc: 0.8035 - val_loss: 0.5612 - val_acc: 0.7080\n",
            "Epoch 10/30\n",
            " 99/100 [============================>.] - ETA: 0s - loss: 0.3965 - acc: 0.8222Epoch 1/30\n",
            "100/100 [==============================] - 16s 160ms/step - loss: 0.3966 - acc: 0.8215 - val_loss: 0.5706 - val_acc: 0.7220\n",
            "Epoch 11/30\n",
            " 99/100 [============================>.] - ETA: 0s - loss: 0.3711 - acc: 0.8404Epoch 1/30\n",
            "100/100 [==============================] - 16s 159ms/step - loss: 0.3706 - acc: 0.8405 - val_loss: 0.5751 - val_acc: 0.7160\n",
            "Epoch 12/30\n",
            " 99/100 [============================>.] - ETA: 0s - loss: 0.3462 - acc: 0.8490Epoch 1/30\n",
            "100/100 [==============================] - 16s 158ms/step - loss: 0.3476 - acc: 0.8490 - val_loss: 0.6417 - val_acc: 0.6870\n",
            "Epoch 13/30\n",
            " 99/100 [============================>.] - ETA: 0s - loss: 0.3218 - acc: 0.8606Epoch 1/30\n",
            "100/100 [==============================] - 16s 159ms/step - loss: 0.3229 - acc: 0.8600 - val_loss: 0.6084 - val_acc: 0.7160\n",
            "Epoch 14/30\n",
            " 99/100 [============================>.] - ETA: 0s - loss: 0.2930 - acc: 0.8758Epoch 1/30\n",
            "100/100 [==============================] - 16s 157ms/step - loss: 0.2938 - acc: 0.8750 - val_loss: 0.6493 - val_acc: 0.7010\n",
            "Epoch 15/30\n",
            " 99/100 [============================>.] - ETA: 0s - loss: 0.2660 - acc: 0.8955Epoch 1/30\n",
            "100/100 [==============================] - 16s 157ms/step - loss: 0.2666 - acc: 0.8950 - val_loss: 0.6048 - val_acc: 0.7250\n",
            "Epoch 16/30\n",
            " 99/100 [============================>.] - ETA: 0s - loss: 0.2503 - acc: 0.9005Epoch 1/30\n",
            "100/100 [==============================] - 16s 161ms/step - loss: 0.2495 - acc: 0.9015 - val_loss: 0.6891 - val_acc: 0.7050\n",
            "Epoch 17/30\n",
            " 99/100 [============================>.] - ETA: 0s - loss: 0.2211 - acc: 0.9106Epoch 1/30\n",
            "100/100 [==============================] - 16s 157ms/step - loss: 0.2203 - acc: 0.9115 - val_loss: 0.7381 - val_acc: 0.7100\n",
            "Epoch 18/30\n",
            " 99/100 [============================>.] - ETA: 0s - loss: 0.2003 - acc: 0.9242Epoch 1/30\n",
            "100/100 [==============================] - 17s 168ms/step - loss: 0.2004 - acc: 0.9245 - val_loss: 0.6666 - val_acc: 0.7170\n",
            "Epoch 19/30\n",
            " 99/100 [============================>.] - ETA: 0s - loss: 0.1796 - acc: 0.9283Epoch 1/30\n",
            "100/100 [==============================] - 16s 158ms/step - loss: 0.1808 - acc: 0.9280 - val_loss: 0.8039 - val_acc: 0.6900\n",
            "Epoch 20/30\n",
            " 99/100 [============================>.] - ETA: 0s - loss: 0.1584 - acc: 0.9379Epoch 1/30\n",
            "100/100 [==============================] - 16s 158ms/step - loss: 0.1584 - acc: 0.9385 - val_loss: 0.7167 - val_acc: 0.7250\n",
            "Epoch 21/30\n",
            " 99/100 [============================>.] - ETA: 0s - loss: 0.1398 - acc: 0.9530Epoch 1/30\n",
            "100/100 [==============================] - 16s 155ms/step - loss: 0.1394 - acc: 0.9535 - val_loss: 0.8024 - val_acc: 0.7100\n",
            "Epoch 22/30\n",
            " 99/100 [============================>.] - ETA: 0s - loss: 0.1179 - acc: 0.9616Epoch 1/30\n",
            "100/100 [==============================] - 16s 156ms/step - loss: 0.1180 - acc: 0.9615 - val_loss: 0.8789 - val_acc: 0.7150\n",
            "Epoch 23/30\n",
            " 99/100 [============================>.] - ETA: 0s - loss: 0.1025 - acc: 0.9682Epoch 1/30\n",
            "100/100 [==============================] - 16s 157ms/step - loss: 0.1021 - acc: 0.9685 - val_loss: 0.9018 - val_acc: 0.7090\n",
            "Epoch 24/30\n",
            " 99/100 [============================>.] - ETA: 0s - loss: 0.0866 - acc: 0.9773Epoch 1/30\n",
            "100/100 [==============================] - 16s 161ms/step - loss: 0.0862 - acc: 0.9775 - val_loss: 0.8849 - val_acc: 0.7250\n",
            "Epoch 25/30\n",
            " 99/100 [============================>.] - ETA: 0s - loss: 0.0763 - acc: 0.9737Epoch 1/30\n",
            "100/100 [==============================] - 16s 160ms/step - loss: 0.0764 - acc: 0.9735 - val_loss: 0.9100 - val_acc: 0.7090\n",
            "Epoch 26/30\n",
            " 99/100 [============================>.] - ETA: 0s - loss: 0.0670 - acc: 0.9808Epoch 1/30\n",
            "100/100 [==============================] - 16s 155ms/step - loss: 0.0666 - acc: 0.9810 - val_loss: 0.9298 - val_acc: 0.7170\n",
            "Epoch 27/30\n",
            " 99/100 [============================>.] - ETA: 0s - loss: 0.0515 - acc: 0.9879Epoch 1/30\n",
            "100/100 [==============================] - 16s 156ms/step - loss: 0.0511 - acc: 0.9880 - val_loss: 1.0066 - val_acc: 0.7130\n",
            "Epoch 28/30\n",
            " 99/100 [============================>.] - ETA: 0s - loss: 0.0453 - acc: 0.9889Epoch 1/30\n",
            "100/100 [==============================] - 15s 155ms/step - loss: 0.0457 - acc: 0.9885 - val_loss: 1.0666 - val_acc: 0.7060\n",
            "Epoch 29/30\n",
            " 99/100 [============================>.] - ETA: 0s - loss: 0.0356 - acc: 0.9904Epoch 1/30\n",
            "100/100 [==============================] - 15s 155ms/step - loss: 0.0354 - acc: 0.9905 - val_loss: 1.1519 - val_acc: 0.7300\n",
            "Epoch 30/30\n",
            " 99/100 [============================>.] - ETA: 0s - loss: 0.0449 - acc: 0.9854Epoch 1/30\n",
            "100/100 [==============================] - 16s 156ms/step - loss: 0.0453 - acc: 0.9855 - val_loss: 1.1143 - val_acc: 0.7240\n"
          ],
          "name": "stdout"
        }
      ]
    },
    {
      "cell_type": "code",
      "metadata": {
        "id": "uGSegGjktq3w",
        "colab_type": "code",
        "colab": {}
      },
      "source": [
        "#儲存模型\n",
        "model.save(initial_dir + '/cats_and_dogs_small_1.h5')"
      ],
      "execution_count": null,
      "outputs": []
    },
    {
      "cell_type": "code",
      "metadata": {
        "id": "RVqcyuRHtyV_",
        "colab_type": "code",
        "colab": {
          "base_uri": "https://localhost:8080/",
          "height": 545
        },
        "outputId": "cb5e8c35-0129-4f07-b7af-52264bdf67a5"
      },
      "source": [
        "#顯示訓練和驗證週期的損失值和準確度曲線\n",
        "import matplotlib.pyplot as plt\n",
        "\n",
        "acc = history.history['acc']\n",
        "val_acc = history.history['val_acc']\n",
        "loss = history.history['loss']\n",
        "val_loss = history.history['val_loss']\n",
        "\n",
        "epochs = range(1, len(acc) + 1)\n",
        "\n",
        "plt.plot(epochs, acc, 'bo', label='Training acc')\n",
        "plt.plot(epochs, val_acc, 'b', label='Validation acc')\n",
        "plt.title('Training and validation accuracy')\n",
        "plt.legend()\n",
        "\n",
        "plt.figure()\n",
        "\n",
        "plt.plot(epochs, loss, 'bo', label='Training loss')\n",
        "plt.plot(epochs, val_loss, 'b', label='Validation loss')\n",
        "plt.title('Training and validation loss')\n",
        "plt.legend()\n",
        "\n",
        "plt.show()"
      ],
      "execution_count": null,
      "outputs": [
        {
          "output_type": "display_data",
          "data": {
            "image/png": "[encoded data removed]",
            "text/plain": [
              "<Figure size 432x288 with 1 Axes>"
            ]
          },
          "metadata": {
            "tags": [],
            "needs_background": "light"
          }
        },
        {
          "output_type": "display_data",
          "data": {
            "image/png": "[encoded data removed]",
            "text/plain": [
              "<Figure size 432x288 with 1 Axes>"
            ]
          },
          "metadata": {
            "tags": [],
            "needs_background": "light"
          }
        }
      ]
    },
    {
      "cell_type": "code",
      "metadata": {
        "id": "IZ4nYmXJTa1p",
        "colab_type": "code",
        "colab": {}
      },
      "source": [
        "#定義具有Dropout層的新卷積神經網路\n",
        "model = models.Sequential()\n",
        "model.add(layers.Conv2D(32, (3, 3), activation='relu', input_shape=(150, 150, 3)))\n",
        "model.add(layers.MaxPooling2D((2, 2)))\n",
        "model.add(layers.Conv2D(64, (3, 3), activation='relu'))\n",
        "model.add(layers.MaxPooling2D(2, 2))\n",
        "model.add(layers.Conv2D(128, (3, 3), activation='relu'))\n",
        "model.add(layers.MaxPooling2D(2, 2))\n",
        "model.add(layers.Conv2D(128, (3, 3), activation='relu'))\n",
        "model.add(layers.MaxPooling2D(2, 2))\n",
        "model.add(layers.Flatten())\n",
        "model.add(layers.Dropout(0.5)) #加入Dropout\n",
        "model.add(layers.Dense(512, activation='relu'))\n",
        "model.add(layers.Dense(1, activation='sigmoid'))\n",
        "\n",
        "model.compile(loss='binary_crossentropy', optimizer=optimizers.RMSprop(lr=1e-4), metrics=['acc'])"
      ],
      "execution_count": null,
      "outputs": []
    },
    {
      "cell_type": "code",
      "metadata": {
        "id": "51END_VtTrqV",
        "colab_type": "code",
        "colab": {
          "base_uri": "https://localhost:8080/",
          "height": 1000
        },
        "outputId": "8ac78f6f-c0ea-4210-85a0-ebb5d251e96b"
      },
      "source": [
        "#使用資料擴增\n",
        "train_datagen = ImageDataGenerator(rescale=1./255, rotation_range=40, \n",
        "                                   width_shift_range=0.2, height_shift_range=0.2, \n",
        "                                   shear_range=0.5, zoom_range=0.2, horizontal_flip=True)\n",
        "validation_datagen = ImageDataGenerator(rescale=1./255)\n",
        "\n",
        "train_generator = train_datagen.flow_from_directory(train_dir, target_size=(150, 150), batch_size=20, class_mode='binary')\n",
        "validation_generator = validation_datagen.flow_from_directory(validation_dir, target_size=(150, 150), batch_size=20, class_mode='binary')\n",
        "\n",
        "history = model.fit_generator(train_generator, steps_per_epoch=100, epochs=30, validation_data=validation_generator, validation_steps=50)"
      ],
      "execution_count": null,
      "outputs": [
        {
          "output_type": "stream",
          "text": [
            "Found 2000 images belonging to 2 classes.\n",
            "Found 1000 images belonging to 2 classes.\n",
            "Epoch 1/30\n",
            " 99/100 [============================>.] - ETA: 0s - loss: 0.6946 - acc: 0.5197Epoch 1/30\n",
            "100/100 [==============================] - 29s 288ms/step - loss: 0.6950 - acc: 0.5185 - val_loss: 0.6874 - val_acc: 0.5000\n",
            "Epoch 2/30\n",
            " 99/100 [============================>.] - ETA: 0s - loss: 0.6875 - acc: 0.5444Epoch 1/30\n",
            "100/100 [==============================] - 26s 258ms/step - loss: 0.6878 - acc: 0.5435 - val_loss: 0.6724 - val_acc: 0.5750\n",
            "Epoch 3/30\n",
            " 99/100 [============================>.] - ETA: 0s - loss: 0.6838 - acc: 0.5576Epoch 1/30\n",
            "100/100 [==============================] - 26s 256ms/step - loss: 0.6838 - acc: 0.5570 - val_loss: 0.6624 - val_acc: 0.5940\n",
            "Epoch 4/30\n",
            " 99/100 [============================>.] - ETA: 0s - loss: 0.6779 - acc: 0.5828Epoch 1/30\n",
            "100/100 [==============================] - 26s 258ms/step - loss: 0.6779 - acc: 0.5830 - val_loss: 0.6627 - val_acc: 0.5700\n",
            "Epoch 5/30\n",
            " 99/100 [============================>.] - ETA: 0s - loss: 0.6679 - acc: 0.5909Epoch 1/30\n",
            "100/100 [==============================] - 27s 270ms/step - loss: 0.6674 - acc: 0.5920 - val_loss: 0.6369 - val_acc: 0.6290\n",
            "Epoch 6/30\n",
            " 99/100 [============================>.] - ETA: 0s - loss: 0.6525 - acc: 0.6177Epoch 1/30\n",
            "100/100 [==============================] - 26s 260ms/step - loss: 0.6528 - acc: 0.6160 - val_loss: 0.6313 - val_acc: 0.6390\n",
            "Epoch 7/30\n",
            " 99/100 [============================>.] - ETA: 0s - loss: 0.6283 - acc: 0.6389Epoch 1/30\n",
            "100/100 [==============================] - 26s 259ms/step - loss: 0.6285 - acc: 0.6375 - val_loss: 0.6062 - val_acc: 0.6660\n",
            "Epoch 8/30\n",
            " 99/100 [============================>.] - ETA: 0s - loss: 0.6191 - acc: 0.6490Epoch 1/30\n",
            "100/100 [==============================] - 26s 264ms/step - loss: 0.6187 - acc: 0.6490 - val_loss: 0.5935 - val_acc: 0.6780\n",
            "Epoch 9/30\n",
            " 99/100 [============================>.] - ETA: 0s - loss: 0.6005 - acc: 0.6843Epoch 1/30\n",
            "100/100 [==============================] - 26s 258ms/step - loss: 0.6003 - acc: 0.6840 - val_loss: 0.5816 - val_acc: 0.6960\n",
            "Epoch 10/30\n",
            " 99/100 [============================>.] - ETA: 0s - loss: 0.6040 - acc: 0.6727Epoch 1/30\n",
            "100/100 [==============================] - 26s 259ms/step - loss: 0.6038 - acc: 0.6735 - val_loss: 0.5665 - val_acc: 0.7130\n",
            "Epoch 11/30\n",
            " 99/100 [============================>.] - ETA: 0s - loss: 0.6006 - acc: 0.6763Epoch 1/30\n",
            "100/100 [==============================] - 26s 257ms/step - loss: 0.5996 - acc: 0.6775 - val_loss: 0.6756 - val_acc: 0.6310\n",
            "Epoch 12/30\n",
            " 99/100 [============================>.] - ETA: 0s - loss: 0.5974 - acc: 0.6783Epoch 1/30\n",
            "100/100 [==============================] - 26s 258ms/step - loss: 0.5987 - acc: 0.6775 - val_loss: 0.5598 - val_acc: 0.7000\n",
            "Epoch 13/30\n",
            " 99/100 [============================>.] - ETA: 0s - loss: 0.5784 - acc: 0.6864Epoch 1/30\n",
            "100/100 [==============================] - 26s 261ms/step - loss: 0.5785 - acc: 0.6870 - val_loss: 0.5490 - val_acc: 0.7030\n",
            "Epoch 14/30\n",
            " 99/100 [============================>.] - ETA: 0s - loss: 0.5810 - acc: 0.7005Epoch 1/30\n",
            "100/100 [==============================] - 26s 259ms/step - loss: 0.5808 - acc: 0.7000 - val_loss: 0.5566 - val_acc: 0.6980\n",
            "Epoch 15/30\n",
            " 99/100 [============================>.] - ETA: 0s - loss: 0.5776 - acc: 0.6828Epoch 1/30\n",
            "100/100 [==============================] - 26s 259ms/step - loss: 0.5799 - acc: 0.6810 - val_loss: 0.5437 - val_acc: 0.7060\n",
            "Epoch 16/30\n",
            " 99/100 [============================>.] - ETA: 0s - loss: 0.5732 - acc: 0.6869Epoch 1/30\n",
            "100/100 [==============================] - 26s 259ms/step - loss: 0.5735 - acc: 0.6860 - val_loss: 0.5299 - val_acc: 0.7240\n",
            "Epoch 17/30\n",
            " 99/100 [============================>.] - ETA: 0s - loss: 0.5574 - acc: 0.7141Epoch 1/30\n",
            "100/100 [==============================] - 27s 271ms/step - loss: 0.5583 - acc: 0.7130 - val_loss: 0.6201 - val_acc: 0.6370\n",
            "Epoch 18/30\n",
            " 99/100 [============================>.] - ETA: 0s - loss: 0.5625 - acc: 0.7086Epoch 1/30\n",
            "100/100 [==============================] - 26s 261ms/step - loss: 0.5609 - acc: 0.7095 - val_loss: 0.5931 - val_acc: 0.6990\n",
            "Epoch 19/30\n",
            " 99/100 [============================>.] - ETA: 0s - loss: 0.5426 - acc: 0.7227Epoch 1/30\n",
            "100/100 [==============================] - 26s 259ms/step - loss: 0.5439 - acc: 0.7225 - val_loss: 0.5325 - val_acc: 0.7140\n",
            "Epoch 20/30\n",
            " 99/100 [============================>.] - ETA: 0s - loss: 0.5605 - acc: 0.7091Epoch 1/30\n",
            "100/100 [==============================] - 26s 264ms/step - loss: 0.5593 - acc: 0.7100 - val_loss: 0.5297 - val_acc: 0.7170\n",
            "Epoch 21/30\n",
            " 99/100 [============================>.] - ETA: 0s - loss: 0.5442 - acc: 0.7298Epoch 1/30\n",
            "100/100 [==============================] - 26s 259ms/step - loss: 0.5438 - acc: 0.7305 - val_loss: 0.5047 - val_acc: 0.7420\n",
            "Epoch 22/30\n",
            " 99/100 [============================>.] - ETA: 0s - loss: 0.5359 - acc: 0.7323Epoch 1/30\n",
            "100/100 [==============================] - 26s 259ms/step - loss: 0.5387 - acc: 0.7305 - val_loss: 0.5160 - val_acc: 0.7360\n",
            "Epoch 23/30\n",
            " 99/100 [============================>.] - ETA: 0s - loss: 0.5459 - acc: 0.7227Epoch 1/30\n",
            "100/100 [==============================] - 26s 259ms/step - loss: 0.5456 - acc: 0.7230 - val_loss: 0.5198 - val_acc: 0.7300\n",
            "Epoch 24/30\n",
            " 99/100 [============================>.] - ETA: 0s - loss: 0.5408 - acc: 0.7293Epoch 1/30\n",
            "100/100 [==============================] - 26s 261ms/step - loss: 0.5401 - acc: 0.7300 - val_loss: 0.5425 - val_acc: 0.7330\n",
            "Epoch 25/30\n",
            " 99/100 [============================>.] - ETA: 0s - loss: 0.5305 - acc: 0.7419Epoch 1/30\n",
            "100/100 [==============================] - 26s 259ms/step - loss: 0.5331 - acc: 0.7415 - val_loss: 0.5218 - val_acc: 0.7310\n",
            "Epoch 26/30\n",
            " 99/100 [============================>.] - ETA: 0s - loss: 0.5244 - acc: 0.7369Epoch 1/30\n",
            "100/100 [==============================] - 26s 258ms/step - loss: 0.5260 - acc: 0.7355 - val_loss: 0.5635 - val_acc: 0.6980\n",
            "Epoch 27/30\n",
            " 99/100 [============================>.] - ETA: 0s - loss: 0.5128 - acc: 0.7444Epoch 1/30\n",
            "100/100 [==============================] - 26s 257ms/step - loss: 0.5140 - acc: 0.7435 - val_loss: 0.4962 - val_acc: 0.7440\n",
            "Epoch 28/30\n",
            " 99/100 [============================>.] - ETA: 0s - loss: 0.5194 - acc: 0.7419Epoch 1/30\n",
            "100/100 [==============================] - 26s 262ms/step - loss: 0.5191 - acc: 0.7415 - val_loss: 0.4927 - val_acc: 0.7500\n",
            "Epoch 29/30\n",
            " 99/100 [============================>.] - ETA: 0s - loss: 0.5105 - acc: 0.7465Epoch 1/30\n",
            "100/100 [==============================] - 27s 268ms/step - loss: 0.5089 - acc: 0.7470 - val_loss: 0.5774 - val_acc: 0.7170\n",
            "Epoch 30/30\n",
            " 99/100 [============================>.] - ETA: 0s - loss: 0.5064 - acc: 0.7439Epoch 1/30\n",
            "100/100 [==============================] - 26s 261ms/step - loss: 0.5050 - acc: 0.7445 - val_loss: 0.5501 - val_acc: 0.7190\n"
          ],
          "name": "stdout"
        }
      ]
    },
    {
      "cell_type": "code",
      "metadata": {
        "id": "tqk1j7WxUSYW",
        "colab_type": "code",
        "colab": {}
      },
      "source": [
        "#儲存模型\n",
        "model.save(initial_dir + '/cats_and_dogs_small_2.h5')"
      ],
      "execution_count": null,
      "outputs": []
    },
    {
      "cell_type": "code",
      "metadata": {
        "id": "co3GjFW5UkRA",
        "colab_type": "code",
        "colab": {
          "base_uri": "https://localhost:8080/",
          "height": 545
        },
        "outputId": "ed5e599e-49f1-4b0f-f12f-78191dc0dfff"
      },
      "source": [
        "#顯示訓練和驗證週期的損失值和準確度曲線\n",
        "acc = history.history['acc']\n",
        "val_acc = history.history['val_acc']\n",
        "loss = history.history['loss']\n",
        "val_loss = history.history['val_loss']\n",
        "\n",
        "epochs = range(1, len(acc) + 1)\n",
        "\n",
        "plt.plot(epochs, acc, 'bo', label='Training acc')\n",
        "plt.plot(epochs, val_acc, 'b', label='Validation acc')\n",
        "plt.title('Training and validation accuracy')\n",
        "plt.legend()\n",
        "\n",
        "plt.figure()\n",
        "\n",
        "plt.plot(epochs, loss, 'bo', label='Training loss')\n",
        "plt.plot(epochs, val_loss, 'b', label='Validation loss')\n",
        "plt.title('Training and validation loss')\n",
        "plt.legend()\n",
        "\n",
        "plt.show()"
      ],
      "execution_count": null,
      "outputs": [
        {
          "output_type": "display_data",
          "data": {
            "image/png": "[encoded data removed]",
            "text/plain": [
              "<Figure size 432x288 with 1 Axes>"
            ]
          },
          "metadata": {
            "tags": [],
            "needs_background": "light"
          }
        },
        {
          "output_type": "display_data",
          "data": {
            "image/png": "[encoded data removed]",
            "text/plain": [
              "<Figure size 432x288 with 1 Axes>"
            ]
          },
          "metadata": {
            "tags": [],
            "needs_background": "light"
          }
        }
      ]
    }
  ]
}